{
  "cells": [
    {
      "cell_type": "markdown",
      "metadata": {
        "id": "t5AWTtpxbGIN"
      },
      "source": [
        "# Python Introduction\n",
        "\n",
        "**What is Python?**\n",
        "- Python is a computer programming language developed by 'Guido Van Rossum' often used to build websites and software automate takes and conduct data analysis originally released in 1991.\n",
        "- Python has a  simple syntax simmillar to the english language ,designes be well as fun.\n",
        "- Python is easy to understand language that feels like reading simple english.This pursue mode nature of python makes it easy to learn and understable to beginners.\n",
        "\n",
        "\n",
        "**What is Python Language?**\n",
        "- Python is a high level programming language.\n",
        "- Python is GPL(General purpose programming language).\n",
        "- Python is dynamically typed.\n",
        "\n",
        "**What is Programming?**\n",
        "- just like we use hindi and english to communicate with each other,we use programming language like python to communicate with the computer programming is way to instruct the computer to perfect various tasks.\n",
        "\n",
        "* Python IDE(Integrated Development Environment):\n",
        "- An IDE provides a dedicated environment for writing and executing Python code.\n",
        "- Examples of Python IDEs include Jupyter Notebook and Spyder.\n",
        "\n",
        "**Python Libraries:**\n",
        "- Python offers various libraries that are essential for different tasks, such as machine learning. Libraries like NumPy, SciPy, Pandas, and Matplotlib are used for such applications.\n",
        "\n",
        "\n"
      ]
    },
    {
      "cell_type": "markdown",
      "metadata": {
        "id": "MTaPKXxPIkeF"
      },
      "source": [
        "#**Python Statement & Comments**\n",
        "# Types of Comments:\n",
        "\n",
        "1.   Single Line Comment\n",
        "2.   Mutiline Comment\n",
        "3.   Docsring\n",
        "\n",
        "\n",
        "\n",
        "\n"
      ]
    },
    {
      "cell_type": "code",
      "execution_count": null,
      "metadata": {
        "colab": {
          "base_uri": "https://localhost:8080/"
        },
        "id": "JbYF4AZuI7O4",
        "outputId": "c4c1ab0d-278e-4681-8f86-e9929f9eb926"
      },
      "outputs": [
        {
          "name": "stdout",
          "output_type": "stream",
          "text": [
            "Hello World\n"
          ]
        }
      ],
      "source": [
        "print(\"Hello World\")"
      ]
    },
    {
      "cell_type": "code",
      "execution_count": null,
      "metadata": {
        "colab": {
          "base_uri": "https://localhost:8080/"
        },
        "id": "SSxxlcwPJxfT",
        "outputId": "c52ef2da-eeac-413e-b1f3-4727b9a21a35"
      },
      "outputs": [
        {
          "name": "stdout",
          "output_type": "stream",
          "text": [
            "9\n"
          ]
        }
      ],
      "source": [
        "# multiline comment\n",
        "a=4 # a assign 4\n",
        "b=5 # b assign 5\n",
        "print(a+b) # if i am print a+b\n",
        "# output is 9\n"
      ]
    },
    {
      "cell_type": "markdown",
      "metadata": {
        "id": "tz-ZQz_4KZZQ"
      },
      "source": [
        "Rules of Docstring Comment:\n",
        "- Docstring are denoted by triple quotations.\n",
        "- They act as comments before the code.\n",
        "- When written after the code, docstring also appear in the output.\n",
        "- Docstrings can also function as comments between two blocks of code.\n",
        "- That's why dosctrings are cateogrized as comments.\n"
      ]
    },
    {
      "cell_type": "code",
      "execution_count": null,
      "metadata": {
        "colab": {
          "base_uri": "https://localhost:8080/",
          "height": 36
        },
        "id": "vHnkeYfgLHyD",
        "outputId": "b9886730-5dea-4ecb-90db-ea55d3911f8a"
      },
      "outputs": [
        {
          "data": {
            "application/vnd.google.colaboratory.intrinsic+json": {
              "type": "string"
            },
            "text/plain": [
              "'Hello World'"
            ]
          },
          "execution_count": 4,
          "metadata": {},
          "output_type": "execute_result"
        }
      ],
      "source": [
        "# denotes triple quotation\n",
        "\"\"\"Hello World\"\"\""
      ]
    },
    {
      "cell_type": "code",
      "execution_count": null,
      "metadata": {
        "colab": {
          "base_uri": "https://localhost:8080/",
          "height": 54
        },
        "id": "x9RXAtCvLXEs",
        "outputId": "858f0c0c-273a-4d56-84e1-d2b16510dab7"
      },
      "outputs": [
        {
          "name": "stdout",
          "output_type": "stream",
          "text": [
            "hello\n"
          ]
        },
        {
          "data": {
            "application/vnd.google.colaboratory.intrinsic+json": {
              "type": "string"
            },
            "text/plain": [
              "'right'"
            ]
          },
          "execution_count": 5,
          "metadata": {},
          "output_type": "execute_result"
        }
      ],
      "source": [
        "# When written after the code docstring also appear in the output.\n",
        "print(\"hello\")\n",
        "\"\"\"right\"\"\""
      ]
    },
    {
      "cell_type": "code",
      "execution_count": null,
      "metadata": {
        "colab": {
          "base_uri": "https://localhost:8080/"
        },
        "id": "oTTRXw6WMLa3",
        "outputId": "9ebb67ff-8224-4703-c0d7-db0ecadeaa5b"
      },
      "outputs": [
        {
          "name": "stdout",
          "output_type": "stream",
          "text": [
            "7\n"
          ]
        }
      ],
      "source": [
        "# They act as comments before the code.\n",
        "\"\"\"Welcome to Python programming\"\"\"\n",
        "print(2+5)"
      ]
    },
    {
      "cell_type": "code",
      "execution_count": null,
      "metadata": {
        "colab": {
          "base_uri": "https://localhost:8080/"
        },
        "id": "tzJ1hQuwMlWT",
        "outputId": "2f508062-52dd-481c-afb2-b2dfea42a2e8"
      },
      "outputs": [
        {
          "name": "stdout",
          "output_type": "stream",
          "text": [
            "India\n",
            "Deepak\n"
          ]
        }
      ],
      "source": [
        "# Docstrings can also function as comments between two blocks of code.\n",
        "print(\"India\")\n",
        "\"\"\"India is a good country\"\"\"\n",
        "print(\"Deepak\")"
      ]
    },
    {
      "cell_type": "markdown",
      "metadata": {
        "id": "TBCPT1ajPD7-"
      },
      "source": [
        "#  Python Variable/identifiers\n",
        "- In python, you can define a variable by simply assigning a value to a variable name."
      ]
    },
    {
      "cell_type": "code",
      "execution_count": null,
      "metadata": {
        "colab": {
          "base_uri": "https://localhost:8080/"
        },
        "id": "lnmQxOk1Py93",
        "outputId": "5c93b7ce-3651-471d-8220-cd2f28d33969"
      },
      "outputs": [
        {
          "name": "stdout",
          "output_type": "stream",
          "text": [
            "5\n"
          ]
        }
      ],
      "source": [
        "x=5\n",
        "print(x)"
      ]
    },
    {
      "cell_type": "markdown",
      "metadata": {
        "id": "3YhmdvYFP4sC"
      },
      "source": [
        "## Rules of Variables\n",
        "\n",
        "\n",
        "*   A variable name must start with an **alphabet** or an **Underscores**.\n",
        "*   A variable name cannot start with a **number** or any **special character**(#,@,$,&).\n",
        "*   A variable name can only **contain alphabets, numbers and underscores**.\n",
        "*  The use of special character is **prohibited**.\n",
        "*   Variable names are **case sensitive** in Python.\n",
        "*   **Python keywords** cannot be used as variable names.\n",
        "\n",
        "\n",
        "\n",
        "\n",
        "\n"
      ]
    },
    {
      "cell_type": "code",
      "execution_count": null,
      "metadata": {
        "colab": {
          "base_uri": "https://localhost:8080/"
        },
        "id": "b329wnWPRUHF",
        "outputId": "7fa87a14-9d22-466a-fdff-686d55316367"
      },
      "outputs": [
        {
          "name": "stdout",
          "output_type": "stream",
          "text": [
            "3\n"
          ]
        }
      ],
      "source": [
        "#A variable name must start with an alphabet or an Underscores.\n",
        "_a=3\n",
        "print(_a)"
      ]
    },
    {
      "cell_type": "code",
      "execution_count": null,
      "metadata": {
        "id": "7KJd58a6SOgt"
      },
      "outputs": [],
      "source": [
        "# A( variable name cannot start with a number or any special character(#,@,$,&)\n",
        "1a=5\n",
        "print(1a)"
      ]
    },
    {
      "cell_type": "code",
      "execution_count": null,
      "metadata": {
        "collapsed": true,
        "id": "VD_5K8OhSmRX"
      },
      "outputs": [],
      "source": [
        "@sa=23\n",
        "print(@sa)"
      ]
    },
    {
      "cell_type": "code",
      "execution_count": null,
      "metadata": {
        "colab": {
          "base_uri": "https://localhost:8080/"
        },
        "id": "JPimmdGESs8N",
        "outputId": "68d970a8-ba9c-40e9-e7bf-6c1241dac984"
      },
      "outputs": [
        {
          "name": "stdout",
          "output_type": "stream",
          "text": [
            "5\n"
          ]
        }
      ],
      "source": [
        "# A variable name can only contain alphabets, numbers and underscores.\n",
        "a1=5\n",
        "print(a1)"
      ]
    },
    {
      "cell_type": "code",
      "execution_count": null,
      "metadata": {
        "colab": {
          "base_uri": "https://localhost:8080/"
        },
        "id": "0aEqDkvYS3PA",
        "outputId": "58539e47-a95d-43e0-a264-a2da6e071322"
      },
      "outputs": [
        {
          "name": "stdout",
          "output_type": "stream",
          "text": [
            "6\n"
          ]
        }
      ],
      "source": [
        "_1=6\n",
        "print(_1)"
      ]
    },
    {
      "cell_type": "code",
      "execution_count": null,
      "metadata": {
        "id": "kXJBz63KS8Kk"
      },
      "outputs": [],
      "source": [
        "# The use of special character is prohibited.\n",
        "a$=1\n",
        "print(a$)"
      ]
    },
    {
      "cell_type": "code",
      "execution_count": null,
      "metadata": {
        "colab": {
          "base_uri": "https://localhost:8080/",
          "height": 182
        },
        "id": "yDaD_R25TL3P",
        "outputId": "c13a6d95-34c4-4fee-c931-d4c8491d3e48"
      },
      "outputs": [
        {
          "ename": "NameError",
          "evalue": "name 's' is not defined",
          "output_type": "error",
          "traceback": [
            "\u001b[0;31m---------------------------------------------------------------------------\u001b[0m",
            "\u001b[0;31mNameError\u001b[0m                                 Traceback (most recent call last)",
            "\u001b[0;32m<ipython-input-46-52a08d6057ee>\u001b[0m in \u001b[0;36m<cell line: 3>\u001b[0;34m()\u001b[0m\n\u001b[1;32m      1\u001b[0m \u001b[0;31m# Variable names are case sensitive in Python.\u001b[0m\u001b[0;34m\u001b[0m\u001b[0;34m\u001b[0m\u001b[0m\n\u001b[1;32m      2\u001b[0m \u001b[0mS\u001b[0m\u001b[0;34m=\u001b[0m\u001b[0;36m4\u001b[0m\u001b[0;34m\u001b[0m\u001b[0;34m\u001b[0m\u001b[0m\n\u001b[0;32m----> 3\u001b[0;31m \u001b[0mprint\u001b[0m\u001b[0;34m(\u001b[0m\u001b[0ms\u001b[0m\u001b[0;34m)\u001b[0m\u001b[0;34m\u001b[0m\u001b[0;34m\u001b[0m\u001b[0m\n\u001b[0m",
            "\u001b[0;31mNameError\u001b[0m: name 's' is not defined"
          ]
        }
      ],
      "source": [
        "# Variable names are case sensitive in Python.\n",
        "S=4\n",
        "print(s)"
      ]
    },
    {
      "cell_type": "code",
      "execution_count": null,
      "metadata": {
        "colab": {
          "base_uri": "https://localhost:8080/",
          "height": 110
        },
        "id": "y1tS11n8T4uY",
        "outputId": "66bca8a6-e066-41bb-a570-6c42e64c17fc"
      },
      "outputs": [
        {
          "ename": "SyntaxError",
          "evalue": "invalid syntax (<ipython-input-47-d60a257f02c4>, line 2)",
          "output_type": "error",
          "traceback": [
            "\u001b[0;36m  File \u001b[0;32m\"<ipython-input-47-d60a257f02c4>\"\u001b[0;36m, line \u001b[0;32m2\u001b[0m\n\u001b[0;31m    if= \"hello\"\u001b[0m\n\u001b[0m      ^\u001b[0m\n\u001b[0;31mSyntaxError\u001b[0m\u001b[0;31m:\u001b[0m invalid syntax\n"
          ]
        }
      ],
      "source": [
        "# Python keywords cannot be used as variable names.\n",
        "if= \"hello\"\n",
        "print(if)"
      ]
    },
    {
      "cell_type": "markdown",
      "metadata": {
        "id": "NVtL-JcnUsqD"
      },
      "source": [
        "#  Python Basic Functions\n",
        "\n",
        "#  Types of basic Functions\n",
        "\n",
        "\n",
        "*   print() - To bring the statements into the output.\n",
        "*   type() - It tells you what type of data it is.\n",
        "* id() memory/address - In python, it tells you where the data is store.\n",
        "\n"
      ]
    },
    {
      "cell_type": "code",
      "execution_count": null,
      "metadata": {
        "colab": {
          "base_uri": "https://localhost:8080/"
        },
        "id": "0qAX8kUdVClH",
        "outputId": "5ea9b8fb-f6b2-44d0-f63c-f55b8471b18a"
      },
      "outputs": [
        {
          "name": "stdout",
          "output_type": "stream",
          "text": [
            "Hello\n"
          ]
        }
      ],
      "source": [
        "#print()\n",
        "print(\"Hello\")"
      ]
    },
    {
      "cell_type": "code",
      "execution_count": null,
      "metadata": {
        "colab": {
          "base_uri": "https://localhost:8080/"
        },
        "id": "Zq_fRyXzWikF",
        "outputId": "aa5a9ebb-4dce-42f3-86cc-50cec7e1c3d1"
      },
      "outputs": [
        {
          "name": "stdout",
          "output_type": "stream",
          "text": [
            "43\n"
          ]
        }
      ],
      "source": [
        "#print()\n",
        "a=43\n",
        "print(a)"
      ]
    },
    {
      "cell_type": "code",
      "execution_count": null,
      "metadata": {
        "colab": {
          "base_uri": "https://localhost:8080/"
        },
        "id": "barzBeiYWoLZ",
        "outputId": "2dca7f04-9cf4-4bdf-ed28-7b45c01a9cd1"
      },
      "outputs": [
        {
          "data": {
            "text/plain": [
              "int"
            ]
          },
          "execution_count": 50,
          "metadata": {},
          "output_type": "execute_result"
        }
      ],
      "source": [
        "#type()\n",
        "a=23\n",
        "type(a)"
      ]
    },
    {
      "cell_type": "code",
      "execution_count": null,
      "metadata": {
        "colab": {
          "base_uri": "https://localhost:8080/"
        },
        "id": "BRb166sCWtJX",
        "outputId": "f04392fb-1b01-4465-8868-676e5b4f5af9"
      },
      "outputs": [
        {
          "data": {
            "text/plain": [
              "str"
            ]
          },
          "execution_count": 51,
          "metadata": {},
          "output_type": "execute_result"
        }
      ],
      "source": [
        "#type()\n",
        "name=\"Deepak\"\n",
        "type(name)"
      ]
    },
    {
      "cell_type": "code",
      "execution_count": null,
      "metadata": {
        "colab": {
          "base_uri": "https://localhost:8080/"
        },
        "id": "cm9_DUS7W26r",
        "outputId": "c02114a2-c9c9-4622-84b8-3a19d1ab104b"
      },
      "outputs": [
        {
          "data": {
            "text/plain": [
              "137818785137920"
            ]
          },
          "execution_count": 52,
          "metadata": {},
          "output_type": "execute_result"
        }
      ],
      "source": [
        "#id()\n",
        "a=[1,2,3]\n",
        "id(a)"
      ]
    },
    {
      "cell_type": "code",
      "execution_count": null,
      "metadata": {
        "colab": {
          "base_uri": "https://localhost:8080/"
        },
        "id": "e4s7I5uVXLTG",
        "outputId": "b0a7a073-610e-4c5f-e895-9b017a4cbd56"
      },
      "outputs": [
        {
          "data": {
            "text/plain": [
              "137818785141424"
            ]
          },
          "execution_count": 53,
          "metadata": {},
          "output_type": "execute_result"
        }
      ],
      "source": [
        "#id()\n",
        "name=\"Hello world\"\n",
        "id(name)"
      ]
    },
    {
      "cell_type": "markdown",
      "metadata": {
        "id": "3NuX2aduXV62"
      },
      "source": [
        "## Characteristics of Print Function\n",
        "\n",
        "\n",
        "*   by default new line character\n",
        "*   data type is None\n",
        "*   Keyword argument\n",
        "\n"
      ]
    },
    {
      "cell_type": "code",
      "execution_count": null,
      "metadata": {
        "colab": {
          "base_uri": "https://localhost:8080/"
        },
        "id": "FzZRUPxAXq8m",
        "outputId": "ec2889c8-eee8-4c85-d681-9d3b39dca0a8"
      },
      "outputs": [
        {
          "name": "stdout",
          "output_type": "stream",
          "text": [
            "Hello\n",
            "World\n"
          ]
        }
      ],
      "source": [
        "# by default new line character\n",
        "print(\"Hello\")\n",
        "print(\"World\")\n"
      ]
    },
    {
      "cell_type": "code",
      "execution_count": null,
      "metadata": {
        "colab": {
          "base_uri": "https://localhost:8080/"
        },
        "id": "H1rWR2NUX7kK",
        "outputId": "5cde8d30-93a2-4c54-9168-7abb0dd9c9da"
      },
      "outputs": [
        {
          "name": "stdout",
          "output_type": "stream",
          "text": [
            "\n"
          ]
        }
      ],
      "source": [
        "#data type is None\n",
        "print()"
      ]
    },
    {
      "cell_type": "markdown",
      "metadata": {
        "id": "EuNwYZAoYQ8B"
      },
      "source": [
        "## End(end=\"\")\n",
        "The default behaviour of the print function is to include a new line character after printing.To remove this new line behaviour of the print function,we use \"end \" in Python."
      ]
    },
    {
      "cell_type": "code",
      "execution_count": null,
      "metadata": {
        "colab": {
          "base_uri": "https://localhost:8080/"
        },
        "id": "P0R0TfojZHI_",
        "outputId": "6089755e-7857-4846-8914-8f45d2262577"
      },
      "outputs": [
        {
          "name": "stdout",
          "output_type": "stream",
          "text": [
            "Hello\n",
            "World\n"
          ]
        }
      ],
      "source": [
        "# normal print\n",
        "print(\"Hello\")\n",
        "print(\"World\")\n"
      ]
    },
    {
      "cell_type": "code",
      "execution_count": null,
      "metadata": {
        "colab": {
          "base_uri": "https://localhost:8080/"
        },
        "id": "kU6ACvY2ZRSK",
        "outputId": "e00f4970-48d2-4e76-e42a-a490833a4d1c"
      },
      "outputs": [
        {
          "name": "stdout",
          "output_type": "stream",
          "text": [
            "Hello World\n"
          ]
        }
      ],
      "source": [
        "#distroy print new line characteristic\n",
        "print(\"Hello\",end=\" \")\n",
        "print(\"World\")\n",
        "\n"
      ]
    },
    {
      "cell_type": "code",
      "execution_count": null,
      "metadata": {
        "id": "xpINUq6LZhdX"
      },
      "outputs": [],
      "source": [
        "#using two \"end\" in a print statement\n",
        "print(\"hello\",end=\" \",\"world\",end=\" \")\n",
        "print(\"world\")\n",
        "print(\"Deepak\")"
      ]
    },
    {
      "cell_type": "markdown",
      "metadata": {
        "id": "Z3bbQpCfKtjc"
      },
      "source": [
        "# Python Escape Sequence\n",
        "* (\\n) - New Line Character\n",
        "* (\\b) - Back Space\n",
        "* (\\t) - Tab\n",
        "* (\\r) - Currige Return\n",
        "* (') - Single Quote\n",
        "* (\\\\') - Back Slash\n",
        "\n",
        "\n",
        "\n",
        "\n",
        "\n",
        "\n"
      ]
    },
    {
      "cell_type": "code",
      "execution_count": null,
      "metadata": {
        "colab": {
          "base_uri": "https://localhost:8080/"
        },
        "id": "YjcEvsh1L4Ln",
        "outputId": "fe53be5f-048c-4b79-b81e-6d8ac79d1667"
      },
      "outputs": [
        {
          "name": "stdout",
          "output_type": "stream",
          "text": [
            "My Name is 'Deepak'\n"
          ]
        }
      ],
      "source": [
        "# Single Quote\n",
        "print(\"My Name is \\'Deepak\\'\")"
      ]
    },
    {
      "cell_type": "code",
      "execution_count": null,
      "metadata": {
        "colab": {
          "base_uri": "https://localhost:8080/"
        },
        "id": "6fJM4ot6MR3s",
        "outputId": "dd5e9357-af6c-4a24-8924-d4981fce0da9"
      },
      "outputs": [
        {
          "name": "stdout",
          "output_type": "stream",
          "text": [
            "I am a \\'Data Engineer in Infosys\\'\n"
          ]
        }
      ],
      "source": [
        "# Back Slash\n",
        "print(\"I am a \\\\'Data Engineer in Infosys\\\\'\")"
      ]
    },
    {
      "cell_type": "code",
      "execution_count": null,
      "metadata": {
        "colab": {
          "base_uri": "https://localhost:8080/"
        },
        "id": "d-v4lxT9MmXU",
        "outputId": "0ebb39bf-513a-4ceb-bb68-c7fa9c4509cf"
      },
      "outputs": [
        {
          "name": "stdout",
          "output_type": "stream",
          "text": [
            "My age is\n",
            " 25\n"
          ]
        }
      ],
      "source": [
        "# New Line Character\n",
        "print(\"My age is\\n 25\")"
      ]
    },
    {
      "cell_type": "code",
      "execution_count": null,
      "metadata": {
        "colab": {
          "base_uri": "https://localhost:8080/"
        },
        "id": "hVPUTgGwMw5c",
        "outputId": "1c6f2c63-f5aa-435d-bc38-9358abf8b286"
      },
      "outputs": [
        {
          "name": "stdout",
          "output_type": "stream",
          "text": [
            "My name is Deepak\t kumar\n"
          ]
        }
      ],
      "source": [
        "# Tab\n",
        "print(\"My name is Deepak\\t kumar\")"
      ]
    },
    {
      "cell_type": "code",
      "execution_count": null,
      "metadata": {
        "colab": {
          "base_uri": "https://localhost:8080/"
        },
        "id": "QdS9xF-Vcitm",
        "outputId": "20c2e194-03a4-46aa-ef64-c3d4d689a3b3"
      },
      "outputs": [
        {
          "name": "stdout",
          "output_type": "stream",
          "text": [
            "she is a good girlll\b\n"
          ]
        }
      ],
      "source": [
        "## back space\n",
        "print(\"she is a good girlll\\b\")"
      ]
    },
    {
      "cell_type": "code",
      "execution_count": null,
      "metadata": {
        "colab": {
          "base_uri": "https://localhost:8080/"
        },
        "id": "I_B5u-5RcixK",
        "outputId": "e3761979-ea01-4100-b67c-5bdbe2fd54e7"
      },
      "outputs": [
        {
          "name": "stdout",
          "output_type": "stream",
          "text": [
            "she is a good girlll\b\b\n"
          ]
        }
      ],
      "source": [
        "## back space\n",
        "print(\"she is a good girlll\\b\\b\")"
      ]
    },
    {
      "cell_type": "code",
      "execution_count": null,
      "metadata": {
        "colab": {
          "base_uri": "https://localhost:8080/"
        },
        "id": "CUQVXLY4czf6",
        "outputId": "c6549d62-3bb6-4532-9f94-9f3204ea8ae6"
      },
      "outputs": [
        {
          "name": "stdout",
          "output_type": "stream",
          "text": [
            "she is a good girlll\b\b\b\n"
          ]
        }
      ],
      "source": [
        "## back space\n",
        "print(\"she is a good girlll\\b\\b\\b\")"
      ]
    },
    {
      "cell_type": "code",
      "execution_count": null,
      "metadata": {
        "colab": {
          "base_uri": "https://localhost:8080/"
        },
        "id": "GRscSnVHc27M",
        "outputId": "1c683c61-6bf9-4b4e-cf3c-9b70ec20cdda"
      },
      "outputs": [
        {
          "name": "stdout",
          "output_type": "stream",
          "text": [
            "Deepak\rkumar\n"
          ]
        }
      ],
      "source": [
        "# Currige return\n",
        "print(\"Deepak\\rkumar\")"
      ]
    },
    {
      "cell_type": "markdown",
      "metadata": {
        "id": "izbMuhUE83VD"
      },
      "source": [
        "# Python Data Types\n",
        "* Data types are ways to classfiy data in programming.\n",
        "\n",
        "# Types of Data Types\n",
        "1.   Primitive Data Type:\n",
        "\n",
        "   *   Numbers, None , String\n",
        "\n",
        "2.   Non-Primitive Data Type:\n",
        "   * List, Set,Dict,Tuple,Range\n",
        "\n",
        "\n",
        "\n",
        "## Some other Python Data Type\n",
        "\n",
        "1.   Iterable Data Types:\n",
        "    * String,list set,dict,tuple,range\n",
        "\n",
        "2.   Non-iterable data types:\n",
        "    * None, Number\n",
        "\n",
        "3.   Mutable(not change) data type:\n",
        "    * list, set, dictionary\n",
        "\n",
        "4.   Immutable(change) data type:\n",
        "    * String, tuple,range,none,number\n",
        "\n",
        "5.   Sequence data type : #means indexing\n",
        "     * List, tuple,string\n",
        "\n",
        "6.    Non-sequence data type:\n",
        "     * set, dictionary,range,none,number\n",
        "     * disctionary -  key value is here  that's why unorderd.\n",
        "     * range - change data type that's why non- sequence data type\n",
        "\n",
        "\n",
        "\n"
      ]
    },
    {
      "cell_type": "markdown",
      "metadata": {
        "id": "yEiQg-UbeZXX"
      },
      "source": [
        "# Python Keywords\n",
        "Python keywords are reserved words in python programming langauage, We cannot used Identifiers(Variable names)"
      ]
    },
    {
      "cell_type": "code",
      "execution_count": null,
      "metadata": {
        "id": "dwlXg-lceyyV"
      },
      "outputs": [],
      "source": [
        "if i am creating a program"
      ]
    },
    {
      "cell_type": "code",
      "execution_count": null,
      "metadata": {
        "id": "3bjVu3dZe9oq"
      },
      "outputs": [],
      "source": [
        "class=2\n",
        "print(class)"
      ]
    },
    {
      "cell_type": "code",
      "execution_count": null,
      "metadata": {
        "colab": {
          "base_uri": "https://localhost:8080/"
        },
        "id": "YAF63GlNfF1p",
        "outputId": "7e5b343b-4da2-4ae0-ac81-12d4675f8e44"
      },
      "outputs": [
        {
          "name": "stdout",
          "output_type": "stream",
          "text": [
            "\n",
            "Here is a list of the Python keywords.  Enter any keyword to get more help.\n",
            "\n",
            "False               class               from                or\n",
            "None                continue            global              pass\n",
            "True                def                 if                  raise\n",
            "and                 del                 import              return\n",
            "as                  elif                in                  try\n",
            "assert              else                is                  while\n",
            "async               except              lambda              with\n",
            "await               finally             nonlocal            yield\n",
            "break               for                 not                 \n",
            "\n"
          ]
        }
      ],
      "source": [
        "# help()\n",
        "help(\"keywords\")"
      ]
    },
    {
      "cell_type": "markdown",
      "metadata": {
        "id": "rgUjgn-QP7ta"
      },
      "source": [
        "#"
      ]
    },
    {
      "cell_type": "markdown",
      "metadata": {
        "id": "D8weazClQcxm"
      },
      "source": [
        "## **Types of Python Keywords**\n",
        "\n",
        "\n",
        "*   Value Keywords(True,False)\n",
        "*   Operators Keywords(And,or,in)\n",
        "*   Conditional Keywords(if,else,elif)\n",
        "*   Iterative Keywords(for,while)\n",
        "*   Transfer Keywords(break,pass,continue)\n",
        "*   Structure Keywords(def,class)\n",
        "*   Import Keywords(import,from)\n",
        "\n"
      ]
    },
    {
      "cell_type": "markdown",
      "metadata": {
        "id": "nAn4Uw85hunD"
      },
      "source": [
        "1. Primitive Data Types:- Primitive data types are a set of basic data type form which all other data type are constructed.\n",
        "* There are three primitive data types-\n",
        "  *   Number\n",
        "  *   String\n",
        "  *   None\n",
        "\n",
        "* Types of Number Data Type-\n",
        "  * Integer Type\n",
        "  * Float Type\n",
        "  * Boolean Type\n",
        "  * Complex Type\n",
        "\n",
        "* Integer Data Type - The integer data type basically represents the whole numbers.(0 t0 9)\n",
        "\n",
        "* Float Data Type - Float is short for floating point number i.e.(65.9)\n",
        "* Boolean Data Type - Python boolean type is one of the built in data types provided by python, which represents one of the two values i.e. True or False\n",
        "* Complex Data Type - The complex data type in python is used to represent numbers with both real and imaginary parts. i.e. (23j)\n",
        "* String Data Type - A string is a sequence of characters enclosed between the single quote '..' or double quote \"..\"\n",
        "* None Data Type - Used to define a number value,or no value at\n",
        "\n"
      ]
    },
    {
      "cell_type": "markdown",
      "metadata": {
        "id": "EO7D6nN2PIZ5"
      },
      "source": [
        "# Python Operatos\n",
        "* Types of Operators\n",
        "\n",
        "1.   Arithmetic Operators\n",
        "2.   Assignment Operators\n",
        "3.   Comparision Operators\n",
        "4.   Logical Operators\n",
        "5.   Membership Operators\n",
        "6.   Identity Operators\n"
      ]
    },
    {
      "cell_type": "markdown",
      "metadata": {
        "id": "op48Zl2dPQr7"
      },
      "source": [
        "1.Arithmetic Operators:\n",
        "- +, -, * , /, %, ** , //\n",
        "- Exponent(**): 5**2=25\n",
        "- Integer Division/Floor Division:11//2=5\n",
        "- Modulus(%)- 11%2=1\n",
        "\n",
        "2.Assignment Operators:=, +=, -+, * =, /=, %=,**=, //=\n",
        "\n",
        "3.Python Relational Operator: <, >, <=, >=, ==\n",
        "\n",
        "4.Python Logical operator: and,or not\n",
        "\n",
        "5.Membership Operator: in , not in\n",
        "\n",
        "in - Return True if the value or variable is found in the sequence,otherwise false.\n",
        "\n",
        "not in - Return true if the value of variable is not found in the sequence , otherwise false.\n",
        "\n",
        "6.Identity Operators: is , is not\n",
        "\n",
        "is- Returns True if the operands are same, oterwise false.\n",
        "ex- X is True\n",
        "\n",
        "is not- Returns True if the Operands are not identical, otherwise False.\n",
        "ex- X is not True\n"
      ]
    },
    {
      "cell_type": "markdown",
      "metadata": {
        "id": "swchBJ0sUuag"
      },
      "source": [
        "## Arithmetic Opertors Practical\n",
        "\n",
        "\n",
        "*  (+)add\n",
        "*  (-)Substract\n",
        "*  (*)Multiply\n",
        "*  / Division\n",
        "*  // Floor div\n",
        "*  % Modulus\n",
        "*  ** exponential\n",
        "\n"
      ]
    },
    {
      "cell_type": "code",
      "execution_count": null,
      "metadata": {
        "colab": {
          "base_uri": "https://localhost:8080/"
        },
        "id": "ftAQJy0_UmQO",
        "outputId": "2641fb4d-de6a-4699-da8a-afc4abf5a52f"
      },
      "outputs": [
        {
          "name": "stdout",
          "output_type": "stream",
          "text": [
            "7\n"
          ]
        }
      ],
      "source": [
        "# Addition Operators\n",
        "a=2\n",
        "b=5\n",
        "print(a+b)"
      ]
    },
    {
      "cell_type": "code",
      "execution_count": null,
      "metadata": {
        "colab": {
          "base_uri": "https://localhost:8080/"
        },
        "id": "YTFfkpWHBUr4",
        "outputId": "a705f56f-4a33-4a3d-8a5d-900e2ab9b135"
      },
      "outputs": [
        {
          "name": "stdout",
          "output_type": "stream",
          "text": [
            "3\n"
          ]
        }
      ],
      "source": [
        "#Substract\n",
        "a=4\n",
        "b=1\n",
        "print(a-b)"
      ]
    },
    {
      "cell_type": "code",
      "execution_count": null,
      "metadata": {
        "colab": {
          "base_uri": "https://localhost:8080/"
        },
        "id": "pYhcL7G3BaFD",
        "outputId": "f5a0c56e-7d89-4ba0-b002-59adb66b3096"
      },
      "outputs": [
        {
          "name": "stdout",
          "output_type": "stream",
          "text": [
            "10\n"
          ]
        }
      ],
      "source": [
        "#Multiply\n",
        "a=2\n",
        "b=5\n",
        "print(a*b)"
      ]
    },
    {
      "cell_type": "code",
      "execution_count": null,
      "metadata": {
        "colab": {
          "base_uri": "https://localhost:8080/"
        },
        "id": "Pe6dnJXgBgDc",
        "outputId": "2c7511dc-67d9-4c64-eff3-1365e476777e"
      },
      "outputs": [
        {
          "name": "stdout",
          "output_type": "stream",
          "text": [
            "3.0\n"
          ]
        }
      ],
      "source": [
        "#Division\n",
        "a=6\n",
        "b=2\n",
        "print(a/b)"
      ]
    },
    {
      "cell_type": "code",
      "execution_count": null,
      "metadata": {
        "colab": {
          "base_uri": "https://localhost:8080/"
        },
        "id": "e-jS_Vd4Bv6R",
        "outputId": "85be47ac-bb2d-45d3-846f-ff835ebe6b0e"
      },
      "outputs": [
        {
          "name": "stdout",
          "output_type": "stream",
          "text": [
            "3\n"
          ]
        }
      ],
      "source": [
        "#Floor Division\n",
        "a=6\n",
        "b=2\n",
        "print(a//b)"
      ]
    },
    {
      "cell_type": "code",
      "execution_count": null,
      "metadata": {
        "colab": {
          "base_uri": "https://localhost:8080/"
        },
        "id": "qIhWeLBfB3Q3",
        "outputId": "4842db78-bc74-4ea9-bab0-0a865956725e"
      },
      "outputs": [
        {
          "name": "stdout",
          "output_type": "stream",
          "text": [
            "1\n"
          ]
        }
      ],
      "source": [
        "#Modulus\n",
        "a=7\n",
        "b=2\n",
        "print(a%b)"
      ]
    },
    {
      "cell_type": "code",
      "execution_count": null,
      "metadata": {
        "colab": {
          "base_uri": "https://localhost:8080/"
        },
        "id": "lKZLgAQVB-nV",
        "outputId": "4debf8df-7542-459a-9898-c56db7c204a5"
      },
      "outputs": [
        {
          "name": "stdout",
          "output_type": "stream",
          "text": [
            "8\n"
          ]
        }
      ],
      "source": [
        "#Exponential(Power)\n",
        "a=2\n",
        "b=3\n",
        "print(a**b)"
      ]
    },
    {
      "cell_type": "markdown",
      "metadata": {
        "id": "AdkbfbcVCp9s"
      },
      "source": [
        "### Arithmetic Operators Precedence(BEDMAS)\n",
        "\n",
        "\n",
        "*   Bracket()\n",
        "*   Exponential(Power) **\n",
        "*   Divide /\n",
        "*   Multiply *\n",
        "*   Addition +\n",
        "*   Substract -\n",
        "\n",
        "\n",
        "\n"
      ]
    },
    {
      "cell_type": "code",
      "execution_count": null,
      "metadata": {
        "colab": {
          "base_uri": "https://localhost:8080/"
        },
        "id": "9VsnIlsIDOxP",
        "outputId": "410ec4b4-84d1-4f9d-8aa0-39543a3042f5"
      },
      "outputs": [
        {
          "name": "stdout",
          "output_type": "stream",
          "text": [
            "97.5\n"
          ]
        }
      ],
      "source": [
        "a=(1+2)**3/2*7+5-2\n",
        "print(a)"
      ]
    },
    {
      "cell_type": "markdown",
      "metadata": {
        "id": "7Z2QnA_OCRV8"
      },
      "source": [
        "## Comparision Operators Practical\n",
        "\n",
        "\n",
        "*   greater than(<)\n",
        "*   less than(>)\n",
        "*   Equal(==)\n",
        "*   greater than equal to(>=)\n",
        "*   less than equal to (<=)\n",
        "*   not equal(!=)\n",
        "\n"
      ]
    },
    {
      "cell_type": "code",
      "execution_count": null,
      "metadata": {
        "colab": {
          "base_uri": "https://localhost:8080/"
        },
        "id": "RoXc5WwUEQVV",
        "outputId": "793ef88b-bb4a-468a-a2a2-83caeaf9b981"
      },
      "outputs": [
        {
          "name": "stdout",
          "output_type": "stream",
          "text": [
            "True\n"
          ]
        }
      ],
      "source": [
        "# greater than\n",
        "a=7\n",
        "b=2\n",
        "print(a>b)"
      ]
    },
    {
      "cell_type": "code",
      "execution_count": null,
      "metadata": {
        "colab": {
          "base_uri": "https://localhost:8080/"
        },
        "id": "e0DcEwhPEYK_",
        "outputId": "e4261c38-ba2e-4fb5-a4b9-190c0a1400d0"
      },
      "outputs": [
        {
          "name": "stdout",
          "output_type": "stream",
          "text": [
            "True\n"
          ]
        }
      ],
      "source": [
        "# less than\n",
        "a=3\n",
        "b=4\n",
        "print(a<b)"
      ]
    },
    {
      "cell_type": "code",
      "execution_count": null,
      "metadata": {
        "colab": {
          "base_uri": "https://localhost:8080/"
        },
        "id": "Ec3xRYxDEesN",
        "outputId": "e21e896b-e4fe-4937-e01a-1025e9aac9d0"
      },
      "outputs": [
        {
          "name": "stdout",
          "output_type": "stream",
          "text": [
            "True\n"
          ]
        }
      ],
      "source": [
        "a=2\n",
        "b=2\n",
        "print(a==b)"
      ]
    },
    {
      "cell_type": "code",
      "execution_count": null,
      "metadata": {
        "colab": {
          "base_uri": "https://localhost:8080/"
        },
        "id": "iBjU52yPEjCC",
        "outputId": "354491df-410f-4892-8d17-81c2baef5c88"
      },
      "outputs": [
        {
          "name": "stdout",
          "output_type": "stream",
          "text": [
            "True\n"
          ]
        }
      ],
      "source": [
        "#greater than equal\n",
        "a=5\n",
        "b=3\n",
        "print(a>=b)\n"
      ]
    },
    {
      "cell_type": "code",
      "execution_count": null,
      "metadata": {
        "colab": {
          "base_uri": "https://localhost:8080/"
        },
        "id": "c-UJuj4YEtAW",
        "outputId": "2c1e2efe-7314-48dc-f944-e99b972a5eaf"
      },
      "outputs": [
        {
          "name": "stdout",
          "output_type": "stream",
          "text": [
            "True\n"
          ]
        }
      ],
      "source": [
        "a=5\n",
        "b=5\n",
        "print(a>=b)"
      ]
    },
    {
      "cell_type": "code",
      "execution_count": null,
      "metadata": {
        "colab": {
          "base_uri": "https://localhost:8080/"
        },
        "id": "VGpJMnL6Eypx",
        "outputId": "e64778d8-dfa0-4d70-fe0f-9d8175049a7e"
      },
      "outputs": [
        {
          "name": "stdout",
          "output_type": "stream",
          "text": [
            "True\n"
          ]
        }
      ],
      "source": [
        "#less than equal\n",
        "a=4\n",
        "b=5\n",
        "print(a<=b)"
      ]
    },
    {
      "cell_type": "code",
      "execution_count": null,
      "metadata": {
        "colab": {
          "base_uri": "https://localhost:8080/"
        },
        "id": "J4asMSuwE6k7",
        "outputId": "3ce9e440-94bd-4dc3-a639-b205b2042b79"
      },
      "outputs": [
        {
          "name": "stdout",
          "output_type": "stream",
          "text": [
            "True\n"
          ]
        }
      ],
      "source": [
        "a=5\n",
        "b=5\n",
        "print(a<=b)"
      ]
    },
    {
      "cell_type": "code",
      "execution_count": null,
      "metadata": {
        "colab": {
          "base_uri": "https://localhost:8080/"
        },
        "id": "-S-XHEN3E_Cs",
        "outputId": "4da94e2b-dd35-49db-c16a-77681dd7cdfc"
      },
      "outputs": [
        {
          "name": "stdout",
          "output_type": "stream",
          "text": [
            "True\n"
          ]
        }
      ],
      "source": [
        "#not equal\n",
        "a=4\n",
        "b=3\n",
        "print(a!=b)"
      ]
    },
    {
      "cell_type": "code",
      "execution_count": null,
      "metadata": {
        "colab": {
          "base_uri": "https://localhost:8080/"
        },
        "id": "SOezakutFIK7",
        "outputId": "c8b121ca-230d-4465-e62c-87e8646e2981"
      },
      "outputs": [
        {
          "name": "stdout",
          "output_type": "stream",
          "text": [
            "False\n"
          ]
        }
      ],
      "source": [
        "a=4\n",
        "b=4\n",
        "print(a!=b)"
      ]
    },
    {
      "cell_type": "markdown",
      "metadata": {
        "id": "zSPF9_hUFSHo"
      },
      "source": [
        "## Assignment Operators Practical\n",
        "\n",
        "\n",
        "*   Assign =\n",
        "*   Add assign +=\n",
        "*   sub assign -=\n",
        "*   mul assign *=\n",
        "*   div assign /=\n",
        "*   floor assign //=\n",
        "*   modulus assign %=\n",
        "\n"
      ]
    },
    {
      "cell_type": "code",
      "execution_count": null,
      "metadata": {
        "colab": {
          "base_uri": "https://localhost:8080/"
        },
        "id": "cB-LbkUZFuIp",
        "outputId": "5650ca83-dd9a-47df-a245-2f32d3d455c3"
      },
      "outputs": [
        {
          "name": "stdout",
          "output_type": "stream",
          "text": [
            "4\n"
          ]
        }
      ],
      "source": [
        "#Assign\n",
        "a=4\n",
        "print(a)"
      ]
    },
    {
      "cell_type": "code",
      "execution_count": null,
      "metadata": {
        "colab": {
          "base_uri": "https://localhost:8080/"
        },
        "id": "Xm5mGL_NF3pT",
        "outputId": "92849dee-eb55-475e-b695-d631a63dce97"
      },
      "outputs": [
        {
          "name": "stdout",
          "output_type": "stream",
          "text": [
            "8\n",
            "10\n"
          ]
        }
      ],
      "source": [
        "#add assign\n",
        "a=8\n",
        "print(a)\n",
        "a+=2 #a=a+2\n",
        "print(a)"
      ]
    },
    {
      "cell_type": "code",
      "execution_count": null,
      "metadata": {
        "colab": {
          "base_uri": "https://localhost:8080/"
        },
        "id": "yD_x6LxbGCf_",
        "outputId": "3eb60579-2db9-4203-a6fd-69b505612533"
      },
      "outputs": [
        {
          "name": "stdout",
          "output_type": "stream",
          "text": [
            "4\n",
            "2\n"
          ]
        }
      ],
      "source": [
        "# sub assign -\n",
        "a=4\n",
        "print(a)\n",
        "a-=2 # a=a-2\n",
        "print(a)"
      ]
    },
    {
      "cell_type": "code",
      "execution_count": null,
      "metadata": {
        "colab": {
          "base_uri": "https://localhost:8080/"
        },
        "id": "wqg1k-TBGU3N",
        "outputId": "fe7ace60-d736-49bd-f677-f2ca7a5eb092"
      },
      "outputs": [
        {
          "name": "stdout",
          "output_type": "stream",
          "text": [
            "2\n",
            "4\n"
          ]
        }
      ],
      "source": [
        "#mul assign\n",
        "a=2\n",
        "print(a)\n",
        "a*=2\n",
        "print(a)"
      ]
    },
    {
      "cell_type": "code",
      "execution_count": null,
      "metadata": {
        "colab": {
          "base_uri": "https://localhost:8080/"
        },
        "id": "0iK8ixauZASp",
        "outputId": "4e401783-b6b2-4d05-a071-b4daa48668d6"
      },
      "outputs": [
        {
          "name": "stdout",
          "output_type": "stream",
          "text": [
            "6\n",
            "3.0\n"
          ]
        }
      ],
      "source": [
        "#Div assign /=\n",
        "a =6\n",
        "print(a)\n",
        "a/=2\n",
        "print(a)"
      ]
    },
    {
      "cell_type": "code",
      "execution_count": null,
      "metadata": {
        "colab": {
          "base_uri": "https://localhost:8080/"
        },
        "id": "sGqAFXA6ZDX0",
        "outputId": "22ca7752-6a0a-4e55-8a65-bbf5f427a46e"
      },
      "outputs": [
        {
          "name": "stdout",
          "output_type": "stream",
          "text": [
            "6\n",
            "3\n"
          ]
        }
      ],
      "source": [
        "#floor assign //=\n",
        "a=6\n",
        "print(a)\n",
        "a//=2\n",
        "print(a)"
      ]
    },
    {
      "cell_type": "code",
      "execution_count": null,
      "metadata": {
        "colab": {
          "base_uri": "https://localhost:8080/"
        },
        "id": "FeKxY-SjZQXd",
        "outputId": "f573db0e-37e6-479c-bccf-7e286732a8a0"
      },
      "outputs": [
        {
          "name": "stdout",
          "output_type": "stream",
          "text": [
            "9\n",
            "1\n"
          ]
        }
      ],
      "source": [
        "#Modulus %=\n",
        "a=9\n",
        "print(a)\n",
        "a%=2\n",
        "print(a)"
      ]
    },
    {
      "cell_type": "markdown",
      "metadata": {
        "id": "TCcQPTuYZpXd"
      },
      "source": [
        "## Membership Operator Practical\n",
        "\n",
        "*   in\n",
        "*   not in\n",
        "\n"
      ]
    },
    {
      "cell_type": "code",
      "execution_count": null,
      "metadata": {
        "colab": {
          "base_uri": "https://localhost:8080/",
          "height": 164
        },
        "id": "vWCQunUbZusL",
        "outputId": "39f3dc83-6560-4789-99e1-d9ca2b01ed78"
      },
      "outputs": [
        {
          "ename": "TypeError",
          "evalue": "argument of type 'int' is not iterable",
          "output_type": "error",
          "traceback": [
            "\u001b[0;31m---------------------------------------------------------------------------\u001b[0m",
            "\u001b[0;31mTypeError\u001b[0m                                 Traceback (most recent call last)",
            "\u001b[0;32m<ipython-input-32-02a9a4dc6c99>\u001b[0m in \u001b[0;36m<cell line: 2>\u001b[0;34m()\u001b[0m\n\u001b[1;32m      1\u001b[0m \u001b[0ma\u001b[0m\u001b[0;34m=\u001b[0m\u001b[0;36m2\u001b[0m\u001b[0;34m\u001b[0m\u001b[0;34m\u001b[0m\u001b[0m\n\u001b[0;32m----> 2\u001b[0;31m \u001b[0;36m2\u001b[0m \u001b[0;32min\u001b[0m \u001b[0ma\u001b[0m\u001b[0;34m\u001b[0m\u001b[0;34m\u001b[0m\u001b[0m\n\u001b[0m",
            "\u001b[0;31mTypeError\u001b[0m: argument of type 'int' is not iterable"
          ]
        }
      ],
      "source": [
        "a=2\n",
        "2 in a"
      ]
    },
    {
      "cell_type": "code",
      "execution_count": null,
      "metadata": {
        "colab": {
          "base_uri": "https://localhost:8080/"
        },
        "id": "6aWeXeelaPsM",
        "outputId": "170c083e-f3c5-4daa-c8a6-cf0d5b49d370"
      },
      "outputs": [
        {
          "data": {
            "text/plain": [
              "True"
            ]
          },
          "execution_count": 33,
          "metadata": {},
          "output_type": "execute_result"
        }
      ],
      "source": [
        "a=\"hello\"\n",
        "\"h\" in a"
      ]
    },
    {
      "cell_type": "code",
      "execution_count": null,
      "metadata": {
        "colab": {
          "base_uri": "https://localhost:8080/"
        },
        "id": "aVZc4Qlnfc7O",
        "outputId": "eb6ce174-b21b-439b-ddba-4a7510d258c4"
      },
      "outputs": [
        {
          "data": {
            "text/plain": [
              "True"
            ]
          },
          "execution_count": 34,
          "metadata": {},
          "output_type": "execute_result"
        }
      ],
      "source": [
        "a=[1,2,3,4]\n",
        "2 in a"
      ]
    },
    {
      "cell_type": "code",
      "execution_count": null,
      "metadata": {
        "id": "RP2I-OHbfpYZ"
      },
      "outputs": [],
      "source": [
        "a=789\n",
        "9 not in a"
      ]
    },
    {
      "cell_type": "code",
      "execution_count": null,
      "metadata": {
        "id": "fwptjcPIfwYC"
      },
      "outputs": [],
      "source": [
        "a=4.67\n",
        "4 not in a"
      ]
    },
    {
      "cell_type": "code",
      "execution_count": null,
      "metadata": {
        "colab": {
          "base_uri": "https://localhost:8080/"
        },
        "id": "GkIh4qJ9fvzX",
        "outputId": "41b27935-f01a-43c1-98fb-fbeae784b13b"
      },
      "outputs": [
        {
          "data": {
            "text/plain": [
              "False"
            ]
          },
          "execution_count": 39,
          "metadata": {},
          "output_type": "execute_result"
        }
      ],
      "source": [
        "a=\"hello\"\n",
        "\"j\"  in a"
      ]
    },
    {
      "cell_type": "code",
      "execution_count": null,
      "metadata": {
        "colab": {
          "base_uri": "https://localhost:8080/"
        },
        "id": "2ZXZEtBugDy0",
        "outputId": "d9a15893-a64b-4883-a8ad-bb73abe34ac5"
      },
      "outputs": [
        {
          "data": {
            "text/plain": [
              "True"
            ]
          },
          "execution_count": 40,
          "metadata": {},
          "output_type": "execute_result"
        }
      ],
      "source": [
        "a=\"hello\"\n",
        "\"j\" not in a"
      ]
    },
    {
      "cell_type": "code",
      "execution_count": null,
      "metadata": {
        "colab": {
          "base_uri": "https://localhost:8080/"
        },
        "id": "bZONw8zEgLMn",
        "outputId": "a7575f29-3ed0-43dc-ac02-648473f9eade"
      },
      "outputs": [
        {
          "data": {
            "text/plain": [
              "True"
            ]
          },
          "execution_count": 41,
          "metadata": {},
          "output_type": "execute_result"
        }
      ],
      "source": [
        "a=[1,2,3,4,5]\n",
        "6 not in a"
      ]
    },
    {
      "cell_type": "code",
      "execution_count": null,
      "metadata": {
        "colab": {
          "base_uri": "https://localhost:8080/"
        },
        "id": "chkrInGsgQ_-",
        "outputId": "155034d3-63ed-47b1-bd6e-5b323e463004"
      },
      "outputs": [
        {
          "data": {
            "text/plain": [
              "False"
            ]
          },
          "execution_count": 42,
          "metadata": {},
          "output_type": "execute_result"
        }
      ],
      "source": [
        "a=[1,2,3]\n",
        "2 not in a"
      ]
    },
    {
      "cell_type": "markdown",
      "metadata": {
        "id": "1RUQRmLhgZO4"
      },
      "source": [
        "## Identity Operators practical\n",
        "\n",
        "\n",
        "*   is\n",
        "*   is not\n",
        "\n"
      ]
    },
    {
      "cell_type": "code",
      "execution_count": null,
      "metadata": {
        "colab": {
          "base_uri": "https://localhost:8080/"
        },
        "id": "rnFYqC2BgoIh",
        "outputId": "35a3644d-35e8-4576-c14e-b6c84082dae2"
      },
      "outputs": [
        {
          "name": "stdout",
          "output_type": "stream",
          "text": [
            "136455918338256\n",
            "136455918338256\n"
          ]
        },
        {
          "data": {
            "text/plain": [
              "True"
            ]
          },
          "execution_count": 49,
          "metadata": {},
          "output_type": "execute_result"
        }
      ],
      "source": [
        "a=0\n",
        "print(id(a))\n",
        "b=0\n",
        "print(id(b))\n",
        "a is b"
      ]
    },
    {
      "cell_type": "code",
      "execution_count": null,
      "metadata": {
        "colab": {
          "base_uri": "https://localhost:8080/"
        },
        "id": "pNTbTWZggwPg",
        "outputId": "65eb69cf-c5c0-4145-8bb6-da4efc3aefcc"
      },
      "outputs": [
        {
          "name": "stdout",
          "output_type": "stream",
          "text": [
            "136455918346448\n",
            "136455918346448\n"
          ]
        },
        {
          "data": {
            "text/plain": [
              "True"
            ]
          },
          "execution_count": 48,
          "metadata": {},
          "output_type": "execute_result"
        }
      ],
      "source": [
        "a=256\n",
        "print(id(a))\n",
        "b=256\n",
        "print(id(b))\n",
        "a is b"
      ]
    },
    {
      "cell_type": "code",
      "execution_count": null,
      "metadata": {
        "colab": {
          "base_uri": "https://localhost:8080/"
        },
        "id": "EGvoZmr2gz4V",
        "outputId": "2e7b0404-5f7c-4796-fb37-9680c30ae9bc"
      },
      "outputs": [
        {
          "name": "stdout",
          "output_type": "stream",
          "text": [
            "136454635571632\n",
            "136454635572336\n"
          ]
        },
        {
          "data": {
            "text/plain": [
              "False"
            ]
          },
          "execution_count": 47,
          "metadata": {},
          "output_type": "execute_result"
        }
      ],
      "source": [
        "a =257\n",
        "print(id(a))\n",
        "b =257\n",
        "print(id(b))\n",
        "a is b   # because in python after 256 id will different\n"
      ]
    },
    {
      "cell_type": "code",
      "execution_count": null,
      "metadata": {
        "colab": {
          "base_uri": "https://localhost:8080/"
        },
        "id": "S5P7WwhaiC-B",
        "outputId": "f5b06c18-824b-4ef4-9154-b3baf7d0e400"
      },
      "outputs": [
        {
          "name": "stdout",
          "output_type": "stream",
          "text": [
            "136455918338256\n",
            "136455918338256\n"
          ]
        },
        {
          "data": {
            "text/plain": [
              "False"
            ]
          },
          "execution_count": 50,
          "metadata": {},
          "output_type": "execute_result"
        }
      ],
      "source": [
        "a=0\n",
        "print(id(a))\n",
        "b=0\n",
        "print(id(b))\n",
        "a is not b"
      ]
    },
    {
      "cell_type": "code",
      "execution_count": null,
      "metadata": {
        "colab": {
          "base_uri": "https://localhost:8080/"
        },
        "id": "jBWA_QRRiO_E",
        "outputId": "389f9112-ef5e-4e5a-d829-5796dac7d0a9"
      },
      "outputs": [
        {
          "name": "stdout",
          "output_type": "stream",
          "text": [
            "136454632554768\n",
            "136454632556912\n"
          ]
        },
        {
          "data": {
            "text/plain": [
              "True"
            ]
          },
          "execution_count": 51,
          "metadata": {},
          "output_type": "execute_result"
        }
      ],
      "source": [
        "a =257\n",
        "print(id(a))\n",
        "b =257\n",
        "print(id(b))\n",
        "a is not b"
      ]
    },
    {
      "cell_type": "markdown",
      "metadata": {
        "id": "_MEm8nkDiUrB"
      },
      "source": [
        "## Logical operator Practical\n",
        "\n",
        "\n",
        "*   AND\n",
        "*   OR\n",
        "*   NOT\n",
        "\n"
      ]
    },
    {
      "cell_type": "markdown",
      "metadata": {
        "id": "EdeEN81gjFBL"
      },
      "source": [
        "###AND ,OR, NOT\n",
        "\n",
        "# AND\n",
        "\n"
      ]
    },
    {
      "cell_type": "code",
      "execution_count": null,
      "metadata": {
        "colab": {
          "base_uri": "https://localhost:8080/"
        },
        "id": "e3pudhboinkD",
        "outputId": "909ec485-b9be-4ba5-da30-0ab0efaa1f6b"
      },
      "outputs": [
        {
          "data": {
            "text/plain": [
              "False"
            ]
          },
          "execution_count": 52,
          "metadata": {},
          "output_type": "execute_result"
        }
      ],
      "source": [
        "# True and false == false\n",
        "True and False"
      ]
    },
    {
      "cell_type": "markdown",
      "metadata": {
        "id": "n4bwCrKFmjPu"
      },
      "source": [
        "### Precedence of Logical Operator\n",
        "step by step solve first peak not than AND after that OR\n",
        "*   NOT\n",
        "*   AND\n",
        "*   OR\n",
        "\n",
        "\n"
      ]
    },
    {
      "cell_type": "code",
      "execution_count": null,
      "metadata": {
        "id": "tbmSyP3dm2NC"
      },
      "outputs": [],
      "source": [
        "2 and 3 or 0 and not 4"
      ]
    },
    {
      "cell_type": "code",
      "execution_count": null,
      "metadata": {
        "colab": {
          "base_uri": "https://localhost:8080/"
        },
        "id": "5hrVFo1jm7hD",
        "outputId": "61c1591e-2f1f-48a7-98cf-c0a25c783736"
      },
      "outputs": [
        {
          "data": {
            "text/plain": [
              "False"
            ]
          },
          "execution_count": 76,
          "metadata": {},
          "output_type": "execute_result"
        }
      ],
      "source": [
        "not 4"
      ]
    },
    {
      "cell_type": "code",
      "execution_count": null,
      "metadata": {
        "colab": {
          "base_uri": "https://localhost:8080/"
        },
        "id": "pf216Su2m9TX",
        "outputId": "0f5e3ac1-dfba-4452-eb2a-df89186ca5f7"
      },
      "outputs": [
        {
          "data": {
            "text/plain": [
              "3"
            ]
          },
          "execution_count": 77,
          "metadata": {},
          "output_type": "execute_result"
        }
      ],
      "source": [
        "2 and 3 or 0 and False"
      ]
    },
    {
      "cell_type": "code",
      "execution_count": null,
      "metadata": {
        "colab": {
          "base_uri": "https://localhost:8080/"
        },
        "id": "Dvqw-Mj2nC6G",
        "outputId": "f36325be-20a0-465a-d3ab-2753bf56fbc9"
      },
      "outputs": [
        {
          "data": {
            "text/plain": [
              "3"
            ]
          },
          "execution_count": 78,
          "metadata": {},
          "output_type": "execute_result"
        }
      ],
      "source": [
        " 2 and 3"
      ]
    },
    {
      "cell_type": "code",
      "execution_count": null,
      "metadata": {
        "colab": {
          "base_uri": "https://localhost:8080/"
        },
        "id": "jQ7e5rl_nHNY",
        "outputId": "45a8bd52-a2c6-4ab1-8ad7-d587b652157b"
      },
      "outputs": [
        {
          "data": {
            "text/plain": [
              "0"
            ]
          },
          "execution_count": 80,
          "metadata": {},
          "output_type": "execute_result"
        }
      ],
      "source": [
        "0 and False"
      ]
    },
    {
      "cell_type": "code",
      "execution_count": null,
      "metadata": {
        "colab": {
          "base_uri": "https://localhost:8080/"
        },
        "id": "ei8OWYqfnONt",
        "outputId": "1bfe45e4-8e6d-4b91-cdae-975850a6a791"
      },
      "outputs": [
        {
          "data": {
            "text/plain": [
              "3"
            ]
          },
          "execution_count": 81,
          "metadata": {},
          "output_type": "execute_result"
        }
      ],
      "source": [
        "3 or 0"
      ]
    },
    {
      "cell_type": "markdown",
      "metadata": {
        "id": "Z9xusDexnvbA"
      },
      "source": [
        "# Python String\n",
        "In Python, a string is a sequence of charcaters enclosed within either single quotes('') or double quotes(\"\")\n",
        "\n",
        "# String Data Type\n",
        "\n",
        "\n",
        "\n",
        "\n",
        "*   Primitive Data Type\n",
        "*   Ordered--(Indexing allowed)\n",
        "\n",
        "\n",
        "\n"
      ]
    },
    {
      "cell_type": "markdown",
      "metadata": {
        "id": "jW4o-bXdt_S0"
      },
      "source": [
        "## Creating a String"
      ]
    },
    {
      "cell_type": "code",
      "execution_count": null,
      "metadata": {
        "colab": {
          "base_uri": "https://localhost:8080/",
          "height": 36
        },
        "id": "B7hhi51nt8V4",
        "outputId": "7338b862-8919-4d50-80da-3d20b3829181"
      },
      "outputs": [
        {
          "data": {
            "application/vnd.google.colaboratory.intrinsic+json": {
              "type": "string"
            },
            "text/plain": [
              "'deepak'"
            ]
          },
          "execution_count": 84,
          "metadata": {},
          "output_type": "execute_result"
        }
      ],
      "source": [
        "name=\"deepak\"\n",
        "name"
      ]
    },
    {
      "cell_type": "code",
      "execution_count": null,
      "metadata": {
        "colab": {
          "base_uri": "https://localhost:8080/",
          "height": 36
        },
        "id": "TFcsyFkNuPBv",
        "outputId": "edd0701c-0617-4050-be79-c510ba0a8492"
      },
      "outputs": [
        {
          "data": {
            "application/vnd.google.colaboratory.intrinsic+json": {
              "type": "string"
            },
            "text/plain": [
              "'hello'"
            ]
          },
          "execution_count": 85,
          "metadata": {},
          "output_type": "execute_result"
        }
      ],
      "source": [
        "a='hello'\n",
        "a"
      ]
    },
    {
      "cell_type": "code",
      "execution_count": null,
      "metadata": {
        "colab": {
          "base_uri": "https://localhost:8080/",
          "height": 36
        },
        "id": "7DSPak2huTHn",
        "outputId": "b356ab7b-e2c9-448a-a8ca-edc2450af454"
      },
      "outputs": [
        {
          "data": {
            "application/vnd.google.colaboratory.intrinsic+json": {
              "type": "string"
            },
            "text/plain": [
              "' '"
            ]
          },
          "execution_count": 86,
          "metadata": {},
          "output_type": "execute_result"
        }
      ],
      "source": [
        "a =\" \"\n",
        "a"
      ]
    },
    {
      "cell_type": "markdown",
      "metadata": {
        "id": "BYD2eVZGudX0"
      },
      "source": [
        "## Indexing\n",
        "\n",
        "* Indexing means assessing individual characters(elements) of a string by its position within the string.\n",
        "* Indexing is of two types:*Positive or Negative Indexing*\n",
        "\n",
        "* Positive indexing starts from 0 or starts from the left side.\n",
        "* Space is also a character.\n",
        "* Negative indexing starts from right-hand side and starts with -1\n",
        "\n",
        "- Eg:\n",
        "\n",
        "*index  :           0  1  2  3  4\n",
        "\n",
        "*character:         H  E  L  L  O\n",
        "\n",
        "*Reverse Index:   -5 -4 -3 -2  -1\n"
      ]
    },
    {
      "cell_type": "code",
      "execution_count": null,
      "metadata": {
        "colab": {
          "base_uri": "https://localhost:8080/",
          "height": 36
        },
        "id": "4jw2Sdzdx0sZ",
        "outputId": "6e7f74a0-b8aa-48a9-f10e-c26c9ee6b0da"
      },
      "outputs": [
        {
          "data": {
            "application/vnd.google.colaboratory.intrinsic+json": {
              "type": "string"
            },
            "text/plain": [
              "'H'"
            ]
          },
          "execution_count": 87,
          "metadata": {},
          "output_type": "execute_result"
        }
      ],
      "source": [
        "#positive indexing\n",
        "a=\"HELLO\"\n",
        "a[0]"
      ]
    },
    {
      "cell_type": "code",
      "execution_count": null,
      "metadata": {
        "colab": {
          "base_uri": "https://localhost:8080/",
          "height": 36
        },
        "id": "Mv1_1DHMyXqb",
        "outputId": "04008738-a8ac-4c83-bf4f-9b69dc5fbb47"
      },
      "outputs": [
        {
          "output_type": "execute_result",
          "data": {
            "text/plain": [
              "'O'"
            ],
            "application/vnd.google.colaboratory.intrinsic+json": {
              "type": "string"
            }
          },
          "metadata": {},
          "execution_count": 1
        }
      ],
      "source": [
        "#negative indexing\n",
        "a=\"HELLO\"\n",
        "a[-1]"
      ]
    },
    {
      "cell_type": "markdown",
      "metadata": {
        "id": "MSgeHMCIyo_L"
      },
      "source": [
        "## Slicing\n",
        "\n",
        "*   Slicing means accessing a subset of a string based on its indices.\n",
        "*   Again there are two types of slicing Positive and Negative.\n",
        "*   Denoted by [:]\n",
        "*   Starting point by default in slicing.\n",
        "*   Endpoint by default Infinity.\n",
        "\n"
      ]
    },
    {
      "cell_type": "code",
      "execution_count": null,
      "metadata": {
        "colab": {
          "base_uri": "https://localhost:8080/",
          "height": 36
        },
        "id": "8Su5JrFRZt9j",
        "outputId": "e64c7505-d2c9-4c45-d204-8f4df1fc1b83"
      },
      "outputs": [
        {
          "data": {
            "application/vnd.google.colaboratory.intrinsic+json": {
              "type": "string"
            },
            "text/plain": [
              "'Hello World'"
            ]
          },
          "execution_count": 3,
          "metadata": {},
          "output_type": "execute_result"
        }
      ],
      "source": [
        "a =\"Hello World\"\n",
        "a[:]"
      ]
    },
    {
      "cell_type": "code",
      "execution_count": null,
      "metadata": {
        "colab": {
          "base_uri": "https://localhost:8080/",
          "height": 36
        },
        "id": "7SkOt0bcZ4n_",
        "outputId": "975e9337-9b67-40cf-a61a-13000eebcd55"
      },
      "outputs": [
        {
          "output_type": "execute_result",
          "data": {
            "text/plain": [
              "'HELLO'"
            ],
            "application/vnd.google.colaboratory.intrinsic+json": {
              "type": "string"
            }
          },
          "metadata": {},
          "execution_count": 2
        }
      ],
      "source": [
        "a[0:5]"
      ]
    },
    {
      "cell_type": "code",
      "execution_count": null,
      "metadata": {
        "colab": {
          "base_uri": "https://localhost:8080/",
          "height": 36
        },
        "id": "ZvN8Tw1NZ9ti",
        "outputId": "7d8d06ae-242a-4053-f479-874693e25e33"
      },
      "outputs": [
        {
          "output_type": "execute_result",
          "data": {
            "text/plain": [
              "'HE'"
            ],
            "application/vnd.google.colaboratory.intrinsic+json": {
              "type": "string"
            }
          },
          "metadata": {},
          "execution_count": 3
        }
      ],
      "source": [
        "#Negative slicing\n",
        "\n",
        "a[-12:-3]"
      ]
    },
    {
      "cell_type": "code",
      "execution_count": null,
      "metadata": {
        "colab": {
          "base_uri": "https://localhost:8080/",
          "height": 36
        },
        "id": "17rQNTy_aSHZ",
        "outputId": "20483813-9db0-487e-975a-9de83406d8f9"
      },
      "outputs": [
        {
          "output_type": "execute_result",
          "data": {
            "text/plain": [
              "'Hello Wo'"
            ],
            "application/vnd.google.colaboratory.intrinsic+json": {
              "type": "string"
            }
          },
          "metadata": {},
          "execution_count": 4
        }
      ],
      "source": [
        "a=\"Hello World\"\n",
        "a[0:-3]"
      ]
    },
    {
      "cell_type": "markdown",
      "metadata": {
        "id": "ea_9u_u1exrZ"
      },
      "source": [
        "## Stride\n",
        "\n",
        "*  Sride slicing can also accept a third parameter, the stride, which refers to how many steps you want to take from the first character.\n",
        "\n",
        "\n"
      ]
    },
    {
      "cell_type": "code",
      "execution_count": null,
      "metadata": {
        "colab": {
          "base_uri": "https://localhost:8080/",
          "height": 36
        },
        "id": "Gol1EkQdfbk5",
        "outputId": "d03c2486-a346-4ef5-bec1-9e40258941a7"
      },
      "outputs": [
        {
          "data": {
            "application/vnd.google.colaboratory.intrinsic+json": {
              "type": "string"
            },
            "text/plain": [
              "'Hello world'"
            ]
          },
          "execution_count": 16,
          "metadata": {},
          "output_type": "execute_result"
        }
      ],
      "source": [
        "a=\"Hello world\"\n",
        "a[::]  # first point is starting point ,second is ending and third point is jumping points."
      ]
    },
    {
      "cell_type": "code",
      "execution_count": null,
      "metadata": {
        "colab": {
          "base_uri": "https://localhost:8080/",
          "height": 36
        },
        "id": "BTyS0EVefp8E",
        "outputId": "276b04c8-e82e-429a-add8-c8cdd4aadece"
      },
      "outputs": [
        {
          "output_type": "execute_result",
          "data": {
            "text/plain": [
              "'HloWrd'"
            ],
            "application/vnd.google.colaboratory.intrinsic+json": {
              "type": "string"
            }
          },
          "metadata": {},
          "execution_count": 5
        }
      ],
      "source": [
        "a[0:12:2]"
      ]
    },
    {
      "cell_type": "markdown",
      "metadata": {
        "id": "IsfTJcl8gJgm"
      },
      "source": [
        "## Reverse Elements by Stride\n"
      ]
    },
    {
      "cell_type": "code",
      "execution_count": null,
      "metadata": {
        "colab": {
          "base_uri": "https://localhost:8080/",
          "height": 36
        },
        "id": "mWHb6BDYgPas",
        "outputId": "33bb501d-c23c-4226-f9b3-89e2656e8159"
      },
      "outputs": [
        {
          "output_type": "execute_result",
          "data": {
            "text/plain": [
              "'dlroW olleH'"
            ],
            "application/vnd.google.colaboratory.intrinsic+json": {
              "type": "string"
            }
          },
          "metadata": {},
          "execution_count": 8
        }
      ],
      "source": [
        "a[::-1]"
      ]
    },
    {
      "cell_type": "markdown",
      "metadata": {
        "id": "mlLad1UAkzxN"
      },
      "source": [
        "## String Operators & Methods\n",
        "\n",
        "# Operators\n",
        "\n",
        "*  (+)--: Concatentaion or merging two or more string\n",
        "*  (*)--: Multiply Strings\n",
        "*  (!=) --: Not equal two strings or more strings\n",
        "*  (==)--: Equal two string or more string\n",
        "\n",
        "# Methods\n",
        "*   .upper()\n",
        "*   .lower()\n",
        "*   .capitalize()\n",
        "*   .find()\n",
        "*   .replace()\n",
        "*   .split()\n",
        "*   .isnumeric()\n",
        "*   .isspace()\n",
        "*   .count()\n",
        "\n",
        "\n",
        "\n",
        "\n"
      ]
    },
    {
      "cell_type": "code",
      "execution_count": null,
      "metadata": {
        "colab": {
          "base_uri": "https://localhost:8080/",
          "height": 36
        },
        "id": "lxKSi9xEmZCP",
        "outputId": "2545533a-1ac4-4e28-db2d-c1dc0c6781ce"
      },
      "outputs": [
        {
          "data": {
            "application/vnd.google.colaboratory.intrinsic+json": {
              "type": "string"
            },
            "text/plain": [
              "'helloWorld'"
            ]
          },
          "execution_count": 8,
          "metadata": {},
          "output_type": "execute_result"
        }
      ],
      "source": [
        "# Concatentaion\n",
        "a=\"hello\"\n",
        "b=\"World\"\n",
        "a+b"
      ]
    },
    {
      "cell_type": "code",
      "execution_count": null,
      "metadata": {
        "colab": {
          "base_uri": "https://localhost:8080/",
          "height": 36
        },
        "id": "tCXe5f7wmUF0",
        "outputId": "622c524c-f5f3-4d9f-8ac9-1287e52c85d3"
      },
      "outputs": [
        {
          "data": {
            "application/vnd.google.colaboratory.intrinsic+json": {
              "type": "string"
            },
            "text/plain": [
              "'roperoperoperoperope'"
            ]
          },
          "execution_count": 9,
          "metadata": {},
          "output_type": "execute_result"
        }
      ],
      "source": [
        "# multiply (*)\n",
        "a=\"rope\"\n",
        "a*5"
      ]
    },
    {
      "cell_type": "code",
      "execution_count": null,
      "metadata": {
        "colab": {
          "base_uri": "https://localhost:8080/"
        },
        "id": "KMon4xcHmm_v",
        "outputId": "9be459a7-e087-4edf-d7c0-542703e5b8c5"
      },
      "outputs": [
        {
          "data": {
            "text/plain": [
              "True"
            ]
          },
          "execution_count": 10,
          "metadata": {},
          "output_type": "execute_result"
        }
      ],
      "source": [
        "# equal to (==)\n",
        "a=\"hello\"\n",
        "b=\"hello\"\n",
        "a==b"
      ]
    },
    {
      "cell_type": "code",
      "execution_count": null,
      "metadata": {
        "colab": {
          "base_uri": "https://localhost:8080/"
        },
        "id": "281Y5cqsmt4Z",
        "outputId": "6f6d64e7-2c3f-412e-bf39-1107e273840f"
      },
      "outputs": [
        {
          "output_type": "execute_result",
          "data": {
            "text/plain": [
              "True"
            ]
          },
          "metadata": {},
          "execution_count": 9
        }
      ],
      "source": [
        "# not equal (!=)\n",
        "a=\"hello\"\n",
        "b=\"World\"\n",
        "a!=b"
      ]
    },
    {
      "cell_type": "code",
      "execution_count": null,
      "metadata": {
        "colab": {
          "base_uri": "https://localhost:8080/",
          "height": 36
        },
        "id": "7KwZeNP9m7Uz",
        "outputId": "7d07339c-3367-4558-f879-796777ba721c"
      },
      "outputs": [
        {
          "data": {
            "application/vnd.google.colaboratory.intrinsic+json": {
              "type": "string"
            },
            "text/plain": [
              "'HELLO'"
            ]
          },
          "execution_count": 12,
          "metadata": {},
          "output_type": "execute_result"
        }
      ],
      "source": [
        "# .upper()\n",
        "a=\"hello\"\n",
        "a.upper()"
      ]
    },
    {
      "cell_type": "code",
      "execution_count": null,
      "metadata": {
        "colab": {
          "base_uri": "https://localhost:8080/",
          "height": 36
        },
        "id": "VoOAtjTSnBF9",
        "outputId": "d0d16480-8ba9-4226-955c-3c5c56c84b7b"
      },
      "outputs": [
        {
          "data": {
            "application/vnd.google.colaboratory.intrinsic+json": {
              "type": "string"
            },
            "text/plain": [
              "'world'"
            ]
          },
          "execution_count": 13,
          "metadata": {},
          "output_type": "execute_result"
        }
      ],
      "source": [
        "#.lower()\n",
        "a=\"WORLD\"\n",
        "a.lower()\n"
      ]
    },
    {
      "cell_type": "code",
      "execution_count": null,
      "metadata": {
        "colab": {
          "base_uri": "https://localhost:8080/",
          "height": 36
        },
        "id": "zzdEcMoonKGi",
        "outputId": "eda33289-d750-49fd-e1fa-861825eba0b5"
      },
      "outputs": [
        {
          "output_type": "execute_result",
          "data": {
            "text/plain": [
              "'My name is '"
            ],
            "application/vnd.google.colaboratory.intrinsic+json": {
              "type": "string"
            }
          },
          "metadata": {},
          "execution_count": 10
        }
      ],
      "source": [
        "# .capitalize()\n",
        "a=\"my name is \"\n",
        "a.capitalize()  # means first letetr capital"
      ]
    },
    {
      "cell_type": "code",
      "execution_count": null,
      "metadata": {
        "colab": {
          "base_uri": "https://localhost:8080/"
        },
        "id": "UQ2N8je5nbz7",
        "outputId": "742859ab-7976-485e-8808-2186ccdedc59"
      },
      "outputs": [
        {
          "output_type": "execute_result",
          "data": {
            "text/plain": [
              "0"
            ]
          },
          "metadata": {},
          "execution_count": 11
        }
      ],
      "source": [
        "# .find()\n",
        "a=\"hello\"\n",
        "a.find(\"h\")"
      ]
    },
    {
      "cell_type": "code",
      "execution_count": null,
      "metadata": {
        "colab": {
          "base_uri": "https://localhost:8080/"
        },
        "id": "76dPYq7annV7",
        "outputId": "e0054ed2-f1ed-4c2a-bd7b-d5d30439fc3b"
      },
      "outputs": [
        {
          "data": {
            "text/plain": [
              "-1"
            ]
          },
          "execution_count": 16,
          "metadata": {},
          "output_type": "execute_result"
        }
      ],
      "source": [
        "a.find(\"t\")\n",
        "# if any letter not exists then result give -1\n"
      ]
    },
    {
      "cell_type": "code",
      "execution_count": null,
      "metadata": {
        "colab": {
          "base_uri": "https://localhost:8080/",
          "height": 36
        },
        "id": "mpq7bufQnzS5",
        "outputId": "9d3b958b-4ccd-4af9-dd95-1e6c46e1000e"
      },
      "outputs": [
        {
          "output_type": "execute_result",
          "data": {
            "text/plain": [
              "'soof'"
            ],
            "application/vnd.google.colaboratory.intrinsic+json": {
              "type": "string"
            }
          },
          "metadata": {},
          "execution_count": 12
        }
      ],
      "source": [
        "# .replace()\n",
        "a=\"roof\"\n",
        "a.replace(\"r\",\"s\")"
      ]
    },
    {
      "cell_type": "code",
      "execution_count": null,
      "metadata": {
        "colab": {
          "base_uri": "https://localhost:8080/",
          "height": 36
        },
        "id": "SzOmZseooHaL",
        "outputId": "4f695295-b0f8-4500-b369-4e82c9957332"
      },
      "outputs": [
        {
          "output_type": "execute_result",
          "data": {
            "text/plain": [
              "'rttf'"
            ],
            "application/vnd.google.colaboratory.intrinsic+json": {
              "type": "string"
            }
          },
          "metadata": {},
          "execution_count": 16
        }
      ],
      "source": [
        "a.replace(\"o\",\"t\")"
      ]
    },
    {
      "cell_type": "code",
      "execution_count": null,
      "metadata": {
        "colab": {
          "base_uri": "https://localhost:8080/",
          "height": 36
        },
        "id": "QWPpMe5PoOph",
        "outputId": "eccd0f9c-63ac-4e76-e1a5-d12a6745c26c"
      },
      "outputs": [
        {
          "output_type": "execute_result",
          "data": {
            "text/plain": [
              "'rtof'"
            ],
            "application/vnd.google.colaboratory.intrinsic+json": {
              "type": "string"
            }
          },
          "metadata": {},
          "execution_count": 18
        }
      ],
      "source": [
        "a.replace(\"o\",\"t\",1)"
      ]
    },
    {
      "cell_type": "code",
      "execution_count": null,
      "metadata": {
        "colab": {
          "base_uri": "https://localhost:8080/"
        },
        "id": "rHs8bktfoSLX",
        "outputId": "11372b5e-7cbb-4523-ce89-eaf962162c35"
      },
      "outputs": [
        {
          "output_type": "execute_result",
          "data": {
            "text/plain": [
              "['Deepak', 'Kumar']"
            ]
          },
          "metadata": {},
          "execution_count": 19
        }
      ],
      "source": [
        "# split()\n",
        "a=\"Deepak Kumar\"\n",
        "a.split()"
      ]
    },
    {
      "cell_type": "code",
      "execution_count": null,
      "metadata": {
        "colab": {
          "base_uri": "https://localhost:8080/"
        },
        "id": "7v3MX7bI2HmO",
        "outputId": "6c650b71-c468-41f0-b54d-8cb790eede00"
      },
      "outputs": [
        {
          "data": {
            "text/plain": [
              "['Deepak', 'Kumar']"
            ]
          },
          "execution_count": 18,
          "metadata": {},
          "output_type": "execute_result"
        }
      ],
      "source": [
        "# .split()\n",
        "a=\"Deepak Kumar\"\n",
        "a.split(\" \")"
      ]
    },
    {
      "cell_type": "code",
      "execution_count": null,
      "metadata": {
        "colab": {
          "base_uri": "https://localhost:8080/"
        },
        "id": "X6LXNR7U2P60",
        "outputId": "867d885c-bff4-4edb-a915-ed9db7c14758"
      },
      "outputs": [
        {
          "output_type": "execute_result",
          "data": {
            "text/plain": [
              "2"
            ]
          },
          "metadata": {},
          "execution_count": 20
        }
      ],
      "source": [
        "# .count()\n",
        "a=\"hello\"\n",
        "a.count(\"l\")"
      ]
    },
    {
      "cell_type": "code",
      "execution_count": null,
      "metadata": {
        "colab": {
          "base_uri": "https://localhost:8080/"
        },
        "id": "z9gk4v1H2aGn",
        "outputId": "a83b6f41-07a2-4b82-bab4-0656cd9f49ca"
      },
      "outputs": [
        {
          "output_type": "execute_result",
          "data": {
            "text/plain": [
              "0"
            ]
          },
          "metadata": {},
          "execution_count": 21
        }
      ],
      "source": [
        "# index\n",
        "a=\"world\"\n",
        "a.index(\"w\")"
      ]
    },
    {
      "cell_type": "code",
      "execution_count": null,
      "metadata": {
        "colab": {
          "base_uri": "https://localhost:8080/"
        },
        "id": "vSzdFoKz2h4g",
        "outputId": "ef26287d-a55e-4b9c-8870-586845ad8085"
      },
      "outputs": [
        {
          "data": {
            "text/plain": [
              "False"
            ]
          },
          "execution_count": 40,
          "metadata": {},
          "output_type": "execute_result"
        }
      ],
      "source": [
        "# .endswith()\n",
        "a=\"Deepak\"\n",
        "a.endswith(\"p\") # the word is not end with P that's why result show false"
      ]
    },
    {
      "cell_type": "code",
      "execution_count": null,
      "metadata": {
        "colab": {
          "base_uri": "https://localhost:8080/"
        },
        "id": "alIq5L-v2-bG",
        "outputId": "523a53b4-c009-415e-8201-fabd281ccec3"
      },
      "outputs": [
        {
          "data": {
            "text/plain": [
              "True"
            ]
          },
          "execution_count": 41,
          "metadata": {},
          "output_type": "execute_result"
        }
      ],
      "source": [
        "# .endswith()\n",
        "a=\"Deepak\"\n",
        "a.endswith(\"k\")"
      ]
    },
    {
      "cell_type": "code",
      "execution_count": null,
      "metadata": {
        "colab": {
          "base_uri": "https://localhost:8080/"
        },
        "id": "VatR-7Zf3HIb",
        "outputId": "af56407d-e41b-47ac-d216-b86bc37eefe1"
      },
      "outputs": [
        {
          "data": {
            "text/plain": [
              "True"
            ]
          },
          "execution_count": 44,
          "metadata": {},
          "output_type": "execute_result"
        }
      ],
      "source": [
        "# .startswith()\n",
        "a=\"Deepak\"\n",
        "a.startswith(\"D\")"
      ]
    },
    {
      "cell_type": "code",
      "execution_count": null,
      "metadata": {
        "colab": {
          "base_uri": "https://localhost:8080/"
        },
        "id": "XZ0NN8o23Xst",
        "outputId": "d7bd76ea-a611-4168-9eac-3453029ed06f"
      },
      "outputs": [
        {
          "data": {
            "text/plain": [
              "True"
            ]
          },
          "execution_count": 19,
          "metadata": {},
          "output_type": "execute_result"
        }
      ],
      "source": [
        "# .isnumeric()\n",
        "a=\"1\"\n",
        "a.isnumeric()"
      ]
    },
    {
      "cell_type": "code",
      "execution_count": null,
      "metadata": {
        "colab": {
          "base_uri": "https://localhost:8080/"
        },
        "id": "Mtcn0hpw3gbb",
        "outputId": "aca10c6d-a28f-4ec2-aaae-7681fd7f4a91"
      },
      "outputs": [
        {
          "output_type": "execute_result",
          "data": {
            "text/plain": [
              "True"
            ]
          },
          "metadata": {},
          "execution_count": 22
        }
      ],
      "source": [
        "# .isupper()\n",
        "a=\"HELLO\"\n",
        "a.isupper()"
      ]
    },
    {
      "cell_type": "code",
      "execution_count": null,
      "metadata": {
        "colab": {
          "base_uri": "https://localhost:8080/"
        },
        "id": "bVIokzxL3o7c",
        "outputId": "3e49c485-6d5b-4f93-ee4a-d2f7fb2e8749"
      },
      "outputs": [
        {
          "output_type": "execute_result",
          "data": {
            "text/plain": [
              "True"
            ]
          },
          "metadata": {},
          "execution_count": 23
        }
      ],
      "source": [
        "# .islower()\n",
        "a =\"hello\"\n",
        "a.islower()"
      ]
    },
    {
      "cell_type": "code",
      "execution_count": null,
      "metadata": {
        "colab": {
          "base_uri": "https://localhost:8080/",
          "height": 36
        },
        "id": "YG4piyoZ3wxq",
        "outputId": "28b3a95b-41cd-42b6-cea4-6cf2acdfbd63"
      },
      "outputs": [
        {
          "output_type": "execute_result",
          "data": {
            "text/plain": [
              "'pworldm'"
            ],
            "application/vnd.google.colaboratory.intrinsic+json": {
              "type": "string"
            }
          },
          "metadata": {},
          "execution_count": 24
        }
      ],
      "source": [
        "# .join()\n",
        "a=\"world\"\n",
        "a.join(\"pm\")"
      ]
    },
    {
      "cell_type": "code",
      "execution_count": null,
      "metadata": {
        "colab": {
          "base_uri": "https://localhost:8080/"
        },
        "id": "7Ab8oRRk381n",
        "outputId": "fb77cc45-241d-4296-f98a-0914a7d90b71"
      },
      "outputs": [
        {
          "output_type": "execute_result",
          "data": {
            "text/plain": [
              "True"
            ]
          },
          "metadata": {},
          "execution_count": 25
        }
      ],
      "source": [
        "# .isspace()\n",
        "a =\" \"\n",
        "a.isspace()"
      ]
    },
    {
      "cell_type": "code",
      "execution_count": null,
      "metadata": {
        "colab": {
          "base_uri": "https://localhost:8080/"
        },
        "id": "K4-Ggna-4IxB",
        "outputId": "d4d107ea-b719-401e-e9bc-f50b4c875032"
      },
      "outputs": [
        {
          "data": {
            "text/plain": [
              "False"
            ]
          },
          "execution_count": 20,
          "metadata": {},
          "output_type": "execute_result"
        }
      ],
      "source": [
        "# .isspace()\n",
        "a =\"\"\n",
        "a.isspace()"
      ]
    },
    {
      "cell_type": "markdown",
      "metadata": {
        "id": "QD_LErDg4fmN"
      },
      "source": [
        "# Expression\n",
        "* Expression are the piece of codes(Must includes operator and operands) that evaluates the values.(+,-,*)\n",
        "\n",
        "\n"
      ]
    },
    {
      "cell_type": "code",
      "execution_count": null,
      "metadata": {
        "colab": {
          "base_uri": "https://localhost:8080/"
        },
        "id": "y8DzQA3mXKhG",
        "outputId": "5663dad1-5394-47b4-b401-5c05adf9f6cf"
      },
      "outputs": [
        {
          "name": "stdout",
          "output_type": "stream",
          "text": [
            "8\n"
          ]
        }
      ],
      "source": [
        "a=5\n",
        "b=3\n",
        "print(a+b)\n"
      ]
    },
    {
      "cell_type": "code",
      "execution_count": null,
      "metadata": {
        "colab": {
          "base_uri": "https://localhost:8080/",
          "height": 36
        },
        "id": "HVWOvGC6XRzR",
        "outputId": "5a53bbc6-2876-4d99-aff2-33ced69267f3"
      },
      "outputs": [
        {
          "data": {
            "application/vnd.google.colaboratory.intrinsic+json": {
              "type": "string"
            },
            "text/plain": [
              "'helloworld'"
            ]
          },
          "execution_count": 3,
          "metadata": {},
          "output_type": "execute_result"
        }
      ],
      "source": [
        "a=\"hello\"\n",
        "b=\"world\"\n",
        "a+b   #expression\n",
        "\n",
        "# a and b operands , + sign show operator"
      ]
    },
    {
      "cell_type": "code",
      "execution_count": null,
      "metadata": {
        "colab": {
          "base_uri": "https://localhost:8080/"
        },
        "id": "xEKo_S_iXj6b",
        "outputId": "0d50b59e-3ac3-4fd8-c474-b2b221cb53fa"
      },
      "outputs": [
        {
          "data": {
            "text/plain": [
              "2"
            ]
          },
          "execution_count": 22,
          "metadata": {},
          "output_type": "execute_result"
        }
      ],
      "source": [
        "a=\"hello\"\n",
        "a.count(\"l\")"
      ]
    },
    {
      "cell_type": "code",
      "execution_count": null,
      "metadata": {
        "colab": {
          "base_uri": "https://localhost:8080/"
        },
        "id": "qfdKKnU3Ytqc",
        "outputId": "fff16854-57b4-4e2c-cae3-e1a80e662c60"
      },
      "outputs": [
        {
          "data": {
            "text/plain": [
              "0"
            ]
          },
          "execution_count": 23,
          "metadata": {},
          "output_type": "execute_result"
        }
      ],
      "source": [
        "1 and 0"
      ]
    },
    {
      "cell_type": "markdown",
      "metadata": {
        "id": "YqVduO72Y8CI"
      },
      "source": [
        "# Input in Python\n",
        "* In python using the input() function,we take input from the user and using the print() function ,we display the output of the screen.(Any data given in input is **string**)."
      ]
    },
    {
      "cell_type": "code",
      "execution_count": null,
      "metadata": {
        "colab": {
          "base_uri": "https://localhost:8080/"
        },
        "id": "ryNl-8ssZaSa",
        "outputId": "cd3d446d-d38e-4c02-84bb-764bfb690d10"
      },
      "outputs": [
        {
          "name": "stdout",
          "output_type": "stream",
          "text": [
            "1\n",
            "1\n"
          ]
        }
      ],
      "source": [
        "a=input()\n",
        "print(a)"
      ]
    },
    {
      "cell_type": "code",
      "execution_count": null,
      "metadata": {
        "colab": {
          "base_uri": "https://localhost:8080/"
        },
        "id": "9B9m6_v3Zr6r",
        "outputId": "b473fbf0-8594-4281-87cd-c8038c863c20"
      },
      "outputs": [
        {
          "name": "stdout",
          "output_type": "stream",
          "text": [
            "enter  number90\n",
            "90\n",
            "<class 'str'>\n"
          ]
        }
      ],
      "source": [
        "a=input(\"enter  number\")\n",
        "print(a)\n",
        "print(type(a))"
      ]
    },
    {
      "cell_type": "code",
      "execution_count": null,
      "metadata": {
        "colab": {
          "base_uri": "https://localhost:8080/",
          "height": 36
        },
        "id": "0ZEfTP3IZw0a",
        "outputId": "f2aadaa8-4907-4b94-a8cd-988f6a08713a"
      },
      "outputs": [
        {
          "data": {
            "application/vnd.google.colaboratory.intrinsic+json": {
              "type": "string"
            },
            "text/plain": [
              "'90'"
            ]
          },
          "execution_count": 3,
          "metadata": {},
          "output_type": "execute_result"
        }
      ],
      "source": [
        "a"
      ]
    },
    {
      "cell_type": "code",
      "execution_count": null,
      "metadata": {
        "colab": {
          "base_uri": "https://localhost:8080/"
        },
        "id": "M9_0W2_naDHk",
        "outputId": "0ff7c231-5443-476f-b781-3f27d8149979"
      },
      "outputs": [
        {
          "name": "stdout",
          "output_type": "stream",
          "text": [
            "90\n"
          ]
        }
      ],
      "source": [
        "print(a)"
      ]
    },
    {
      "cell_type": "code",
      "execution_count": null,
      "metadata": {
        "colab": {
          "base_uri": "https://localhost:8080/"
        },
        "id": "1FVunmvSaJHt",
        "outputId": "23712999-4576-4193-815b-072bd63a1059"
      },
      "outputs": [
        {
          "name": "stdout",
          "output_type": "stream",
          "text": [
            "enter your word: hello\n",
            "hello\n",
            "<class 'str'>\n"
          ]
        }
      ],
      "source": [
        "a=input(\"enter your word: \")\n",
        "print(a)\n",
        "print(type(a))"
      ]
    },
    {
      "cell_type": "code",
      "execution_count": null,
      "metadata": {
        "colab": {
          "base_uri": "https://localhost:8080/",
          "height": 36
        },
        "id": "XkNJrR_daoS9",
        "outputId": "6efa1963-eda8-42d4-9505-fa8bb0bb72e9"
      },
      "outputs": [
        {
          "data": {
            "application/vnd.google.colaboratory.intrinsic+json": {
              "type": "string"
            },
            "text/plain": [
              "'hello'"
            ]
          },
          "execution_count": 8,
          "metadata": {},
          "output_type": "execute_result"
        }
      ],
      "source": [
        "a"
      ]
    },
    {
      "cell_type": "code",
      "execution_count": null,
      "metadata": {
        "id": "du0iUjpKar-1"
      },
      "outputs": [],
      "source": []
    },
    {
      "cell_type": "markdown",
      "metadata": {
        "id": "us5Tonxzbksl"
      },
      "source": [
        "# Type casting\n",
        "* Type casting converts one data to another data type. (int(),float(), complex(),list(),tuple(),dict(),set()."
      ]
    },
    {
      "cell_type": "code",
      "execution_count": null,
      "metadata": {
        "colab": {
          "base_uri": "https://localhost:8080/"
        },
        "id": "FWuFG7MOb8Bk",
        "outputId": "1520251b-dbcc-4e12-c55b-d8f157d36803"
      },
      "outputs": [
        {
          "name": "stdout",
          "output_type": "stream",
          "text": [
            "1\n"
          ]
        },
        {
          "data": {
            "text/plain": [
              "str"
            ]
          },
          "execution_count": 9,
          "metadata": {},
          "output_type": "execute_result"
        }
      ],
      "source": [
        "a=\"1\"\n",
        "print(a)\n",
        "type(a)"
      ]
    },
    {
      "cell_type": "code",
      "execution_count": null,
      "metadata": {
        "colab": {
          "base_uri": "https://localhost:8080/"
        },
        "id": "XRosoaqFcB4L",
        "outputId": "d3b698ce-4245-48c1-e754-f36bf2059971"
      },
      "outputs": [
        {
          "data": {
            "text/plain": [
              "int"
            ]
          },
          "execution_count": 11,
          "metadata": {},
          "output_type": "execute_result"
        }
      ],
      "source": [
        "q=int(a)\n",
        "type(q)"
      ]
    },
    {
      "cell_type": "code",
      "execution_count": null,
      "metadata": {
        "colab": {
          "base_uri": "https://localhost:8080/"
        },
        "id": "19aP8-uucLmm",
        "outputId": "5b9540e2-f0fc-4075-de46-a23a7c5cb35f"
      },
      "outputs": [
        {
          "data": {
            "text/plain": [
              "int"
            ]
          },
          "execution_count": 12,
          "metadata": {},
          "output_type": "execute_result"
        }
      ],
      "source": [
        "a=1\n",
        "type(a)"
      ]
    },
    {
      "cell_type": "code",
      "execution_count": null,
      "metadata": {
        "colab": {
          "base_uri": "https://localhost:8080/"
        },
        "id": "OZLmtlbYcPKl",
        "outputId": "20b3b210-770a-4cd4-f527-54d2331cddea"
      },
      "outputs": [
        {
          "name": "stdout",
          "output_type": "stream",
          "text": [
            "1.0\n"
          ]
        }
      ],
      "source": [
        "e=float(a)\n",
        "type(e)\n",
        "print(e)"
      ]
    },
    {
      "cell_type": "code",
      "execution_count": null,
      "metadata": {
        "colab": {
          "base_uri": "https://localhost:8080/"
        },
        "id": "O1V8cR6BcYiW",
        "outputId": "cb199c6f-c9e7-47cf-f76d-27884282bb72"
      },
      "outputs": [
        {
          "data": {
            "text/plain": [
              "int"
            ]
          },
          "execution_count": 15,
          "metadata": {},
          "output_type": "execute_result"
        }
      ],
      "source": [
        "a=1\n",
        "type(a)"
      ]
    },
    {
      "cell_type": "code",
      "execution_count": null,
      "metadata": {
        "colab": {
          "base_uri": "https://localhost:8080/"
        },
        "id": "6t8TVNF1cc5L",
        "outputId": "a5b7a72c-bce3-47ca-f402-22ce971b6e64"
      },
      "outputs": [
        {
          "name": "stdout",
          "output_type": "stream",
          "text": [
            "1\n"
          ]
        },
        {
          "data": {
            "text/plain": [
              "str"
            ]
          },
          "execution_count": 19,
          "metadata": {},
          "output_type": "execute_result"
        }
      ],
      "source": [
        "t=str(a)\n",
        "print(t)\n",
        "type(t)"
      ]
    },
    {
      "cell_type": "code",
      "execution_count": null,
      "metadata": {
        "colab": {
          "base_uri": "https://localhost:8080/"
        },
        "id": "DQttuPYjcsuk",
        "outputId": "b5fbbb34-3bc5-4f21-d547-26a42ade175f"
      },
      "outputs": [
        {
          "data": {
            "text/plain": [
              "str"
            ]
          },
          "execution_count": 20,
          "metadata": {},
          "output_type": "execute_result"
        }
      ],
      "source": [
        "a=\"hello\"\n",
        "type(a)"
      ]
    },
    {
      "cell_type": "code",
      "execution_count": null,
      "metadata": {
        "id": "beH15q4bcwf7"
      },
      "outputs": [],
      "source": [
        "r=int(a)\n",
        "type(r)"
      ]
    },
    {
      "cell_type": "code",
      "execution_count": null,
      "metadata": {
        "colab": {
          "base_uri": "https://localhost:8080/"
        },
        "id": "lGSFJrguc9lW",
        "outputId": "a1b3c186-c4aa-4a9b-8447-5621fb404da9"
      },
      "outputs": [
        {
          "name": "stdout",
          "output_type": "stream",
          "text": [
            "enter your number :2\n"
          ]
        },
        {
          "data": {
            "text/plain": [
              "str"
            ]
          },
          "execution_count": 22,
          "metadata": {},
          "output_type": "execute_result"
        }
      ],
      "source": [
        "a=input(\"enter your number :\")\n",
        "type(a)"
      ]
    },
    {
      "cell_type": "code",
      "execution_count": null,
      "metadata": {
        "colab": {
          "base_uri": "https://localhost:8080/"
        },
        "id": "pDMSl6tSdEm-",
        "outputId": "08daf50b-87b7-4355-cda5-edd94b9aaa8c"
      },
      "outputs": [
        {
          "name": "stdout",
          "output_type": "stream",
          "text": [
            "enter your number :2\n"
          ]
        },
        {
          "data": {
            "text/plain": [
              "int"
            ]
          },
          "execution_count": 23,
          "metadata": {},
          "output_type": "execute_result"
        }
      ],
      "source": [
        "a=int(input(\"enter your number :\"))\n",
        "type(a)"
      ]
    },
    {
      "cell_type": "code",
      "execution_count": null,
      "metadata": {
        "colab": {
          "base_uri": "https://localhost:8080/"
        },
        "id": "-HHW4rwxdO5J",
        "outputId": "bd960f83-3b77-4584-ea96-3fb88d1caeb6"
      },
      "outputs": [
        {
          "name": "stdout",
          "output_type": "stream",
          "text": [
            "enter your list : 1,2,3\n"
          ]
        },
        {
          "data": {
            "text/plain": [
              "list"
            ]
          },
          "execution_count": 25,
          "metadata": {},
          "output_type": "execute_result"
        }
      ],
      "source": [
        "a=list(input(\"enter your list : \"))\n",
        "type(a)"
      ]
    },
    {
      "cell_type": "code",
      "execution_count": null,
      "metadata": {
        "colab": {
          "base_uri": "https://localhost:8080/"
        },
        "id": "w-g29uO5ddaT",
        "outputId": "4fb34b4d-b94b-4caa-c5ed-56f83d915fc5"
      },
      "outputs": [
        {
          "name": "stdout",
          "output_type": "stream",
          "text": [
            "enter your number : 1,2,3\n"
          ]
        },
        {
          "data": {
            "text/plain": [
              "tuple"
            ]
          },
          "execution_count": 26,
          "metadata": {},
          "output_type": "execute_result"
        }
      ],
      "source": [
        "a=eval(input(\"enter your number : \"))\n",
        "type(a)"
      ]
    },
    {
      "cell_type": "code",
      "execution_count": null,
      "metadata": {
        "colab": {
          "base_uri": "https://localhost:8080/"
        },
        "id": "4sZ5_O4cdpcz",
        "outputId": "f8351148-8ea7-4f45-a452-a2036c456400"
      },
      "outputs": [
        {
          "name": "stdout",
          "output_type": "stream",
          "text": [
            "enter your number : [1,2]\n"
          ]
        },
        {
          "data": {
            "text/plain": [
              "list"
            ]
          },
          "execution_count": 27,
          "metadata": {},
          "output_type": "execute_result"
        }
      ],
      "source": [
        "a=eval(input(\"enter your number : \"))\n",
        "type(a)\n"
      ]
    },
    {
      "cell_type": "code",
      "execution_count": null,
      "metadata": {
        "colab": {
          "base_uri": "https://localhost:8080/"
        },
        "id": "_riSV2dhdyzF",
        "outputId": "0a2a8497-4205-4bd7-8264-a227d85bb678"
      },
      "outputs": [
        {
          "name": "stdout",
          "output_type": "stream",
          "text": [
            "enter your number1\n"
          ]
        },
        {
          "data": {
            "text/plain": [
              "int"
            ]
          },
          "execution_count": 28,
          "metadata": {},
          "output_type": "execute_result"
        }
      ],
      "source": [
        "a=eval(input(\"enter your number\"))\n",
        "type(a)"
      ]
    },
    {
      "cell_type": "code",
      "execution_count": null,
      "metadata": {
        "id": "n2uygbaTeIAH"
      },
      "outputs": [],
      "source": [
        "a=3\n",
        "o=eval(a)  # eval function only used to string data type then change the other data type.\n",
        "print(o)\n",
        "type(o)"
      ]
    },
    {
      "cell_type": "code",
      "execution_count": null,
      "metadata": {
        "colab": {
          "base_uri": "https://localhost:8080/"
        },
        "id": "qpflMB01enac",
        "outputId": "9ba060df-ad74-45e4-a967-e7ef69b7ae60"
      },
      "outputs": [
        {
          "data": {
            "text/plain": [
              "str"
            ]
          },
          "execution_count": 30,
          "metadata": {},
          "output_type": "execute_result"
        }
      ],
      "source": [
        "a=\"1\"\n",
        "u=eval(a)\n",
        "type(a)"
      ]
    },
    {
      "cell_type": "code",
      "execution_count": null,
      "metadata": {
        "colab": {
          "base_uri": "https://localhost:8080/"
        },
        "id": "nPEluZiBevkA",
        "outputId": "2df24369-3a7f-4bfc-8aca-c8abff98ed2c"
      },
      "outputs": [
        {
          "data": {
            "text/plain": [
              "int"
            ]
          },
          "execution_count": 31,
          "metadata": {},
          "output_type": "execute_result"
        }
      ],
      "source": [
        "type(u)"
      ]
    },
    {
      "cell_type": "markdown",
      "metadata": {
        "id": "UJsqkP9se5C5"
      },
      "source": [
        "# LIST\n",
        "\n",
        "# Mutable data type\n",
        "  *   List\n",
        "  *   Set\n",
        "  *   Dictionary\n",
        "\n",
        "# List Data Type\n",
        "1.   Mutable\n",
        "2.   Iterable\n",
        "3.   ordered\n",
        "4.   duplicate allowed\n",
        "5.   hetrogeneous\n",
        "6.   denoted by [] square brackets\n",
        "\n",
        "\n",
        "\n",
        "\n"
      ]
    },
    {
      "cell_type": "code",
      "execution_count": null,
      "metadata": {
        "colab": {
          "base_uri": "https://localhost:8080/"
        },
        "id": "cDJL40nkhVj4",
        "outputId": "d3e1eddb-a546-405e-a594-84b7b4880568"
      },
      "outputs": [
        {
          "name": "stdout",
          "output_type": "stream",
          "text": [
            "136383726564224\n",
            "136383726564224\n"
          ]
        }
      ],
      "source": [
        "# Mutable\n",
        "a=[1,2]\n",
        "print(id(a))\n",
        "b=[1,2]\n",
        "a+=b\n",
        "a\n",
        "print(id(a))"
      ]
    },
    {
      "cell_type": "code",
      "execution_count": null,
      "metadata": {
        "colab": {
          "base_uri": "https://localhost:8080/"
        },
        "id": "r8y0BzRaaXZq",
        "outputId": "8b9286cd-3289-4615-f8f2-52a7dafa64cf"
      },
      "outputs": [
        {
          "data": {
            "text/plain": [
              "True"
            ]
          },
          "execution_count": 8,
          "metadata": {},
          "output_type": "execute_result"
        }
      ],
      "source": [
        "#Iterable\n",
        "a=[1,3,2]\n",
        "2 in a"
      ]
    },
    {
      "cell_type": "code",
      "execution_count": null,
      "metadata": {
        "colab": {
          "base_uri": "https://localhost:8080/",
          "height": 164
        },
        "id": "WOU7mX6LaecY",
        "outputId": "0caed871-fbe5-4519-d696-cda6e8eed1af"
      },
      "outputs": [
        {
          "ename": "TypeError",
          "evalue": "argument of type 'int' is not iterable",
          "output_type": "error",
          "traceback": [
            "\u001b[0;31m---------------------------------------------------------------------------\u001b[0m",
            "\u001b[0;31mTypeError\u001b[0m                                 Traceback (most recent call last)",
            "\u001b[0;32m<ipython-input-12-5231a3a5e28f>\u001b[0m in \u001b[0;36m<cell line: 2>\u001b[0;34m()\u001b[0m\n\u001b[1;32m      1\u001b[0m \u001b[0ma\u001b[0m\u001b[0;34m=\u001b[0m\u001b[0;36m125\u001b[0m\u001b[0;34m\u001b[0m\u001b[0;34m\u001b[0m\u001b[0m\n\u001b[0;32m----> 2\u001b[0;31m \u001b[0;36m1\u001b[0m \u001b[0;32min\u001b[0m \u001b[0ma\u001b[0m \u001b[0;31m# because list is iterable data type that's why error coming\u001b[0m\u001b[0;34m\u001b[0m\u001b[0;34m\u001b[0m\u001b[0m\n\u001b[0m",
            "\u001b[0;31mTypeError\u001b[0m: argument of type 'int' is not iterable"
          ]
        }
      ],
      "source": [
        "a=125\n",
        "1 in a # because list is iterable data type that's why error coming"
      ]
    },
    {
      "cell_type": "code",
      "execution_count": null,
      "metadata": {
        "colab": {
          "base_uri": "https://localhost:8080/"
        },
        "id": "TZmYWm0Qaihq",
        "outputId": "1154f437-e14c-442d-c100-b7e5c300cf9f"
      },
      "outputs": [
        {
          "data": {
            "text/plain": [
              "1"
            ]
          },
          "execution_count": 11,
          "metadata": {},
          "output_type": "execute_result"
        }
      ],
      "source": [
        "# ordered\n",
        "a=[1,2,3]\n",
        "a[0]"
      ]
    },
    {
      "cell_type": "code",
      "execution_count": null,
      "metadata": {
        "colab": {
          "base_uri": "https://localhost:8080/"
        },
        "id": "2XlS255sa1Yn",
        "outputId": "be7dd4aa-07c6-4d7a-be25-5593f0c03ce3"
      },
      "outputs": [
        {
          "name": "stdout",
          "output_type": "stream",
          "text": [
            "[1, 2, 3, 1, 2]\n"
          ]
        }
      ],
      "source": [
        "#duplicate\n",
        "a=[1,2,3,1,2]\n",
        "print(a)"
      ]
    },
    {
      "cell_type": "code",
      "execution_count": null,
      "metadata": {
        "colab": {
          "base_uri": "https://localhost:8080/"
        },
        "id": "SJ8fwnehbHrX",
        "outputId": "310e3953-c905-4717-9b95-f64fcdcf5e57"
      },
      "outputs": [
        {
          "name": "stdout",
          "output_type": "stream",
          "text": [
            "['hello', 1, 3, 2]\n"
          ]
        }
      ],
      "source": [
        "# heterogenous\n",
        "a=[\"hello\", 1, 3,2]\n",
        "print(a)"
      ]
    },
    {
      "cell_type": "code",
      "execution_count": null,
      "metadata": {
        "colab": {
          "base_uri": "https://localhost:8080/"
        },
        "id": "96GWaGJ5bRkh",
        "outputId": "42f92051-db8f-4e83-858a-10b559ffb817"
      },
      "outputs": [
        {
          "data": {
            "text/plain": [
              "list"
            ]
          },
          "execution_count": 15,
          "metadata": {},
          "output_type": "execute_result"
        }
      ],
      "source": [
        "# square bracket\n",
        "a=[]\n",
        "type(a)"
      ]
    },
    {
      "cell_type": "code",
      "execution_count": null,
      "metadata": {
        "colab": {
          "base_uri": "https://localhost:8080/"
        },
        "id": "Q5mkfzeobX-3",
        "outputId": "4b2d098c-f1bc-4fc2-a761-b2e4a69bb556"
      },
      "outputs": [
        {
          "name": "stdout",
          "output_type": "stream",
          "text": [
            "[]\n"
          ]
        },
        {
          "data": {
            "text/plain": [
              "list"
            ]
          },
          "execution_count": 16,
          "metadata": {},
          "output_type": "execute_result"
        }
      ],
      "source": [
        "a=list()  # constructor\n",
        "print(a)\n",
        "type(a)"
      ]
    },
    {
      "cell_type": "markdown",
      "metadata": {
        "id": "yoOb7iAibtmg"
      },
      "source": [
        "## Methods of list data type adding\n",
        "* Rules for addition in List\n",
        "\n",
        "1.   Append()\n",
        "2.   Extend()\n",
        "3.   Insert()\n"
      ]
    },
    {
      "cell_type": "markdown",
      "metadata": {
        "id": "FdcFOQ6TdG2n"
      },
      "source": [
        "### .append()\n",
        "*   The append method os a common way to add an element to the end of a list.\n",
        "\n",
        "#  Here are some rules for using the append method.\n",
        "\n",
        "\n",
        "*   Syntax: The basic syntax for append is:\n",
        "\n",
        "    list_name.append(element)\n",
        "\n",
        "*   Argument: Append takes only one argument,the element you want to add to the list.\n",
        "*   Data Type: The element can be mutable/immutable type.\n",
        "*   Modification: Append modifies the original list by adding the new elements in the end.\n",
        "*   Return Value: Append return None, whenever we use print and append method together.\n",
        "*   Note: append method is a list method.\n",
        "*   Example:\n",
        "\n",
        "\n"
      ]
    },
    {
      "cell_type": "code",
      "execution_count": null,
      "metadata": {
        "colab": {
          "base_uri": "https://localhost:8080/"
        },
        "id": "w85yiGhifZSm",
        "outputId": "af2cb4e3-54b1-406c-c6c5-ab4b5f88e56f"
      },
      "outputs": [
        {
          "name": "stdout",
          "output_type": "stream",
          "text": [
            "[1, 2, 3, 1]\n"
          ]
        }
      ],
      "source": [
        "a=[1,2,3,1]\n",
        "print(a)"
      ]
    },
    {
      "cell_type": "code",
      "execution_count": null,
      "metadata": {
        "colab": {
          "base_uri": "https://localhost:8080/"
        },
        "id": "dYb7QT7-gFok",
        "outputId": "cb43eb40-7fa4-4179-eff9-4991045cba12"
      },
      "outputs": [
        {
          "name": "stdout",
          "output_type": "stream",
          "text": [
            "[1, 2, 3, 1, 2]\n"
          ]
        }
      ],
      "source": [
        "a.append(2)\n",
        "print(a)"
      ]
    },
    {
      "cell_type": "code",
      "execution_count": null,
      "metadata": {
        "colab": {
          "base_uri": "https://localhost:8080/",
          "height": 164
        },
        "id": "sW-AIgDdgNvA",
        "outputId": "75bde17e-f073-4572-c2f2-352ea3fbc20b"
      },
      "outputs": [
        {
          "ename": "TypeError",
          "evalue": "list.append() takes exactly one argument (2 given)",
          "output_type": "error",
          "traceback": [
            "\u001b[0;31m---------------------------------------------------------------------------\u001b[0m",
            "\u001b[0;31mTypeError\u001b[0m                                 Traceback (most recent call last)",
            "\u001b[0;32m<ipython-input-22-ef7b08924bf4>\u001b[0m in \u001b[0;36m<cell line: 1>\u001b[0;34m()\u001b[0m\n\u001b[0;32m----> 1\u001b[0;31m \u001b[0ma\u001b[0m\u001b[0;34m.\u001b[0m\u001b[0mappend\u001b[0m\u001b[0;34m(\u001b[0m\u001b[0;36m1\u001b[0m\u001b[0;34m,\u001b[0m\u001b[0;36m2\u001b[0m\u001b[0;34m)\u001b[0m\u001b[0;34m\u001b[0m\u001b[0;34m\u001b[0m\u001b[0m\n\u001b[0m\u001b[1;32m      2\u001b[0m \u001b[0mprint\u001b[0m\u001b[0;34m(\u001b[0m\u001b[0ma\u001b[0m\u001b[0;34m)\u001b[0m\u001b[0;34m\u001b[0m\u001b[0;34m\u001b[0m\u001b[0m\n",
            "\u001b[0;31mTypeError\u001b[0m: list.append() takes exactly one argument (2 given)"
          ]
        }
      ],
      "source": [
        "a.append(1,2)\n",
        "print(a)"
      ]
    },
    {
      "cell_type": "code",
      "execution_count": null,
      "metadata": {
        "colab": {
          "base_uri": "https://localhost:8080/"
        },
        "id": "js_rMjhOgVU8",
        "outputId": "8be41898-7e5c-45e9-f8e5-d6eb4fab81d8"
      },
      "outputs": [
        {
          "name": "stdout",
          "output_type": "stream",
          "text": [
            "[1, 2, 3, 1, 2, [1, 2, 3]]\n"
          ]
        }
      ],
      "source": [
        "a.append([1,2,3])   #mutable data type\n",
        "print(a)"
      ]
    },
    {
      "cell_type": "code",
      "execution_count": null,
      "metadata": {
        "colab": {
          "base_uri": "https://localhost:8080/"
        },
        "id": "RpApLA9xglQr",
        "outputId": "bc3783cf-c16d-41ff-d893-4f8e68c20814"
      },
      "outputs": [
        {
          "name": "stdout",
          "output_type": "stream",
          "text": [
            "[1, 2, 3, 1, 2, [1, 2, 3], 'hello']\n"
          ]
        }
      ],
      "source": [
        "a.append(\"hello\")  #immutable data type\n",
        "print(a)"
      ]
    },
    {
      "cell_type": "code",
      "execution_count": null,
      "metadata": {
        "colab": {
          "base_uri": "https://localhost:8080/"
        },
        "id": "CZBd7C9ngxgi",
        "outputId": "a45dcc15-1c55-4b58-ecbb-6a1273f6a8ff"
      },
      "outputs": [
        {
          "name": "stdout",
          "output_type": "stream",
          "text": [
            "136382857968960\n",
            "[1, 2, 3, 4]\n",
            "136382857968960\n"
          ]
        }
      ],
      "source": [
        "a=[1,2,3]\n",
        "print(id(a))\n",
        "a.append(4)\n",
        "print(a)\n",
        "print(id(a))"
      ]
    },
    {
      "cell_type": "code",
      "execution_count": null,
      "metadata": {
        "colab": {
          "base_uri": "https://localhost:8080/"
        },
        "id": "-5LghZFthA_t",
        "outputId": "6b07c277-0b6a-4080-9a05-31832e2d901d"
      },
      "outputs": [
        {
          "name": "stdout",
          "output_type": "stream",
          "text": [
            "None\n"
          ]
        }
      ],
      "source": [
        "a=[1,2,3]\n",
        "print(a.append(5))"
      ]
    },
    {
      "cell_type": "code",
      "execution_count": null,
      "metadata": {
        "colab": {
          "base_uri": "https://localhost:8080/"
        },
        "id": "F2LLcyiVhKHX",
        "outputId": "6775779f-ad99-4dbc-f9b0-b9a50ff38e84"
      },
      "outputs": [
        {
          "data": {
            "text/plain": [
              "[1, 2, 3, 5]"
            ]
          },
          "execution_count": 27,
          "metadata": {},
          "output_type": "execute_result"
        }
      ],
      "source": [
        "a"
      ]
    },
    {
      "cell_type": "code",
      "execution_count": null,
      "metadata": {
        "colab": {
          "base_uri": "https://localhost:8080/",
          "height": 182
        },
        "id": "-Mv_KX8YhPgn",
        "outputId": "f3171c15-9b5f-46ec-c89e-adbbd8073e58"
      },
      "outputs": [
        {
          "ename": "AttributeError",
          "evalue": "'int' object has no attribute 'append'",
          "output_type": "error",
          "traceback": [
            "\u001b[0;31m---------------------------------------------------------------------------\u001b[0m",
            "\u001b[0;31mAttributeError\u001b[0m                            Traceback (most recent call last)",
            "\u001b[0;32m<ipython-input-28-2b9d0342e0be>\u001b[0m in \u001b[0;36m<cell line: 2>\u001b[0;34m()\u001b[0m\n\u001b[1;32m      1\u001b[0m \u001b[0ma\u001b[0m\u001b[0;34m=\u001b[0m\u001b[0;36m40\u001b[0m\u001b[0;34m\u001b[0m\u001b[0;34m\u001b[0m\u001b[0m\n\u001b[0;32m----> 2\u001b[0;31m \u001b[0ma\u001b[0m\u001b[0;34m.\u001b[0m\u001b[0mappend\u001b[0m\u001b[0;34m(\u001b[0m\u001b[0;36m3\u001b[0m\u001b[0;34m)\u001b[0m\u001b[0;34m\u001b[0m\u001b[0;34m\u001b[0m\u001b[0m\n\u001b[0m\u001b[1;32m      3\u001b[0m \u001b[0mprint\u001b[0m\u001b[0;34m(\u001b[0m\u001b[0ma\u001b[0m\u001b[0;34m)\u001b[0m\u001b[0;34m\u001b[0m\u001b[0;34m\u001b[0m\u001b[0m\n",
            "\u001b[0;31mAttributeError\u001b[0m: 'int' object has no attribute 'append'"
          ]
        }
      ],
      "source": [
        "a=40\n",
        "a.append(3)\n",
        "print(a)"
      ]
    },
    {
      "cell_type": "markdown",
      "metadata": {
        "id": "rqHNMqX9hWWH"
      },
      "source": [
        "### .extend()\n",
        "*  The extend method is used to add multiple element to a list in python.\n",
        "\n",
        "# Here are the rules for using extend method is:\n",
        "\n",
        "*   Syntax: The basic syntax for extend method is:\n",
        "\n",
        "    list_name.extend(element)\n",
        "\n",
        "*   Argument: Extend takes one argument, an iterable containing the elements to be added.\n",
        "*   Data Type: The elements in the iterable can be of any data type,including string, integer,float and other list.\n",
        "* Modification : Extend modifies the original list by adding the new elements to the end.\n",
        "* Return value: Extend retuen None, whenever we use the print and append method together.\n",
        "* Note: Extend method is a list.\n",
        "* Example:\n",
        "\n",
        "\n"
      ]
    },
    {
      "cell_type": "code",
      "execution_count": null,
      "metadata": {
        "colab": {
          "base_uri": "https://localhost:8080/"
        },
        "id": "yDGPCSowy5qE",
        "outputId": "7019dca0-8d6e-4037-a11a-67ea8c201db7"
      },
      "outputs": [
        {
          "name": "stdout",
          "output_type": "stream",
          "text": [
            "[1, 2, 3, 'h', 'e', 'l', 'l', 'o']\n"
          ]
        }
      ],
      "source": [
        "a=[1,2,3]\n",
        "a.extend(\"hello\")\n",
        "print(a)"
      ]
    },
    {
      "cell_type": "code",
      "execution_count": null,
      "metadata": {
        "colab": {
          "base_uri": "https://localhost:8080/",
          "height": 164
        },
        "id": "d3CeILdIzbSe",
        "outputId": "b6568b07-cec8-403f-f2bf-bda8c846e159"
      },
      "outputs": [
        {
          "ename": "TypeError",
          "evalue": "'int' object is not iterable",
          "output_type": "error",
          "traceback": [
            "\u001b[0;31m---------------------------------------------------------------------------\u001b[0m",
            "\u001b[0;31mTypeError\u001b[0m                                 Traceback (most recent call last)",
            "\u001b[0;32m<ipython-input-30-eda4be458cde>\u001b[0m in \u001b[0;36m<cell line: 1>\u001b[0;34m()\u001b[0m\n\u001b[0;32m----> 1\u001b[0;31m \u001b[0ma\u001b[0m\u001b[0;34m.\u001b[0m\u001b[0mextend\u001b[0m\u001b[0;34m(\u001b[0m\u001b[0;36m1\u001b[0m\u001b[0;34m)\u001b[0m\u001b[0;34m\u001b[0m\u001b[0;34m\u001b[0m\u001b[0m\n\u001b[0m\u001b[1;32m      2\u001b[0m \u001b[0mprint\u001b[0m\u001b[0;34m(\u001b[0m\u001b[0ma\u001b[0m\u001b[0;34m)\u001b[0m\u001b[0;34m\u001b[0m\u001b[0;34m\u001b[0m\u001b[0m\n",
            "\u001b[0;31mTypeError\u001b[0m: 'int' object is not iterable"
          ]
        }
      ],
      "source": [
        "a.extend(1)\n",
        "print(a)"
      ]
    },
    {
      "cell_type": "code",
      "execution_count": null,
      "metadata": {
        "colab": {
          "base_uri": "https://localhost:8080/"
        },
        "id": "1dzqGQnczhtD",
        "outputId": "20d5bdf7-5fa5-4409-dac2-0bf54941377a"
      },
      "outputs": [
        {
          "name": "stdout",
          "output_type": "stream",
          "text": [
            "136382857726208\n",
            "[1, 2, 3, '1']\n",
            "136382857726208\n"
          ]
        }
      ],
      "source": [
        "a=[1,2,3]\n",
        "print(id(a))\n",
        "a.extend(\"1\")\n",
        "print(a)\n",
        "print(id(a))"
      ]
    },
    {
      "cell_type": "code",
      "execution_count": null,
      "metadata": {
        "colab": {
          "base_uri": "https://localhost:8080/"
        },
        "id": "ddOLh1REz2WP",
        "outputId": "78c3e565-f258-4422-9825-53c0845f1072"
      },
      "outputs": [
        {
          "name": "stdout",
          "output_type": "stream",
          "text": [
            "None\n"
          ]
        }
      ],
      "source": [
        "print(a.extend([1,2,3]))\n"
      ]
    },
    {
      "cell_type": "code",
      "execution_count": null,
      "metadata": {
        "colab": {
          "base_uri": "https://localhost:8080/"
        },
        "id": "l8-_k8uZ0ANs",
        "outputId": "ef690951-1e89-453c-d163-75ed6600ed40"
      },
      "outputs": [
        {
          "data": {
            "text/plain": [
              "[1, 2, 3, '1', 1, 2, 3]"
            ]
          },
          "execution_count": 33,
          "metadata": {},
          "output_type": "execute_result"
        }
      ],
      "source": [
        "a\n"
      ]
    },
    {
      "cell_type": "code",
      "execution_count": null,
      "metadata": {
        "colab": {
          "base_uri": "https://localhost:8080/",
          "height": 182
        },
        "id": "YyF7MBOs0EtL",
        "outputId": "a155312e-1b2d-4c41-84e7-d52483d47434"
      },
      "outputs": [
        {
          "ename": "AttributeError",
          "evalue": "'str' object has no attribute 'extend'",
          "output_type": "error",
          "traceback": [
            "\u001b[0;31m---------------------------------------------------------------------------\u001b[0m",
            "\u001b[0;31mAttributeError\u001b[0m                            Traceback (most recent call last)",
            "\u001b[0;32m<ipython-input-34-214b536ad38d>\u001b[0m in \u001b[0;36m<cell line: 2>\u001b[0;34m()\u001b[0m\n\u001b[1;32m      1\u001b[0m \u001b[0ma\u001b[0m\u001b[0;34m=\u001b[0m\u001b[0;34m\"hello\"\u001b[0m\u001b[0;34m\u001b[0m\u001b[0;34m\u001b[0m\u001b[0m\n\u001b[0;32m----> 2\u001b[0;31m \u001b[0ma\u001b[0m\u001b[0;34m.\u001b[0m\u001b[0mextend\u001b[0m\u001b[0;34m(\u001b[0m\u001b[0;36m4\u001b[0m\u001b[0;34m)\u001b[0m\u001b[0;34m\u001b[0m\u001b[0;34m\u001b[0m\u001b[0m\n\u001b[0m\u001b[1;32m      3\u001b[0m \u001b[0mprint\u001b[0m\u001b[0;34m(\u001b[0m\u001b[0ma\u001b[0m\u001b[0;34m)\u001b[0m\u001b[0;34m\u001b[0m\u001b[0;34m\u001b[0m\u001b[0m\n",
            "\u001b[0;31mAttributeError\u001b[0m: 'str' object has no attribute 'extend'"
          ]
        }
      ],
      "source": [
        "a=\"hello\"\n",
        "a.extend(4)\n",
        "print(a)"
      ]
    },
    {
      "cell_type": "markdown",
      "source": [
        "# New Section"
      ],
      "metadata": {
        "id": "x6NESY8SPhx7"
      }
    },
    {
      "cell_type": "markdown",
      "metadata": {
        "id": "ovEE8tAi0SbI"
      },
      "source": [
        "### .insert()\n",
        "- The insert method is a built-in list method in python that inserts a specified element at a specified position in the list.\n",
        "\n",
        "# Here are the rules for using the insert method in Python.\n",
        "\n",
        "*   Syntax:\n",
        "\n",
        "    list_name.insert(index,element)\n",
        "*   Index: The position where you want to insert the element.Remember,Python uses 0-biased indexing!\n",
        "* Argument: The value you want to insert.\n",
        "* Return: None(it modifies the list in place)\n",
        "* Note: If the index is beyond the list's length,the element will be appended to the end.\n",
        "* Example:\n",
        "\n"
      ]
    },
    {
      "cell_type": "code",
      "execution_count": null,
      "metadata": {
        "colab": {
          "base_uri": "https://localhost:8080/"
        },
        "id": "4IgPfVWB2aDR",
        "outputId": "72648260-b46b-4a69-b1e9-bcb9336bddd5"
      },
      "outputs": [
        {
          "name": "stdout",
          "output_type": "stream",
          "text": [
            "136382857741184\n",
            "[1, 2, 'hello', 3]\n"
          ]
        }
      ],
      "source": [
        "a=[1,2,3]\n",
        "a.insert(2,\"hello\")\n",
        "print(id(a))\n",
        "print(a)"
      ]
    },
    {
      "cell_type": "code",
      "execution_count": null,
      "metadata": {
        "colab": {
          "base_uri": "https://localhost:8080/"
        },
        "id": "0f9Q4oCL22wI",
        "outputId": "22b913ee-8cab-4169-8a77-b6f2eae5a9a2"
      },
      "outputs": [
        {
          "name": "stdout",
          "output_type": "stream",
          "text": [
            "[1, [1, 2, 3], 2, 'hello', 3]\n"
          ]
        }
      ],
      "source": [
        "a.insert(1,[1,2,3])\n",
        "print(a)"
      ]
    },
    {
      "cell_type": "code",
      "execution_count": null,
      "metadata": {
        "colab": {
          "base_uri": "https://localhost:8080/"
        },
        "id": "4tiGaXHS2_MQ",
        "outputId": "39bcea2e-a7cc-467a-e58f-464297092213"
      },
      "outputs": [
        {
          "name": "stdout",
          "output_type": "stream",
          "text": [
            "None\n"
          ]
        }
      ],
      "source": [
        "print(a.insert(2,78))"
      ]
    },
    {
      "cell_type": "code",
      "execution_count": null,
      "metadata": {
        "colab": {
          "base_uri": "https://localhost:8080/"
        },
        "id": "o9M3ekLd3nTp",
        "outputId": "dc94f037-c195-4910-b415-c9513f8ea296"
      },
      "outputs": [
        {
          "data": {
            "text/plain": [
              "[1, [1, 2, 3], 78, 2, 'hello', 3]"
            ]
          },
          "execution_count": 51,
          "metadata": {},
          "output_type": "execute_result"
        }
      ],
      "source": [
        "a"
      ]
    },
    {
      "cell_type": "code",
      "execution_count": null,
      "metadata": {
        "colab": {
          "base_uri": "https://localhost:8080/"
        },
        "id": "bXpSBu5a3HZH",
        "outputId": "ad2d9568-88cb-4f3a-dd71-8d272e869735"
      },
      "outputs": [
        {
          "name": "stdout",
          "output_type": "stream",
          "text": [
            "136382857741184\n"
          ]
        }
      ],
      "source": [
        "print(id(a))"
      ]
    },
    {
      "cell_type": "code",
      "execution_count": null,
      "metadata": {
        "colab": {
          "base_uri": "https://localhost:8080/"
        },
        "id": "V4ARHSQq3KFf",
        "outputId": "36239d25-7ff1-4c42-e939-cfd8ca6ce7c2"
      },
      "outputs": [
        {
          "name": "stdout",
          "output_type": "stream",
          "text": [
            "[1, [1, 2, 3], 78, 2, 'world', 'hello', 3]\n",
            "136382857741184\n"
          ]
        }
      ],
      "source": [
        "a.insert(4,\"world\")\n",
        "print(a)\n",
        "print(id(a))"
      ]
    },
    {
      "cell_type": "markdown",
      "metadata": {
        "id": "EsPQsXbM4Pbt"
      },
      "source": [
        "## List Removing Methods\n",
        "\n",
        "#Rules for Removing method in List\n",
        "\n",
        "*   Remove()\n",
        "*   Pop()\n",
        "*   clear()\n",
        "*   Del\n",
        "\n"
      ]
    },
    {
      "cell_type": "markdown",
      "metadata": {
        "id": "i0fbxS8N5DlP"
      },
      "source": [
        "### .remove()\n",
        "-  The remove method is a common way to remove an element from a list.\n",
        "\n",
        "# Here are some rules for using the remove method.\n",
        "\n",
        "*   Syntax: The basic syntax for remove is:\n",
        "    list_name.remove(element)\n",
        "*   Argument: Remove takes only one argument, the element you want to remove from the list.\n",
        "*   Data Type: The element can be mutable/immutable type.\n",
        "*   Modification:Remove modifies the original list by removing the element.\n",
        "*   Return Value:Removes return None,whenever we use the print and append method together.\n",
        "*   Note: Remove method is a list method.\n",
        "*   Example:\n",
        "\n",
        "\n",
        "\n"
      ]
    },
    {
      "cell_type": "code",
      "execution_count": null,
      "metadata": {
        "colab": {
          "base_uri": "https://localhost:8080/"
        },
        "id": "3NWOCT9X4rjH",
        "outputId": "8c5fb376-8fca-4fb7-9bd6-ee7979d37970"
      },
      "outputs": [
        {
          "name": "stdout",
          "output_type": "stream",
          "text": [
            "[1, 3]\n"
          ]
        }
      ],
      "source": [
        "a=[1,2,3]\n",
        "a.remove(2)\n",
        "print(a)\n"
      ]
    },
    {
      "cell_type": "code",
      "execution_count": null,
      "metadata": {
        "colab": {
          "base_uri": "https://localhost:8080/",
          "height": 182
        },
        "id": "xclHlqAY7anP",
        "outputId": "ba6cd2d1-4128-4367-e21b-087424799e31"
      },
      "outputs": [
        {
          "ename": "TypeError",
          "evalue": "list.remove() takes exactly one argument (2 given)",
          "output_type": "error",
          "traceback": [
            "\u001b[0;31m---------------------------------------------------------------------------\u001b[0m",
            "\u001b[0;31mTypeError\u001b[0m                                 Traceback (most recent call last)",
            "\u001b[0;32m<ipython-input-2-f63b9eedeb0d>\u001b[0m in \u001b[0;36m<cell line: 2>\u001b[0;34m()\u001b[0m\n\u001b[1;32m      1\u001b[0m \u001b[0ma\u001b[0m\u001b[0;34m=\u001b[0m\u001b[0;34m[\u001b[0m\u001b[0;36m1\u001b[0m\u001b[0;34m,\u001b[0m\u001b[0;36m2\u001b[0m\u001b[0;34m,\u001b[0m\u001b[0;36m3\u001b[0m\u001b[0;34m]\u001b[0m\u001b[0;34m\u001b[0m\u001b[0;34m\u001b[0m\u001b[0m\n\u001b[0;32m----> 2\u001b[0;31m \u001b[0ma\u001b[0m\u001b[0;34m.\u001b[0m\u001b[0mremove\u001b[0m\u001b[0;34m(\u001b[0m\u001b[0;36m1\u001b[0m\u001b[0;34m,\u001b[0m\u001b[0;36m2\u001b[0m\u001b[0;34m)\u001b[0m\u001b[0;34m\u001b[0m\u001b[0;34m\u001b[0m\u001b[0m\n\u001b[0m\u001b[1;32m      3\u001b[0m \u001b[0mprint\u001b[0m\u001b[0;34m(\u001b[0m\u001b[0ma\u001b[0m\u001b[0;34m)\u001b[0m\u001b[0;34m\u001b[0m\u001b[0;34m\u001b[0m\u001b[0m\n",
            "\u001b[0;31mTypeError\u001b[0m: list.remove() takes exactly one argument (2 given)"
          ]
        }
      ],
      "source": [
        "a=[1,2,3]\n",
        "a.remove(1,2)\n",
        "print(a)"
      ]
    },
    {
      "cell_type": "code",
      "execution_count": null,
      "metadata": {
        "colab": {
          "base_uri": "https://localhost:8080/"
        },
        "id": "6F9Ge3ix7atq",
        "outputId": "0203692b-dbc9-4088-deb2-5393027e5b95"
      },
      "outputs": [
        {
          "name": "stdout",
          "output_type": "stream",
          "text": [
            "[1, 2, 3]\n"
          ]
        }
      ],
      "source": [
        "a=[1,2,3,[5,6]]\n",
        "a.remove([5,6])\n",
        "print(a)"
      ]
    },
    {
      "cell_type": "code",
      "execution_count": null,
      "metadata": {
        "colab": {
          "base_uri": "https://localhost:8080/"
        },
        "id": "KzXkLJJ272le",
        "outputId": "0871f6e3-3ec9-480f-f377-59c5c246f4ba"
      },
      "outputs": [
        {
          "name": "stdout",
          "output_type": "stream",
          "text": [
            "None\n"
          ]
        }
      ],
      "source": [
        "a=[1,2,3]\n",
        "print(a.remove(1))"
      ]
    },
    {
      "cell_type": "code",
      "execution_count": null,
      "metadata": {
        "id": "qtPTTfEa8Gca"
      },
      "outputs": [],
      "source": [
        "a=[1,2,3]\n",
        "print(id(a))\n",
        "a.remove(2)\n",
        "print(a)\n",
        "print(id(a))"
      ]
    },
    {
      "cell_type": "markdown",
      "metadata": {
        "id": "HgoVXB7A8dKp"
      },
      "source": [
        "### .pop()\n",
        "* In Python,the pop method for lists is used to remove and return an element at a specified index.\n",
        "* **Here are the rules and details**:\n",
        "\n",
        "  **Syntax**: list.pop(index number of element)\n",
        "\n",
        "  **Syntax**: list.pop() --without element\n",
        "\n",
        "    1. Index(optional): The position of the element you want to remove.If not specified,it defaults to -1, which removes the last item in the list.\n",
        "    2. Return: The method returns that was removed from the list.\n",
        "    3. IndexError: If the list is empty or the index is out of range, an IndexError will be raised.\n",
        "    4. Mutability: The pop method modifies the original list by removing the specified element.\n",
        "    5. Examples:\n",
        "\n"
      ]
    },
    {
      "cell_type": "code",
      "execution_count": null,
      "metadata": {
        "colab": {
          "base_uri": "https://localhost:8080/"
        },
        "id": "cjT9GzL19eas",
        "outputId": "70570897-a68b-4551-85cc-200dcd17aa79"
      },
      "outputs": [
        {
          "name": "stdout",
          "output_type": "stream",
          "text": [
            "[1, 3, 4]\n"
          ]
        }
      ],
      "source": [
        "a=[1,2,3,4]\n",
        "a.pop(1)\n",
        "print(a)"
      ]
    },
    {
      "cell_type": "code",
      "execution_count": null,
      "metadata": {
        "colab": {
          "base_uri": "https://localhost:8080/"
        },
        "id": "n4GlWIUtRK9l",
        "outputId": "cdf006c1-085a-4d4a-c233-e9b1923110d4"
      },
      "outputs": [
        {
          "name": "stdout",
          "output_type": "stream",
          "text": [
            "[1, 2, 3]\n"
          ]
        }
      ],
      "source": [
        "a=[1,2,3,4]\n",
        "a.pop()\n",
        "print(a)"
      ]
    },
    {
      "cell_type": "code",
      "execution_count": null,
      "metadata": {
        "colab": {
          "base_uri": "https://localhost:8080/"
        },
        "id": "xymc2uFERUzQ",
        "outputId": "3dee34ed-208f-479f-b23f-4efba3c24b4b"
      },
      "outputs": [
        {
          "name": "stdout",
          "output_type": "stream",
          "text": [
            "3\n"
          ]
        }
      ],
      "source": [
        "a=[1,2,3]\n",
        "print(a.pop())"
      ]
    },
    {
      "cell_type": "code",
      "execution_count": null,
      "metadata": {
        "colab": {
          "base_uri": "https://localhost:8080/",
          "height": 164
        },
        "id": "RlshcozeRk9D",
        "outputId": "9e0df3b6-d11d-45d7-dc37-0970332ad9c4"
      },
      "outputs": [
        {
          "ename": "IndexError",
          "evalue": "pop from empty list",
          "output_type": "error",
          "traceback": [
            "\u001b[0;31m---------------------------------------------------------------------------\u001b[0m",
            "\u001b[0;31mIndexError\u001b[0m                                Traceback (most recent call last)",
            "\u001b[0;32m<ipython-input-6-8635f7c7353e>\u001b[0m in \u001b[0;36m<cell line: 2>\u001b[0;34m()\u001b[0m\n\u001b[1;32m      1\u001b[0m \u001b[0ma\u001b[0m\u001b[0;34m=\u001b[0m\u001b[0;34m[\u001b[0m\u001b[0;34m]\u001b[0m\u001b[0;34m\u001b[0m\u001b[0;34m\u001b[0m\u001b[0m\n\u001b[0;32m----> 2\u001b[0;31m \u001b[0ma\u001b[0m\u001b[0;34m.\u001b[0m\u001b[0mpop\u001b[0m\u001b[0;34m(\u001b[0m\u001b[0;34m)\u001b[0m\u001b[0;34m\u001b[0m\u001b[0;34m\u001b[0m\u001b[0m\n\u001b[0m",
            "\u001b[0;31mIndexError\u001b[0m: pop from empty list"
          ]
        }
      ],
      "source": [
        "a=[]\n",
        "a.pop()"
      ]
    },
    {
      "cell_type": "code",
      "execution_count": null,
      "metadata": {
        "colab": {
          "base_uri": "https://localhost:8080/",
          "height": 182
        },
        "id": "DaruoM4-Rp_2",
        "outputId": "bf9872f9-d69c-460a-fb3a-ddcd1475d5f2"
      },
      "outputs": [
        {
          "ename": "IndexError",
          "evalue": "pop index out of range",
          "output_type": "error",
          "traceback": [
            "\u001b[0;31m---------------------------------------------------------------------------\u001b[0m",
            "\u001b[0;31mIndexError\u001b[0m                                Traceback (most recent call last)",
            "\u001b[0;32m<ipython-input-7-e37e77963457>\u001b[0m in \u001b[0;36m<cell line: 2>\u001b[0;34m()\u001b[0m\n\u001b[1;32m      1\u001b[0m \u001b[0ma\u001b[0m\u001b[0;34m=\u001b[0m\u001b[0;34m[\u001b[0m\u001b[0;36m1\u001b[0m\u001b[0;34m,\u001b[0m\u001b[0;36m2\u001b[0m\u001b[0;34m,\u001b[0m\u001b[0;36m3\u001b[0m\u001b[0;34m]\u001b[0m\u001b[0;34m\u001b[0m\u001b[0;34m\u001b[0m\u001b[0m\n\u001b[0;32m----> 2\u001b[0;31m \u001b[0ma\u001b[0m\u001b[0;34m.\u001b[0m\u001b[0mpop\u001b[0m\u001b[0;34m(\u001b[0m\u001b[0;36m3\u001b[0m\u001b[0;34m)\u001b[0m\u001b[0;34m\u001b[0m\u001b[0;34m\u001b[0m\u001b[0m\n\u001b[0m\u001b[1;32m      3\u001b[0m \u001b[0mprint\u001b[0m\u001b[0;34m(\u001b[0m\u001b[0ma\u001b[0m\u001b[0;34m)\u001b[0m\u001b[0;34m\u001b[0m\u001b[0;34m\u001b[0m\u001b[0m\n",
            "\u001b[0;31mIndexError\u001b[0m: pop index out of range"
          ]
        }
      ],
      "source": [
        "a=[1,2,3]\n",
        "a.pop(3)\n",
        "print(a)"
      ]
    },
    {
      "cell_type": "code",
      "execution_count": null,
      "metadata": {
        "colab": {
          "base_uri": "https://localhost:8080/"
        },
        "id": "PstW6nU7R5fK",
        "outputId": "f8bc6c15-80f8-4586-b486-b2042caa4523"
      },
      "outputs": [
        {
          "name": "stdout",
          "output_type": "stream",
          "text": [
            "[1, 2, 3]\n",
            "134729114705920\n",
            "[1, 2]\n",
            "134729114705920\n"
          ]
        }
      ],
      "source": [
        "a=[1,2,3]\n",
        "print(a)\n",
        "print(id(a))\n",
        "a.pop()\n",
        "print(a)\n",
        "print(id(a))"
      ]
    },
    {
      "cell_type": "markdown",
      "metadata": {
        "id": "RZLF6hYpSVE5"
      },
      "source": [
        "### .clear()\n",
        "*   In Python,the clear method for lists is used to remove all items from the list.\n",
        "*   **Here are the rules and details**:\n",
        "\n",
        "  *   Syntax: list.clear()\n",
        "\n",
        "\n",
        "  *   Note: It takes no arguments.\n",
        "  *   Effect: This method empties the list,removing all elements.\n",
        "  *   Return Value: It returns None.\n",
        "  *   Mutablility: The clear method modifies the original list,leaving it empty.\n",
        "  *   Examples\n",
        "   \n",
        "\n",
        "\n",
        "\n"
      ]
    },
    {
      "cell_type": "code",
      "execution_count": null,
      "metadata": {
        "colab": {
          "base_uri": "https://localhost:8080/"
        },
        "id": "lvfXJfQuUAEm",
        "outputId": "837646ea-7ed9-415c-d912-a0d7e465c69c"
      },
      "outputs": [
        {
          "name": "stdout",
          "output_type": "stream",
          "text": [
            "[]\n"
          ]
        }
      ],
      "source": [
        "a=[1,2,3]\n",
        "a.clear()\n",
        "print(a)"
      ]
    },
    {
      "cell_type": "code",
      "execution_count": null,
      "metadata": {
        "colab": {
          "base_uri": "https://localhost:8080/",
          "height": 182
        },
        "id": "eT8-m0s7UJKU",
        "outputId": "86c0cdbd-7c62-4d78-f1cc-89529674244f"
      },
      "outputs": [
        {
          "ename": "TypeError",
          "evalue": "list.clear() takes no arguments (1 given)",
          "output_type": "error",
          "traceback": [
            "\u001b[0;31m---------------------------------------------------------------------------\u001b[0m",
            "\u001b[0;31mTypeError\u001b[0m                                 Traceback (most recent call last)",
            "\u001b[0;32m<ipython-input-10-4648b5817bf5>\u001b[0m in \u001b[0;36m<cell line: 2>\u001b[0;34m()\u001b[0m\n\u001b[1;32m      1\u001b[0m \u001b[0ma\u001b[0m\u001b[0;34m=\u001b[0m\u001b[0;34m[\u001b[0m\u001b[0;36m1\u001b[0m\u001b[0;34m,\u001b[0m\u001b[0;36m2\u001b[0m\u001b[0;34m,\u001b[0m\u001b[0;36m3\u001b[0m\u001b[0;34m]\u001b[0m\u001b[0;34m\u001b[0m\u001b[0;34m\u001b[0m\u001b[0m\n\u001b[0;32m----> 2\u001b[0;31m \u001b[0ma\u001b[0m\u001b[0;34m.\u001b[0m\u001b[0mclear\u001b[0m\u001b[0;34m(\u001b[0m\u001b[0;36m2\u001b[0m\u001b[0;34m)\u001b[0m\u001b[0;34m\u001b[0m\u001b[0;34m\u001b[0m\u001b[0m\n\u001b[0m\u001b[1;32m      3\u001b[0m \u001b[0mprint\u001b[0m\u001b[0;34m(\u001b[0m\u001b[0ma\u001b[0m\u001b[0;34m)\u001b[0m\u001b[0;34m\u001b[0m\u001b[0;34m\u001b[0m\u001b[0m\n",
            "\u001b[0;31mTypeError\u001b[0m: list.clear() takes no arguments (1 given)"
          ]
        }
      ],
      "source": [
        "a=[1,2,3]\n",
        "a.clear(2)\n",
        "print(a)"
      ]
    },
    {
      "cell_type": "code",
      "execution_count": null,
      "metadata": {
        "colab": {
          "base_uri": "https://localhost:8080/"
        },
        "id": "48Tog3RkUO0x",
        "outputId": "3e57a6e7-257c-4472-ed78-5af9ecad745b"
      },
      "outputs": [
        {
          "name": "stdout",
          "output_type": "stream",
          "text": [
            "[]\n"
          ]
        }
      ],
      "source": [
        "a=[1,2,3]\n",
        "a.clear()\n",
        "print(a)"
      ]
    },
    {
      "cell_type": "code",
      "execution_count": null,
      "metadata": {
        "colab": {
          "base_uri": "https://localhost:8080/"
        },
        "id": "45jpwlDXUY5x",
        "outputId": "e674904b-95a5-410b-81b4-20104569f58e"
      },
      "outputs": [
        {
          "name": "stdout",
          "output_type": "stream",
          "text": [
            "None\n"
          ]
        }
      ],
      "source": [
        "a=[1,2,3]\n",
        "print(a.clear())"
      ]
    },
    {
      "cell_type": "code",
      "execution_count": null,
      "metadata": {
        "id": "oxOId8I3UixZ"
      },
      "outputs": [],
      "source": [
        "a=[1,2,3]\n",
        "print(a)\n",
        "print(id(a))\n",
        "a.clear()\n",
        "print(a)\n",
        "print(id(a))"
      ]
    },
    {
      "cell_type": "markdown",
      "metadata": {
        "id": "EPlA114eU1Kb"
      },
      "source": [
        "### del\n",
        "* In Python,the del statements can be used with lists to remove elements or slices.\n",
        "* Here are the rules and details:\n",
        "\n",
        "  * Syntax: del list[index] or     \n",
        "  del list[start:end] or list\n",
        "\n",
        "  * Index: Removes the element at the specified position.\n",
        "  * start:end :- Removes a slice of element from start to end (exclusive).\n",
        "\n",
        "  * No Return Value: del does not return any value.\n",
        "  * IndexError: If the index or range is out of bounds, an indexError will be raised.\n",
        "  * Mutability: del modifies the original list by removing specified elements or slices.\n",
        "  * Examples\n",
        "\n",
        "\n",
        "\n",
        "\n"
      ]
    },
    {
      "cell_type": "code",
      "execution_count": null,
      "metadata": {
        "colab": {
          "base_uri": "https://localhost:8080/"
        },
        "id": "NW9VLR8SVTTG",
        "outputId": "7276d17b-2273-4002-d45f-f9434cdb6989"
      },
      "outputs": [
        {
          "name": "stdout",
          "output_type": "stream",
          "text": [
            "[2, 3]\n"
          ]
        }
      ],
      "source": [
        "a=[1,2,3]\n",
        "del a[0]\n",
        "print(a)"
      ]
    },
    {
      "cell_type": "code",
      "execution_count": null,
      "metadata": {
        "colab": {
          "base_uri": "https://localhost:8080/"
        },
        "id": "k7x7yYwWVTPG",
        "outputId": "28135e16-a89a-44c5-c985-e927c62c606c"
      },
      "outputs": [
        {
          "name": "stdout",
          "output_type": "stream",
          "text": [
            "[5]\n"
          ]
        }
      ],
      "source": [
        "a=[1,2,3,4,5]\n",
        "del a[:4]\n",
        "print(a)"
      ]
    },
    {
      "cell_type": "code",
      "execution_count": null,
      "metadata": {
        "colab": {
          "base_uri": "https://localhost:8080/",
          "height": 200
        },
        "id": "EzoYLK5XW5bE",
        "outputId": "4755890c-a55e-4ea6-838b-0972316b8b1c"
      },
      "outputs": [
        {
          "name": "stdout",
          "output_type": "stream",
          "text": [
            "[1, 2]\n"
          ]
        },
        {
          "ename": "NameError",
          "evalue": "name 'a' is not defined",
          "output_type": "error",
          "traceback": [
            "\u001b[0;31m---------------------------------------------------------------------------\u001b[0m",
            "\u001b[0;31mNameError\u001b[0m                                 Traceback (most recent call last)",
            "\u001b[0;32m<ipython-input-15-5160248db19e>\u001b[0m in \u001b[0;36m<cell line: 4>\u001b[0;34m()\u001b[0m\n\u001b[1;32m      2\u001b[0m \u001b[0mprint\u001b[0m\u001b[0;34m(\u001b[0m\u001b[0ma\u001b[0m\u001b[0;34m)\u001b[0m\u001b[0;34m\u001b[0m\u001b[0;34m\u001b[0m\u001b[0m\n\u001b[1;32m      3\u001b[0m \u001b[0;32mdel\u001b[0m \u001b[0ma\u001b[0m\u001b[0;34m\u001b[0m\u001b[0;34m\u001b[0m\u001b[0m\n\u001b[0;32m----> 4\u001b[0;31m \u001b[0mprint\u001b[0m\u001b[0;34m(\u001b[0m\u001b[0ma\u001b[0m\u001b[0;34m)\u001b[0m\u001b[0;34m\u001b[0m\u001b[0;34m\u001b[0m\u001b[0m\n\u001b[0m",
            "\u001b[0;31mNameError\u001b[0m: name 'a' is not defined"
          ]
        }
      ],
      "source": [
        "a=[1,2]\n",
        "print(a)\n",
        "del a\n",
        "print(a)"
      ]
    },
    {
      "cell_type": "code",
      "execution_count": null,
      "metadata": {
        "colab": {
          "base_uri": "https://localhost:8080/"
        },
        "id": "wiYmpyWLXJBI",
        "outputId": "2121525c-6199-439c-af4f-98954f9c3788"
      },
      "outputs": [
        {
          "name": "stdout",
          "output_type": "stream",
          "text": [
            "134729116438208\n",
            "[1, 3]\n",
            "134729116438208\n"
          ]
        }
      ],
      "source": [
        "a=[1,2,3]\n",
        "print(id(a))\n",
        "del a[1]\n",
        "print(a)\n",
        "print(id(a))\n"
      ]
    },
    {
      "cell_type": "markdown",
      "metadata": {
        "id": "ewcFporIXW1z"
      },
      "source": [
        "## Method that never return None in List data type\n",
        "\n",
        "\n",
        "*   Index()\n",
        "*   count()\n",
        "\n"
      ]
    },
    {
      "cell_type": "markdown",
      "metadata": {
        "id": "xO28R58MX44-"
      },
      "source": [
        "###.index()\n",
        "*  The index method is a way to find the index(position) of a specific element within an iterable data structure, such as a list,tuple, or string.\n",
        "*  **Here is a general overview:**\n",
        "  *  Syntax:\n",
        "    \n",
        "    iterable.index(argument)\n",
        "\n",
        "  * Argument: It will give the index number of the element in the list given in the argument.\n",
        "  * Return: It returns the index number of element in the output.\n",
        "  * Raises: ValueError if the element is not found in the iterable.\n",
        "  * Examples:\n"
      ]
    },
    {
      "cell_type": "code",
      "execution_count": null,
      "metadata": {
        "colab": {
          "base_uri": "https://localhost:8080/"
        },
        "id": "TyyjFOynZwI-",
        "outputId": "f5146dbb-73bb-4a44-9c5d-a0afbbd23edf"
      },
      "outputs": [
        {
          "data": {
            "text/plain": [
              "1"
            ]
          },
          "execution_count": 3,
          "metadata": {},
          "output_type": "execute_result"
        }
      ],
      "source": [
        "a=[1,2,3]\n",
        "a.index(2)"
      ]
    },
    {
      "cell_type": "code",
      "execution_count": null,
      "metadata": {
        "colab": {
          "base_uri": "https://localhost:8080/"
        },
        "id": "pC8qlHiWZ5LR",
        "outputId": "2ad7002e-dfa7-4c11-ea44-339a12928fc4"
      },
      "outputs": [
        {
          "data": {
            "text/plain": [
              "2"
            ]
          },
          "execution_count": 19,
          "metadata": {},
          "output_type": "execute_result"
        }
      ],
      "source": [
        "a=[1,2,3]\n",
        "a.index(3)"
      ]
    },
    {
      "cell_type": "code",
      "execution_count": null,
      "metadata": {
        "colab": {
          "base_uri": "https://localhost:8080/"
        },
        "id": "nYS_cQNhaC6r",
        "outputId": "6950d595-5e1a-40a2-dbd4-38aa687b90d1"
      },
      "outputs": [
        {
          "name": "stdout",
          "output_type": "stream",
          "text": [
            "1\n"
          ]
        }
      ],
      "source": [
        "a=[1,2,3]\n",
        "print(a.index(2))"
      ]
    },
    {
      "cell_type": "code",
      "execution_count": null,
      "metadata": {
        "id": "2Oevo6d0aK0_"
      },
      "outputs": [],
      "source": [
        "a=[1,2,3]\n",
        "a.index(4)\n"
      ]
    },
    {
      "cell_type": "markdown",
      "metadata": {
        "id": "RVtwKzSuaRzF"
      },
      "source": [
        "### .count()\n",
        "* Here are the rules of the count method in the format you requested.\n",
        "* **Count Method Rules**\n",
        "  * Element: Takes one argument,the element to be counted.\n",
        "  * Return: Integer value representing the count of the element.\n",
        "  * Not Found: Return 0 if the element is not found in the list.\n",
        "  * Case-Sensitive: Treats uppercase and lowercase letters as distinct.\n",
        "  * No Modification: This does not modify the original list.\n",
        "  * Examples:"
      ]
    },
    {
      "cell_type": "code",
      "execution_count": null,
      "metadata": {
        "colab": {
          "base_uri": "https://localhost:8080/"
        },
        "id": "ZCwvBrHlbKUw",
        "outputId": "09bc4326-c462-4203-f8b1-944b3af5daba"
      },
      "outputs": [
        {
          "data": {
            "text/plain": [
              "1"
            ]
          },
          "execution_count": 21,
          "metadata": {},
          "output_type": "execute_result"
        }
      ],
      "source": [
        "a=[1,2,3]\n",
        "a.count(1)"
      ]
    },
    {
      "cell_type": "code",
      "execution_count": null,
      "metadata": {
        "colab": {
          "base_uri": "https://localhost:8080/"
        },
        "id": "-83Mwvd-bPWl",
        "outputId": "bda26a97-4c92-46b7-84bb-e7e5c3b12bc5"
      },
      "outputs": [
        {
          "data": {
            "text/plain": [
              "3"
            ]
          },
          "execution_count": 22,
          "metadata": {},
          "output_type": "execute_result"
        }
      ],
      "source": [
        "a=[1,2,3,1,1,2,3]\n",
        "a.count(1)"
      ]
    },
    {
      "cell_type": "code",
      "execution_count": null,
      "metadata": {
        "id": "hV6XwgtbbVWP"
      },
      "outputs": [],
      "source": [
        "a=[1,2,3,4,5,5,5]\n",
        "print(a.count(5))"
      ]
    },
    {
      "cell_type": "code",
      "execution_count": null,
      "metadata": {
        "id": "4x910yyBbf_8"
      },
      "outputs": [],
      "source": [
        "a=[1,2,3]\n",
        "a.count(5)"
      ]
    },
    {
      "cell_type": "code",
      "execution_count": null,
      "metadata": {
        "id": "fxLU29s0brim"
      },
      "outputs": [],
      "source": [
        "a=[1,2,3]\n",
        "print(id(a))\n",
        "a.count(2)\n",
        "print(id(a))"
      ]
    },
    {
      "cell_type": "markdown",
      "metadata": {
        "id": "nOm39B6jY41l"
      },
      "source": [
        "## Master Python Lists: Deep Dive into reverse(), sort(), and copy()\n",
        "\n",
        "\n",
        "1.   reverse()\n",
        "2.   sort()\n",
        "3.   copy()\n",
        "\n",
        "\n",
        "\n"
      ]
    },
    {
      "cell_type": "markdown",
      "metadata": {
        "id": "ufYQnNNka8El"
      },
      "source": [
        "### .reverse()\n",
        "*  Here's a detailed description of the list.reverse() method.\n",
        "\n",
        "   * **Syntax**:\n",
        "   list.reverse()\n",
        "\n",
        "   * Returns : None, meaning the method doesn't return a new list or any value,instead,it modifies the original list.\n",
        "\n",
        "   * Changes the Original: Yes, the method directly changes list by reversing its elements.\n",
        "  \n",
        "   * Reverse All Elements: Yes, all elements in the list are reversed,meaning the first element becomes the last,the second element becomes the second last, and so on.\n",
        "    \n",
        "   * Examples:\n",
        "\n",
        "\n"
      ]
    },
    {
      "cell_type": "code",
      "execution_count": null,
      "metadata": {
        "colab": {
          "base_uri": "https://localhost:8080/"
        },
        "id": "XyhBf2-LfA18",
        "outputId": "86d5efba-4bf9-43a8-ace0-ff41571a4e58"
      },
      "outputs": [
        {
          "name": "stdout",
          "output_type": "stream",
          "text": [
            "[3, 2, 1]\n"
          ]
        }
      ],
      "source": [
        "a=[1,2,3]\n",
        "a.reverse()\n",
        "print(a)"
      ]
    },
    {
      "cell_type": "code",
      "execution_count": null,
      "metadata": {
        "colab": {
          "base_uri": "https://localhost:8080/"
        },
        "id": "4IpCaMZ1faM1",
        "outputId": "25c39a06-7aa3-4b89-df20-9770f729327b"
      },
      "outputs": [
        {
          "name": "stdout",
          "output_type": "stream",
          "text": [
            "None\n"
          ]
        }
      ],
      "source": [
        "a=[1,2,3]\n",
        "print(a.reverse())"
      ]
    },
    {
      "cell_type": "code",
      "execution_count": null,
      "metadata": {
        "colab": {
          "base_uri": "https://localhost:8080/"
        },
        "id": "FpemAPqufie0",
        "outputId": "0759cc24-17b5-4edc-e58d-75a46f3a5484"
      },
      "outputs": [
        {
          "name": "stdout",
          "output_type": "stream",
          "text": [
            "[1, 2, 3]\n",
            "133970521602688\n",
            "[3, 2, 1]\n",
            "133970521602688\n"
          ]
        }
      ],
      "source": [
        "a=[1,2,3]\n",
        "print(a)\n",
        "print(id(a))\n",
        "a.reverse()\n",
        "print(a)\n",
        "print(id(a))"
      ]
    },
    {
      "cell_type": "code",
      "execution_count": null,
      "metadata": {
        "colab": {
          "base_uri": "https://localhost:8080/"
        },
        "id": "pKli7M9OfscD",
        "outputId": "47e273b1-b164-4902-c171-1b56a550d106"
      },
      "outputs": [
        {
          "name": "stdout",
          "output_type": "stream",
          "text": [
            "[5, True, 3, 2, 1]\n"
          ]
        }
      ],
      "source": [
        "a=[1,2,3,True,5]\n",
        "a.reverse()\n",
        "print(a)"
      ]
    },
    {
      "cell_type": "markdown",
      "metadata": {
        "id": "96YdT6s_f-Hm"
      },
      "source": [
        "### .sort()\n",
        "\n",
        "* Here's a detailed description of the sort method rules:\n",
        "   * **Syntax**: list.sort()\n",
        "\n",
        "  This is the syntax for sorting a list in place.\n",
        "\n",
        "    * In-place sorting: Yes,\n",
        "    This means that the original list is modified directly,and no new list is created.\n",
        "\n",
        "    * Return:None\n",
        "    The sort method doesn't return a value,it modifies the original list.\n",
        "\n",
        "    * Changes the original: Yes,\n",
        "    The original list is changed by sorting its elements.\n",
        "\n",
        "    * Sorts All Elements:Yes\n",
        "    All element in the list are sorted.\n",
        "\n",
        "    * Stable Sort: Yes\n",
        "    A stable sort maintains the relative order of equal elements.If two elements are equal,their original order is preserved.\n",
        "\n",
        "    * Default Sort Order: Ascending(smallest to largest)\n",
        "    The list is sorted in ascending order by default,meaning the smallest elements comes first.\n",
        "\n",
        "    * Note: The sort method modifies the original list and does not create a new sorted list.\n",
        "    \n",
        "    * Examples:\n"
      ]
    },
    {
      "cell_type": "code",
      "execution_count": null,
      "metadata": {
        "colab": {
          "base_uri": "https://localhost:8080/"
        },
        "id": "OYmjw-ulhbs3",
        "outputId": "2d1f4f55-2f00-4824-a416-2c406841140f"
      },
      "outputs": [
        {
          "name": "stdout",
          "output_type": "stream",
          "text": [
            "[1, 2, 3]\n"
          ]
        }
      ],
      "source": [
        "a=[3,2,1]\n",
        "a.sort()\n",
        "print(a)"
      ]
    },
    {
      "cell_type": "code",
      "execution_count": null,
      "metadata": {
        "colab": {
          "base_uri": "https://localhost:8080/"
        },
        "id": "ZkfitDndlegS",
        "outputId": "ce6b7165-60de-4f17-f6f6-fd227761f091"
      },
      "outputs": [
        {
          "name": "stdout",
          "output_type": "stream",
          "text": [
            "None\n"
          ]
        }
      ],
      "source": [
        "a=[3,2,1]\n",
        "print(a.sort())"
      ]
    },
    {
      "cell_type": "code",
      "execution_count": null,
      "metadata": {
        "colab": {
          "base_uri": "https://localhost:8080/"
        },
        "id": "6-TCC3eAllX4",
        "outputId": "5d081cbf-4207-49cb-9a94-6821427eda5c"
      },
      "outputs": [
        {
          "name": "stdout",
          "output_type": "stream",
          "text": [
            "[3, 2, 1]\n",
            "133970684731328\n",
            "[1, 2, 3]\n",
            "133970684731328\n"
          ]
        }
      ],
      "source": [
        "a=[3,2,1]\n",
        "print(a)\n",
        "print(id(a))\n",
        "a.sort()\n",
        "print(a)\n",
        "print(id(a))"
      ]
    },
    {
      "cell_type": "code",
      "execution_count": null,
      "metadata": {
        "colab": {
          "base_uri": "https://localhost:8080/"
        },
        "id": "gomHEKjKlwxl",
        "outputId": "4389f134-3387-4eb5-88d2-93eceed73156"
      },
      "outputs": [
        {
          "name": "stdout",
          "output_type": "stream",
          "text": [
            "[1, 2, 2, 3]\n"
          ]
        }
      ],
      "source": [
        "a=[3,2,2,1]\n",
        "a.sort()\n",
        "print(a)"
      ]
    },
    {
      "cell_type": "code",
      "execution_count": null,
      "metadata": {
        "colab": {
          "base_uri": "https://localhost:8080/"
        },
        "id": "BDXwxG2Yl9n7",
        "outputId": "c9512dfa-0cb4-4999-c4c0-9fd9cf157128"
      },
      "outputs": [
        {
          "name": "stdout",
          "output_type": "stream",
          "text": [
            "[7, 8, 9]\n"
          ]
        }
      ],
      "source": [
        "a=[9,8,7]\n",
        "a.sort()\n",
        "print(a)\n"
      ]
    },
    {
      "cell_type": "code",
      "execution_count": null,
      "metadata": {
        "colab": {
          "base_uri": "https://localhost:8080/",
          "height": 182
        },
        "id": "e3VKNcb8l9C_",
        "outputId": "f6a05927-b3a1-4e56-fc7f-9bc71b032e63"
      },
      "outputs": [
        {
          "ename": "TypeError",
          "evalue": "'<' not supported between instances of 'int' and 'str'",
          "output_type": "error",
          "traceback": [
            "\u001b[0;31m---------------------------------------------------------------------------\u001b[0m",
            "\u001b[0;31mTypeError\u001b[0m                                 Traceback (most recent call last)",
            "\u001b[0;32m<ipython-input-28-66a3da6aab35>\u001b[0m in \u001b[0;36m<cell line: 2>\u001b[0;34m()\u001b[0m\n\u001b[1;32m      1\u001b[0m \u001b[0ma\u001b[0m\u001b[0;34m=\u001b[0m\u001b[0;34m[\u001b[0m\u001b[0;34m\"hello\"\u001b[0m\u001b[0;34m,\u001b[0m\u001b[0;36m4\u001b[0m\u001b[0;34m,\u001b[0m\u001b[0;36m3\u001b[0m\u001b[0;34m,\u001b[0m\u001b[0;36m1\u001b[0m\u001b[0;34m]\u001b[0m\u001b[0;34m\u001b[0m\u001b[0;34m\u001b[0m\u001b[0m\n\u001b[0;32m----> 2\u001b[0;31m \u001b[0ma\u001b[0m\u001b[0;34m.\u001b[0m\u001b[0msort\u001b[0m\u001b[0;34m(\u001b[0m\u001b[0;34m)\u001b[0m\u001b[0;34m\u001b[0m\u001b[0;34m\u001b[0m\u001b[0m\n\u001b[0m\u001b[1;32m      3\u001b[0m \u001b[0mprint\u001b[0m\u001b[0;34m(\u001b[0m\u001b[0ma\u001b[0m\u001b[0;34m)\u001b[0m\u001b[0;34m\u001b[0m\u001b[0;34m\u001b[0m\u001b[0m\n",
            "\u001b[0;31mTypeError\u001b[0m: '<' not supported between instances of 'int' and 'str'"
          ]
        }
      ],
      "source": [
        "a=[\"hello\",4,3,1]\n",
        "a.sort()\n",
        "print(a)"
      ]
    },
    {
      "cell_type": "markdown",
      "metadata": {
        "id": "wtlWCVbrmd0-"
      },
      "source": []
    },
    {
      "cell_type": "markdown",
      "metadata": {
        "id": "NQkCMgeOmgva"
      },
      "source": [
        "### .copy()\n",
        "* Here's a detailed description of the copy method rules for lists:\n",
        "\n",
        "  * Syntax: list.copy()\n",
        "\n",
        "  You can use either the copy() method on a list object or the copy() function from the copy module to create a copy of a list.\n",
        "\n",
        "  * Return: A new copied list,\n",
        "   The copy() method returns a new list object that is a copy of the original list.\n",
        "\n",
        "  * Changes the Original: No\n",
        "   Creating a copy of a list does not modify the original list in any way.\n",
        "\n",
        "  * Copies all Elements:Yes, all elements from the original list are copied to the new list,including their order and structure.\n",
        "\n",
        "  * Examples:\n"
      ]
    },
    {
      "cell_type": "code",
      "execution_count": null,
      "metadata": {
        "colab": {
          "base_uri": "https://localhost:8080/"
        },
        "id": "GsIe_3mbmlwu",
        "outputId": "b0b1d685-d2d0-427c-f6ee-ef637690e526"
      },
      "outputs": [
        {
          "name": "stdout",
          "output_type": "stream",
          "text": [
            "[1, 2]\n",
            "[1, 2]\n"
          ]
        }
      ],
      "source": [
        "a=[1,2]\n",
        "v= a.copy()\n",
        "print(a)\n",
        "print(v)"
      ]
    },
    {
      "cell_type": "code",
      "execution_count": null,
      "metadata": {
        "colab": {
          "base_uri": "https://localhost:8080/"
        },
        "id": "R_qmMf4goUW7",
        "outputId": "fc981ce7-272d-4785-8ea3-bcee3b8b236f"
      },
      "outputs": [
        {
          "name": "stdout",
          "output_type": "stream",
          "text": [
            "[1, 2, 3]\n",
            "[1, 2, 3]\n"
          ]
        }
      ],
      "source": [
        "a=[1,2,3]\n",
        "print(a)\n",
        "print(a.copy())"
      ]
    },
    {
      "cell_type": "code",
      "execution_count": null,
      "metadata": {
        "colab": {
          "base_uri": "https://localhost:8080/"
        },
        "id": "gcNEUKkPoe1n",
        "outputId": "a73f58a1-c3eb-4586-a044-9d59ac91daf6"
      },
      "outputs": [
        {
          "name": "stdout",
          "output_type": "stream",
          "text": [
            "[1, 2, 3]\n",
            "[1, 2, 3, 8]\n"
          ]
        }
      ],
      "source": [
        "a=[1,2,3]\n",
        "b=a.copy()\n",
        "b.append(8)\n",
        "print(a)\n",
        "print(b)"
      ]
    },
    {
      "cell_type": "code",
      "execution_count": null,
      "metadata": {
        "colab": {
          "base_uri": "https://localhost:8080/"
        },
        "id": "lGXRZHKeo2fw",
        "outputId": "fd125a38-50a5-4576-f8e6-218c95a0ad9b"
      },
      "outputs": [
        {
          "name": "stdout",
          "output_type": "stream",
          "text": [
            "[1, 2, 3, 4]\n",
            "[1, 2, 3, 4, 7]\n",
            "[1, 2, 3, 4, 7]\n"
          ]
        }
      ],
      "source": [
        "a=[1,2,3]\n",
        "b=a\n",
        "a.append(4)\n",
        "print(b)\n",
        "b.append(7)\n",
        "print(a)\n",
        "print(b)"
      ]
    },
    {
      "cell_type": "markdown",
      "metadata": {
        "id": "RMkvrdE0pTsQ"
      },
      "source": [
        "# Optimize Your Python Code with These Iterable Functions:\n",
        "\n",
        "## Few Functions used only on iterable data type\n",
        "\n",
        "1.   len()\n",
        "2.   max()\n",
        "3.   min()\n",
        "4.   zip()\n",
        "5.   all()\n",
        "6.   any()\n",
        "7.   sorted()\n",
        "\n",
        "\n"
      ]
    },
    {
      "cell_type": "code",
      "execution_count": null,
      "metadata": {
        "colab": {
          "base_uri": "https://localhost:8080/"
        },
        "id": "fBJxw0MAp2Ux",
        "outputId": "22b04f64-5ce0-4293-c5ea-fdd000c31e7f"
      },
      "outputs": [
        {
          "data": {
            "text/plain": [
              "3"
            ]
          },
          "execution_count": 32,
          "metadata": {},
          "output_type": "execute_result"
        }
      ],
      "source": [
        "# len()\n",
        "a=[1,2,3]\n",
        "len(a)"
      ]
    },
    {
      "cell_type": "code",
      "execution_count": null,
      "metadata": {
        "colab": {
          "base_uri": "https://localhost:8080/",
          "height": 164
        },
        "id": "BSKXFeN_4DNK",
        "outputId": "76f6f5e8-0d2c-4713-97ec-91125ad19261"
      },
      "outputs": [
        {
          "ename": "TypeError",
          "evalue": "object of type 'int' has no len()",
          "output_type": "error",
          "traceback": [
            "\u001b[0;31m---------------------------------------------------------------------------\u001b[0m",
            "\u001b[0;31mTypeError\u001b[0m                                 Traceback (most recent call last)",
            "\u001b[0;32m<ipython-input-2-cc75c80396b5>\u001b[0m in \u001b[0;36m<cell line: 2>\u001b[0;34m()\u001b[0m\n\u001b[1;32m      1\u001b[0m \u001b[0ma\u001b[0m\u001b[0;34m=\u001b[0m\u001b[0;36m1\u001b[0m\u001b[0;34m\u001b[0m\u001b[0;34m\u001b[0m\u001b[0m\n\u001b[0;32m----> 2\u001b[0;31m \u001b[0mlen\u001b[0m\u001b[0;34m(\u001b[0m\u001b[0ma\u001b[0m\u001b[0;34m)\u001b[0m\u001b[0;34m\u001b[0m\u001b[0;34m\u001b[0m\u001b[0m\n\u001b[0m",
            "\u001b[0;31mTypeError\u001b[0m: object of type 'int' has no len()"
          ]
        }
      ],
      "source": [
        "a=1\n",
        "len(a)"
      ]
    },
    {
      "cell_type": "code",
      "execution_count": null,
      "metadata": {
        "colab": {
          "base_uri": "https://localhost:8080/"
        },
        "id": "wJc62cmD4Ipp",
        "outputId": "9d9fb5a8-a9c1-43b0-9887-8f7c5d6ab603"
      },
      "outputs": [
        {
          "data": {
            "text/plain": [
              "2"
            ]
          },
          "execution_count": 33,
          "metadata": {},
          "output_type": "execute_result"
        }
      ],
      "source": [
        "#max\n",
        "a=[1,2]\n",
        "max(a)"
      ]
    },
    {
      "cell_type": "code",
      "execution_count": null,
      "metadata": {
        "colab": {
          "base_uri": "https://localhost:8080/",
          "height": 164
        },
        "id": "BBkmjdzd4RUJ",
        "outputId": "727b6aba-5d58-48ac-cf9c-995b4b213cb6"
      },
      "outputs": [
        {
          "ename": "TypeError",
          "evalue": "'int' object is not iterable",
          "output_type": "error",
          "traceback": [
            "\u001b[0;31m---------------------------------------------------------------------------\u001b[0m",
            "\u001b[0;31mTypeError\u001b[0m                                 Traceback (most recent call last)",
            "\u001b[0;32m<ipython-input-5-76d90a8689b1>\u001b[0m in \u001b[0;36m<cell line: 2>\u001b[0;34m()\u001b[0m\n\u001b[1;32m      1\u001b[0m \u001b[0ma\u001b[0m\u001b[0;34m=\u001b[0m\u001b[0;36m12\u001b[0m\u001b[0;34m\u001b[0m\u001b[0;34m\u001b[0m\u001b[0m\n\u001b[0;32m----> 2\u001b[0;31m \u001b[0mmax\u001b[0m\u001b[0;34m(\u001b[0m\u001b[0ma\u001b[0m\u001b[0;34m)\u001b[0m\u001b[0;34m\u001b[0m\u001b[0;34m\u001b[0m\u001b[0m\n\u001b[0m",
            "\u001b[0;31mTypeError\u001b[0m: 'int' object is not iterable"
          ]
        }
      ],
      "source": [
        "a=12\n",
        "max(a)\n"
      ]
    },
    {
      "cell_type": "code",
      "execution_count": null,
      "metadata": {
        "colab": {
          "base_uri": "https://localhost:8080/"
        },
        "id": "ZoMmbgJF4Xgq",
        "outputId": "5dca786c-9eb8-4255-d2d8-3356025d8132"
      },
      "outputs": [
        {
          "data": {
            "text/plain": [
              "1"
            ]
          },
          "execution_count": 34,
          "metadata": {},
          "output_type": "execute_result"
        }
      ],
      "source": [
        "#min()\n",
        "a=[1,2,3]\n",
        "min(a)"
      ]
    },
    {
      "cell_type": "code",
      "execution_count": null,
      "metadata": {
        "colab": {
          "base_uri": "https://localhost:8080/",
          "height": 164
        },
        "id": "8Cq47pXp4fDF",
        "outputId": "d15c6020-e090-42cb-c461-59cc7534c420"
      },
      "outputs": [
        {
          "ename": "TypeError",
          "evalue": "'int' object is not iterable",
          "output_type": "error",
          "traceback": [
            "\u001b[0;31m---------------------------------------------------------------------------\u001b[0m",
            "\u001b[0;31mTypeError\u001b[0m                                 Traceback (most recent call last)",
            "\u001b[0;32m<ipython-input-10-9118c8e75f1c>\u001b[0m in \u001b[0;36m<cell line: 2>\u001b[0;34m()\u001b[0m\n\u001b[1;32m      1\u001b[0m \u001b[0ma\u001b[0m\u001b[0;34m=\u001b[0m\u001b[0;36m1\u001b[0m\u001b[0;34m\u001b[0m\u001b[0;34m\u001b[0m\u001b[0m\n\u001b[0;32m----> 2\u001b[0;31m \u001b[0mmin\u001b[0m\u001b[0;34m(\u001b[0m\u001b[0ma\u001b[0m\u001b[0;34m)\u001b[0m \u001b[0;31m# because int is not iterable data type that's showing error\u001b[0m\u001b[0;34m\u001b[0m\u001b[0;34m\u001b[0m\u001b[0m\n\u001b[0m",
            "\u001b[0;31mTypeError\u001b[0m: 'int' object is not iterable"
          ]
        }
      ],
      "source": [
        "a=1\n",
        "min(a) # because int is not iterable data type that's showing error"
      ]
    },
    {
      "cell_type": "code",
      "execution_count": null,
      "metadata": {
        "colab": {
          "base_uri": "https://localhost:8080/"
        },
        "id": "3HvgwY9K4hn0",
        "outputId": "bd38a113-a848-4d3f-e948-e30d1eb0154c"
      },
      "outputs": [
        {
          "data": {
            "text/plain": [
              "True"
            ]
          },
          "execution_count": 35,
          "metadata": {},
          "output_type": "execute_result"
        }
      ],
      "source": [
        "#all  when all value true gets result true except 0 and false\n",
        "a=[1,2,3]\n",
        "all(a)"
      ]
    },
    {
      "cell_type": "code",
      "execution_count": null,
      "metadata": {
        "colab": {
          "base_uri": "https://localhost:8080/"
        },
        "id": "cKR1HsmH41BD",
        "outputId": "6ceabf9d-9a14-4fce-dac0-feb1ba6f409c"
      },
      "outputs": [
        {
          "data": {
            "text/plain": [
              "False"
            ]
          },
          "execution_count": 36,
          "metadata": {},
          "output_type": "execute_result"
        }
      ],
      "source": [
        "a=[0,1,2]\n",
        "all(a)"
      ]
    },
    {
      "cell_type": "code",
      "execution_count": null,
      "metadata": {
        "id": "mL8REUUP45fT"
      },
      "outputs": [],
      "source": []
    },
    {
      "cell_type": "code",
      "execution_count": null,
      "metadata": {
        "colab": {
          "base_uri": "https://localhost:8080/",
          "height": 164
        },
        "id": "m5bHkR9k46KL",
        "outputId": "b8610f04-d9c3-439f-bc1a-dca42779e140"
      },
      "outputs": [
        {
          "ename": "TypeError",
          "evalue": "'int' object is not iterable",
          "output_type": "error",
          "traceback": [
            "\u001b[0;31m---------------------------------------------------------------------------\u001b[0m",
            "\u001b[0;31mTypeError\u001b[0m                                 Traceback (most recent call last)",
            "\u001b[0;32m<ipython-input-14-2a748ae03592>\u001b[0m in \u001b[0;36m<cell line: 2>\u001b[0;34m()\u001b[0m\n\u001b[1;32m      1\u001b[0m \u001b[0ma\u001b[0m\u001b[0;34m=\u001b[0m\u001b[0;36m1\u001b[0m\u001b[0;34m\u001b[0m\u001b[0;34m\u001b[0m\u001b[0m\n\u001b[0;32m----> 2\u001b[0;31m \u001b[0mall\u001b[0m\u001b[0;34m(\u001b[0m\u001b[0ma\u001b[0m\u001b[0;34m)\u001b[0m\u001b[0;34m\u001b[0m\u001b[0;34m\u001b[0m\u001b[0m\n\u001b[0m",
            "\u001b[0;31mTypeError\u001b[0m: 'int' object is not iterable"
          ]
        }
      ],
      "source": [
        "a=1\n",
        "all(a)"
      ]
    },
    {
      "cell_type": "code",
      "execution_count": null,
      "metadata": {
        "colab": {
          "base_uri": "https://localhost:8080/"
        },
        "id": "YrEdFrrV473A",
        "outputId": "229acdf9-f561-4241-9ff2-c40cf093a1ce"
      },
      "outputs": [
        {
          "data": {
            "text/plain": [
              "True"
            ]
          },
          "execution_count": 37,
          "metadata": {},
          "output_type": "execute_result"
        }
      ],
      "source": [
        "#any\n",
        "a=[1,2,3]\n",
        "any(a)"
      ]
    },
    {
      "cell_type": "code",
      "execution_count": null,
      "metadata": {
        "colab": {
          "base_uri": "https://localhost:8080/"
        },
        "id": "Nl19Z7395K_N",
        "outputId": "b819ac3e-8fdf-4606-b566-d48c9437bd74"
      },
      "outputs": [
        {
          "data": {
            "text/plain": [
              "True"
            ]
          },
          "execution_count": 38,
          "metadata": {},
          "output_type": "execute_result"
        }
      ],
      "source": [
        "a=[0,1,2] # correct value get result true when 0 value is not received.\n",
        "any(a)"
      ]
    },
    {
      "cell_type": "code",
      "execution_count": null,
      "metadata": {
        "colab": {
          "base_uri": "https://localhost:8080/"
        },
        "id": "E1iTMCzV5qq9",
        "outputId": "073cf8a0-68c0-4d13-adf4-86f92db8b05a"
      },
      "outputs": [
        {
          "data": {
            "text/plain": [
              "False"
            ]
          },
          "execution_count": 17,
          "metadata": {},
          "output_type": "execute_result"
        }
      ],
      "source": [
        "a=[0]\n",
        "any(a)"
      ]
    },
    {
      "cell_type": "code",
      "execution_count": null,
      "metadata": {
        "colab": {
          "base_uri": "https://localhost:8080/"
        },
        "id": "LBw9afU95NkP",
        "outputId": "54feb883-fbb0-405c-997e-4fe235c9cc48"
      },
      "outputs": [
        {
          "data": {
            "text/plain": [
              "False"
            ]
          },
          "execution_count": 18,
          "metadata": {},
          "output_type": "execute_result"
        }
      ],
      "source": [
        "a=[]\n",
        "any(a)"
      ]
    },
    {
      "cell_type": "code",
      "execution_count": null,
      "metadata": {
        "colab": {
          "base_uri": "https://localhost:8080/"
        },
        "id": "PV8JxA-a50Lq",
        "outputId": "8a8de334-3f3e-4b11-ddc3-54cf34d566c9"
      },
      "outputs": [
        {
          "data": {
            "text/plain": [
              "True"
            ]
          },
          "execution_count": 19,
          "metadata": {},
          "output_type": "execute_result"
        }
      ],
      "source": [
        "a=[]\n",
        "all(a)"
      ]
    },
    {
      "cell_type": "code",
      "execution_count": null,
      "metadata": {
        "colab": {
          "base_uri": "https://localhost:8080/",
          "height": 164
        },
        "id": "x8QFLzT2562h",
        "outputId": "467cc2f8-7137-422f-8af5-4af25b2843ff"
      },
      "outputs": [
        {
          "ename": "TypeError",
          "evalue": "'int' object is not iterable",
          "output_type": "error",
          "traceback": [
            "\u001b[0;31m---------------------------------------------------------------------------\u001b[0m",
            "\u001b[0;31mTypeError\u001b[0m                                 Traceback (most recent call last)",
            "\u001b[0;32m<ipython-input-20-6c633265b00b>\u001b[0m in \u001b[0;36m<cell line: 2>\u001b[0;34m()\u001b[0m\n\u001b[1;32m      1\u001b[0m \u001b[0ma\u001b[0m\u001b[0;34m=\u001b[0m\u001b[0;36m23\u001b[0m\u001b[0;34m\u001b[0m\u001b[0;34m\u001b[0m\u001b[0m\n\u001b[0;32m----> 2\u001b[0;31m \u001b[0many\u001b[0m\u001b[0;34m(\u001b[0m\u001b[0ma\u001b[0m\u001b[0;34m)\u001b[0m\u001b[0;34m\u001b[0m\u001b[0;34m\u001b[0m\u001b[0m\n\u001b[0m",
            "\u001b[0;31mTypeError\u001b[0m: 'int' object is not iterable"
          ]
        }
      ],
      "source": [
        "a=23\n",
        "any(a)"
      ]
    },
    {
      "cell_type": "code",
      "execution_count": null,
      "metadata": {
        "colab": {
          "base_uri": "https://localhost:8080/"
        },
        "id": "eDZKKDnP6DfF",
        "outputId": "a9cc9974-0c96-43c5-b37f-45949eb909b5"
      },
      "outputs": [
        {
          "data": {
            "text/plain": [
              "[1, 2, 3, 4, 5]"
            ]
          },
          "execution_count": 21,
          "metadata": {},
          "output_type": "execute_result"
        }
      ],
      "source": [
        "#sorted()\n",
        "a=[3,1,5,4,2]\n",
        "sorted(a)\n"
      ]
    },
    {
      "cell_type": "code",
      "execution_count": null,
      "metadata": {
        "colab": {
          "base_uri": "https://localhost:8080/",
          "height": 164
        },
        "id": "ugOyTTUC6K7y",
        "outputId": "7d7e4066-5a6e-4556-d9c4-456c8fd5a694"
      },
      "outputs": [
        {
          "ename": "TypeError",
          "evalue": "'<' not supported between instances of 'str' and 'int'",
          "output_type": "error",
          "traceback": [
            "\u001b[0;31m---------------------------------------------------------------------------\u001b[0m",
            "\u001b[0;31mTypeError\u001b[0m                                 Traceback (most recent call last)",
            "\u001b[0;32m<ipython-input-22-b77e3c89210e>\u001b[0m in \u001b[0;36m<cell line: 2>\u001b[0;34m()\u001b[0m\n\u001b[1;32m      1\u001b[0m \u001b[0ma\u001b[0m\u001b[0;34m=\u001b[0m\u001b[0;34m[\u001b[0m\u001b[0;36m1\u001b[0m\u001b[0;34m,\u001b[0m\u001b[0;36m4\u001b[0m\u001b[0;34m,\u001b[0m\u001b[0;36m7\u001b[0m\u001b[0;34m,\u001b[0m\u001b[0;36m2\u001b[0m\u001b[0;34m,\u001b[0m\u001b[0;34m\"e\"\u001b[0m\u001b[0;34m]\u001b[0m\u001b[0;34m\u001b[0m\u001b[0;34m\u001b[0m\u001b[0m\n\u001b[0;32m----> 2\u001b[0;31m \u001b[0msorted\u001b[0m\u001b[0;34m(\u001b[0m\u001b[0ma\u001b[0m\u001b[0;34m)\u001b[0m\u001b[0;34m\u001b[0m\u001b[0;34m\u001b[0m\u001b[0m\n\u001b[0m",
            "\u001b[0;31mTypeError\u001b[0m: '<' not supported between instances of 'str' and 'int'"
          ]
        }
      ],
      "source": [
        "a=[1,4,7,2,\"e\"]\n",
        "sorted(a) # in sorted simmilar data type need"
      ]
    },
    {
      "cell_type": "code",
      "execution_count": null,
      "metadata": {
        "colab": {
          "base_uri": "https://localhost:8080/",
          "height": 164
        },
        "id": "p-gyaWWm6Spw",
        "outputId": "c5fbbee5-5703-454f-81ff-d0069bff8ae0"
      },
      "outputs": [
        {
          "ename": "TypeError",
          "evalue": "'int' object is not iterable",
          "output_type": "error",
          "traceback": [
            "\u001b[0;31m---------------------------------------------------------------------------\u001b[0m",
            "\u001b[0;31mTypeError\u001b[0m                                 Traceback (most recent call last)",
            "\u001b[0;32m<ipython-input-23-cbbf7f290df2>\u001b[0m in \u001b[0;36m<cell line: 2>\u001b[0;34m()\u001b[0m\n\u001b[1;32m      1\u001b[0m \u001b[0ma\u001b[0m\u001b[0;34m=\u001b[0m\u001b[0;36m12\u001b[0m\u001b[0;34m\u001b[0m\u001b[0;34m\u001b[0m\u001b[0m\n\u001b[0;32m----> 2\u001b[0;31m \u001b[0msorted\u001b[0m\u001b[0;34m(\u001b[0m\u001b[0ma\u001b[0m\u001b[0;34m)\u001b[0m\u001b[0;34m\u001b[0m\u001b[0;34m\u001b[0m\u001b[0m\n\u001b[0m",
            "\u001b[0;31mTypeError\u001b[0m: 'int' object is not iterable"
          ]
        }
      ],
      "source": [
        "a=12\n",
        "sorted(a)"
      ]
    },
    {
      "cell_type": "code",
      "execution_count": null,
      "metadata": {
        "colab": {
          "base_uri": "https://localhost:8080/"
        },
        "id": "ym8caNUH6aDt",
        "outputId": "b621d676-f894-454f-c75c-69346019cfae"
      },
      "outputs": [
        {
          "name": "stdout",
          "output_type": "stream",
          "text": [
            "<zip object at 0x7a89106f5080>\n"
          ]
        }
      ],
      "source": [
        "#zip- two data type add\n",
        "a=[1,2,3]\n",
        "b=[4,5,6]\n",
        "c=zip(a,b)\n",
        "print(c) # error is coming due to zip change first iterable data type like list,tuple."
      ]
    },
    {
      "cell_type": "code",
      "execution_count": null,
      "metadata": {
        "colab": {
          "base_uri": "https://localhost:8080/"
        },
        "id": "4uX5QmVO6usB",
        "outputId": "e7abbf01-3b50-4a8e-acf6-d749a78edd77"
      },
      "outputs": [
        {
          "data": {
            "text/plain": [
              "[(1, 4), (2, 5), (3, 6)]"
            ]
          },
          "execution_count": 40,
          "metadata": {},
          "output_type": "execute_result"
        }
      ],
      "source": [
        "list(c)"
      ]
    },
    {
      "cell_type": "code",
      "execution_count": null,
      "metadata": {
        "colab": {
          "base_uri": "https://localhost:8080/"
        },
        "id": "Af67np436yo0",
        "outputId": "f01e9d72-2547-49b0-f64d-1ae86ed7b348"
      },
      "outputs": [
        {
          "data": {
            "text/plain": [
              "()"
            ]
          },
          "execution_count": 41,
          "metadata": {},
          "output_type": "execute_result"
        }
      ],
      "source": [
        "tuple(c)"
      ]
    },
    {
      "cell_type": "code",
      "execution_count": null,
      "metadata": {
        "colab": {
          "base_uri": "https://localhost:8080/",
          "height": 200
        },
        "id": "UtbOs9Ra7RN3",
        "outputId": "4cf47510-6c12-449b-ae54-7f6a196c296d"
      },
      "outputs": [
        {
          "ename": "TypeError",
          "evalue": "'int' object is not iterable",
          "output_type": "error",
          "traceback": [
            "\u001b[0;31m---------------------------------------------------------------------------\u001b[0m",
            "\u001b[0;31mTypeError\u001b[0m                                 Traceback (most recent call last)",
            "\u001b[0;32m<ipython-input-36-52e339b6cb8d>\u001b[0m in \u001b[0;36m<cell line: 3>\u001b[0;34m()\u001b[0m\n\u001b[1;32m      1\u001b[0m \u001b[0ma\u001b[0m\u001b[0;34m=\u001b[0m\u001b[0;36m12\u001b[0m\u001b[0;34m\u001b[0m\u001b[0;34m\u001b[0m\u001b[0m\n\u001b[1;32m      2\u001b[0m \u001b[0mb\u001b[0m\u001b[0;34m=\u001b[0m\u001b[0;36m34\u001b[0m\u001b[0;34m\u001b[0m\u001b[0;34m\u001b[0m\u001b[0m\n\u001b[0;32m----> 3\u001b[0;31m \u001b[0mc\u001b[0m\u001b[0;34m=\u001b[0m\u001b[0mlist\u001b[0m\u001b[0;34m(\u001b[0m\u001b[0mzip\u001b[0m\u001b[0;34m(\u001b[0m\u001b[0ma\u001b[0m\u001b[0;34m,\u001b[0m\u001b[0mb\u001b[0m\u001b[0;34m)\u001b[0m\u001b[0;34m)\u001b[0m\u001b[0;34m\u001b[0m\u001b[0;34m\u001b[0m\u001b[0m\n\u001b[0m\u001b[1;32m      4\u001b[0m \u001b[0mprint\u001b[0m\u001b[0;34m(\u001b[0m\u001b[0mc\u001b[0m\u001b[0;34m)\u001b[0m\u001b[0;34m\u001b[0m\u001b[0;34m\u001b[0m\u001b[0m\n",
            "\u001b[0;31mTypeError\u001b[0m: 'int' object is not iterable"
          ]
        }
      ],
      "source": [
        "a=12\n",
        "b=34\n",
        "c=list(zip(a,b))\n",
        "print(c)"
      ]
    },
    {
      "cell_type": "code",
      "source": [
        "# Majority element problem\n",
        "\"\"\"Find the Majority Element in an Array\n",
        "Write a program to find the majority element in an array (an element that appears more than n/2 times).\n",
        "For example, in the array [3, 3, 4, 2, 4, 4, 2, 4, 4], the output should be 4. Do not use any\n",
        "built-in functions for array manipulation or counting.\n",
        "Instructions: Implement a manual count and comparison logic to find the majority element.\"\"\"\n",
        "a = [3, 3, 4, 2, 4, 4, 2, 4, 4]\n",
        "b = len(a)\n",
        "count = 0\n",
        "maj = None\n",
        "\n",
        "for i in range(b):\n",
        "    if count == 0:\n",
        "        count = 1\n",
        "        maj = a[i]\n",
        "    elif a[i] == maj:\n",
        "        count += 1\n",
        "    else:\n",
        "        count -= 1\n",
        "\n",
        "print(maj)"
      ],
      "metadata": {
        "colab": {
          "base_uri": "https://localhost:8080/"
        },
        "id": "4YWu1QQnAkv6",
        "outputId": "7307c510-d606-4178-f20f-29b88ef5062f"
      },
      "execution_count": null,
      "outputs": [
        {
          "output_type": "stream",
          "name": "stdout",
          "text": [
            "4\n"
          ]
        }
      ]
    },
    {
      "cell_type": "markdown",
      "metadata": {
        "id": "X326z6G87uQo"
      },
      "source": [
        "# Set Data Type\n",
        "# Characteristics Of a SET\n",
        "\n",
        "\n",
        "1.   UNORDERED:\n",
        "\n",
        "\n",
        " *   The items in the set are unordered,unlike lists,i.e,it will not maintain the order in which the items are inserted, The items will be in a different order each time when we access the set object.There will not be any index value assigned to each item in the set.\n",
        "\n",
        "2.   Unchangeable:\n",
        "\n",
        "*   Set items must be immutable.We cannot change the set items, i.e, We  canot modifiy the items 'value',But we can add or remove items to the set.A set iteself may be modified,but the elements contained in the set must be of an immutable type.\n",
        "\n",
        "3. Unique:\n",
        "* There cannot be two items with the same value in the set.\n",
        "\n",
        "4. Iterable:\n",
        "5. Mutable:\n",
        "\n",
        "# Difference b/w Lists[] and Set{}\n",
        "\n",
        "\n",
        "1.   List is ordered but the set is not.\n",
        "2.   The list is changeable but sets are not.\n",
        "3.   A list can have duplicate elements but a set can't have duplicate elements.\n",
        "\n",
        "\n",
        "\n",
        "\n",
        "\n",
        "\n",
        "\n",
        "\n",
        "\n",
        "\n"
      ]
    },
    {
      "cell_type": "markdown",
      "metadata": {
        "id": "PF62lzS0Cg3b"
      },
      "source": [
        "### Creating Set"
      ]
    },
    {
      "cell_type": "code",
      "execution_count": null,
      "metadata": {
        "colab": {
          "base_uri": "https://localhost:8080/"
        },
        "id": "LQSFipgYCjpx",
        "outputId": "15968253-d2ba-4f7a-8786-61697afd5010"
      },
      "outputs": [
        {
          "name": "stdout",
          "output_type": "stream",
          "text": [
            "set()\n"
          ]
        },
        {
          "data": {
            "text/plain": [
              "set"
            ]
          },
          "execution_count": 37,
          "metadata": {},
          "output_type": "execute_result"
        }
      ],
      "source": [
        "a=set()\n",
        "print(a)\n",
        "type(a)"
      ]
    },
    {
      "cell_type": "code",
      "execution_count": null,
      "metadata": {
        "colab": {
          "base_uri": "https://localhost:8080/"
        },
        "id": "dIaNE_4ACzSh",
        "outputId": "a8e2092e-78de-4c8b-d538-4bebe2963451"
      },
      "outputs": [
        {
          "data": {
            "text/plain": [
              "set"
            ]
          },
          "execution_count": 38,
          "metadata": {},
          "output_type": "execute_result"
        }
      ],
      "source": [
        "a={1,2}\n",
        "type(a)"
      ]
    },
    {
      "cell_type": "code",
      "execution_count": null,
      "metadata": {
        "colab": {
          "base_uri": "https://localhost:8080/",
          "height": 164
        },
        "id": "IoxAFvJbC36v",
        "outputId": "2bb2cfff-2c1a-499b-e27c-ae363ed522ea"
      },
      "outputs": [
        {
          "ename": "TypeError",
          "evalue": "'set' object is not subscriptable",
          "output_type": "error",
          "traceback": [
            "\u001b[0;31m---------------------------------------------------------------------------\u001b[0m",
            "\u001b[0;31mTypeError\u001b[0m                                 Traceback (most recent call last)",
            "\u001b[0;32m<ipython-input-39-4018f4fb4d8b>\u001b[0m in \u001b[0;36m<cell line: 2>\u001b[0;34m()\u001b[0m\n\u001b[1;32m      1\u001b[0m \u001b[0ma\u001b[0m\u001b[0;34m=\u001b[0m\u001b[0;34m{\u001b[0m\u001b[0;36m1\u001b[0m\u001b[0;34m,\u001b[0m\u001b[0;36m2\u001b[0m\u001b[0;34m,\u001b[0m\u001b[0;36m3\u001b[0m\u001b[0;34m,\u001b[0m\u001b[0;36m4\u001b[0m\u001b[0;34m,\u001b[0m\u001b[0;36m5\u001b[0m\u001b[0;34m}\u001b[0m\u001b[0;34m\u001b[0m\u001b[0;34m\u001b[0m\u001b[0m\n\u001b[0;32m----> 2\u001b[0;31m \u001b[0ma\u001b[0m\u001b[0;34m[\u001b[0m\u001b[0;36m0\u001b[0m\u001b[0;34m]\u001b[0m\u001b[0;34m\u001b[0m\u001b[0;34m\u001b[0m\u001b[0m\n\u001b[0m",
            "\u001b[0;31mTypeError\u001b[0m: 'set' object is not subscriptable"
          ]
        }
      ],
      "source": [
        "a={1,2,3,4,5}\n",
        "a[0] # means not indexing"
      ]
    },
    {
      "cell_type": "code",
      "execution_count": null,
      "metadata": {
        "colab": {
          "base_uri": "https://localhost:8080/",
          "height": 164
        },
        "id": "xBo9q0JLDDGm",
        "outputId": "7c9334d4-554f-492d-e84e-cd4dba7d52a1"
      },
      "outputs": [
        {
          "ename": "TypeError",
          "evalue": "'set' object is not subscriptable",
          "output_type": "error",
          "traceback": [
            "\u001b[0;31m---------------------------------------------------------------------------\u001b[0m",
            "\u001b[0;31mTypeError\u001b[0m                                 Traceback (most recent call last)",
            "\u001b[0;32m<ipython-input-42-321185422e87>\u001b[0m in \u001b[0;36m<cell line: 2>\u001b[0;34m()\u001b[0m\n\u001b[1;32m      1\u001b[0m \u001b[0ma\u001b[0m\u001b[0;34m=\u001b[0m\u001b[0;34m{\u001b[0m\u001b[0;36m1\u001b[0m\u001b[0;34m,\u001b[0m\u001b[0;36m2\u001b[0m\u001b[0;34m,\u001b[0m\u001b[0;36m3\u001b[0m\u001b[0;34m,\u001b[0m\u001b[0;36m4\u001b[0m\u001b[0;34m}\u001b[0m\u001b[0;34m\u001b[0m\u001b[0;34m\u001b[0m\u001b[0m\n\u001b[0;32m----> 2\u001b[0;31m \u001b[0ma\u001b[0m\u001b[0;34m[\u001b[0m\u001b[0;34m:\u001b[0m\u001b[0;34m]\u001b[0m \u001b[0;31m# means not slicing\u001b[0m\u001b[0;34m\u001b[0m\u001b[0;34m\u001b[0m\u001b[0m\n\u001b[0m",
            "\u001b[0;31mTypeError\u001b[0m: 'set' object is not subscriptable"
          ]
        }
      ],
      "source": [
        "a={1,2,3,4}\n",
        "a[:] # means not slicing"
      ]
    },
    {
      "cell_type": "code",
      "execution_count": null,
      "metadata": {
        "colab": {
          "base_uri": "https://localhost:8080/"
        },
        "id": "vUC92UQoDP8B",
        "outputId": "0531e150-b324-4ead-c056-660bdb9e2488"
      },
      "outputs": [
        {
          "name": "stdout",
          "output_type": "stream",
          "text": [
            "{1, 2, 3}\n"
          ]
        }
      ],
      "source": [
        "a={1,2,3,1,3,1}\n",
        "print(a)"
      ]
    },
    {
      "cell_type": "code",
      "execution_count": null,
      "metadata": {
        "colab": {
          "base_uri": "https://localhost:8080/"
        },
        "id": "9R8AHUezDfjx",
        "outputId": "209b9390-b0eb-43bb-c65c-3e081d2c3227"
      },
      "outputs": [
        {
          "data": {
            "text/plain": [
              "True"
            ]
          },
          "execution_count": 42,
          "metadata": {},
          "output_type": "execute_result"
        }
      ],
      "source": [
        "a={1,2,3,4}\n",
        "3 in a"
      ]
    },
    {
      "cell_type": "code",
      "execution_count": null,
      "metadata": {
        "colab": {
          "base_uri": "https://localhost:8080/"
        },
        "id": "TSk9pB1ZDkRA",
        "outputId": "676f20ed-e63d-46be-ab28-1a4db444fc87"
      },
      "outputs": [
        {
          "data": {
            "text/plain": [
              "10"
            ]
          },
          "execution_count": 43,
          "metadata": {},
          "output_type": "execute_result"
        }
      ],
      "source": [
        "sum(a)"
      ]
    },
    {
      "cell_type": "code",
      "execution_count": null,
      "metadata": {
        "colab": {
          "base_uri": "https://localhost:8080/"
        },
        "id": "j6wWn6RhDmHB",
        "outputId": "ed255a63-aa20-49c7-de18-a43935539bc1"
      },
      "outputs": [
        {
          "data": {
            "text/plain": [
              "4"
            ]
          },
          "execution_count": 44,
          "metadata": {},
          "output_type": "execute_result"
        }
      ],
      "source": [
        "max(a)"
      ]
    },
    {
      "cell_type": "code",
      "execution_count": null,
      "metadata": {
        "colab": {
          "base_uri": "https://localhost:8080/"
        },
        "id": "EFZIsLK1DoIk",
        "outputId": "cd1cde8e-be97-4f8f-cb62-3f9ea183ab10"
      },
      "outputs": [
        {
          "name": "stdout",
          "output_type": "stream",
          "text": [
            "137819160619584\n",
            "{1, 2, 3, 4}\n",
            "137819160619584\n"
          ]
        }
      ],
      "source": [
        "a={1,2,3}\n",
        "print(id(a))\n",
        "a.add(4)\n",
        "print(a)\n",
        "print(id(a))"
      ]
    },
    {
      "cell_type": "markdown",
      "metadata": {
        "id": "n5Gl2sThD_J_"
      },
      "source": [
        "## Method of Set data type\n",
        "#  Rules for addition in Set\n",
        "\n",
        "1.   Add()\n",
        "2.   Update()\n",
        "\n",
        "\n",
        "\n"
      ]
    },
    {
      "cell_type": "markdown",
      "metadata": {
        "id": "5k5siB7dEfp7"
      },
      "source": [
        "### .add()\n",
        "\n",
        "\n",
        "*   The add method is a common way to add an element to the end of a set.\n",
        "\n",
        "Here are some rules for using the add method.\n",
        "\n",
        "*   Syntax: The basic syntax for add is\n",
        "  \n",
        "  list_name.add(element)\n",
        "\n",
        "*   Argument: Add takes only one argument,the element you want to add to the set.\n",
        "* Data Type: The element can be an immutable type.\n",
        "* Modification: Add modifies the original set by adding the new element to the end.\n",
        "* Return Value: Add reeturns None,whenever wwe use print and add method together.\n",
        "* Note: Add method is a set method.\n",
        "* Examples:\n",
        "\n",
        "\n",
        "\n"
      ]
    },
    {
      "cell_type": "code",
      "execution_count": null,
      "metadata": {
        "colab": {
          "base_uri": "https://localhost:8080/"
        },
        "id": "ktPxdMcx7hYC",
        "outputId": "373ce459-18dd-4810-d426-6d564356bfbb"
      },
      "outputs": [
        {
          "name": "stdout",
          "output_type": "stream",
          "text": [
            "{1, 2, 3, 4}\n"
          ]
        }
      ],
      "source": [
        "a={1,2,3}\n",
        "a.add(4)\n",
        "\n",
        "print(a)"
      ]
    },
    {
      "cell_type": "code",
      "execution_count": null,
      "metadata": {
        "colab": {
          "base_uri": "https://localhost:8080/",
          "height": 182
        },
        "id": "hyuaB7ACDz5i",
        "outputId": "fe4f9690-91c4-406a-ffd1-b082fb212f09"
      },
      "outputs": [
        {
          "ename": "TypeError",
          "evalue": "set.add() takes exactly one argument (2 given)",
          "output_type": "error",
          "traceback": [
            "\u001b[0;31m---------------------------------------------------------------------------\u001b[0m",
            "\u001b[0;31mTypeError\u001b[0m                                 Traceback (most recent call last)",
            "\u001b[0;32m<ipython-input-2-0d853a941b75>\u001b[0m in \u001b[0;36m<cell line: 2>\u001b[0;34m()\u001b[0m\n\u001b[1;32m      1\u001b[0m \u001b[0ma\u001b[0m\u001b[0;34m=\u001b[0m\u001b[0;34m{\u001b[0m\u001b[0;36m1\u001b[0m\u001b[0;34m,\u001b[0m\u001b[0;36m2\u001b[0m\u001b[0;34m,\u001b[0m\u001b[0;36m3\u001b[0m\u001b[0;34m}\u001b[0m\u001b[0;34m\u001b[0m\u001b[0;34m\u001b[0m\u001b[0m\n\u001b[0;32m----> 2\u001b[0;31m \u001b[0ma\u001b[0m\u001b[0;34m.\u001b[0m\u001b[0madd\u001b[0m\u001b[0;34m(\u001b[0m\u001b[0;36m1\u001b[0m\u001b[0;34m,\u001b[0m\u001b[0;36m2\u001b[0m\u001b[0;34m)\u001b[0m\u001b[0;34m\u001b[0m\u001b[0;34m\u001b[0m\u001b[0m\n\u001b[0m\u001b[1;32m      3\u001b[0m \u001b[0mprint\u001b[0m\u001b[0;34m(\u001b[0m\u001b[0ma\u001b[0m\u001b[0;34m)\u001b[0m\u001b[0;34m\u001b[0m\u001b[0;34m\u001b[0m\u001b[0m\n",
            "\u001b[0;31mTypeError\u001b[0m: set.add() takes exactly one argument (2 given)"
          ]
        }
      ],
      "source": [
        "a={1,2,3}\n",
        "a.add(1,2)\n",
        "print(a)"
      ]
    },
    {
      "cell_type": "code",
      "execution_count": null,
      "metadata": {
        "colab": {
          "base_uri": "https://localhost:8080/",
          "height": 182
        },
        "id": "lSb8UzIp79Dg",
        "outputId": "b4600748-6bb4-4ed6-e66b-f2230d7aeba2"
      },
      "outputs": [
        {
          "ename": "TypeError",
          "evalue": "unhashable type: 'list'",
          "output_type": "error",
          "traceback": [
            "\u001b[0;31m---------------------------------------------------------------------------\u001b[0m",
            "\u001b[0;31mTypeError\u001b[0m                                 Traceback (most recent call last)",
            "\u001b[0;32m<ipython-input-3-164d0ab0a587>\u001b[0m in \u001b[0;36m<cell line: 2>\u001b[0;34m()\u001b[0m\n\u001b[1;32m      1\u001b[0m \u001b[0ma\u001b[0m\u001b[0;34m=\u001b[0m\u001b[0;34m{\u001b[0m\u001b[0;36m1\u001b[0m\u001b[0;34m,\u001b[0m\u001b[0;36m2\u001b[0m\u001b[0;34m,\u001b[0m\u001b[0;36m3\u001b[0m\u001b[0;34m}\u001b[0m\u001b[0;34m\u001b[0m\u001b[0;34m\u001b[0m\u001b[0m\n\u001b[0;32m----> 2\u001b[0;31m \u001b[0ma\u001b[0m\u001b[0;34m.\u001b[0m\u001b[0madd\u001b[0m\u001b[0;34m(\u001b[0m\u001b[0;34m[\u001b[0m\u001b[0;36m4\u001b[0m\u001b[0;34m,\u001b[0m\u001b[0;36m5\u001b[0m\u001b[0;34m]\u001b[0m\u001b[0;34m)\u001b[0m\u001b[0;34m\u001b[0m\u001b[0;34m\u001b[0m\u001b[0m\n\u001b[0m\u001b[1;32m      3\u001b[0m \u001b[0mprint\u001b[0m\u001b[0;34m(\u001b[0m\u001b[0ma\u001b[0m\u001b[0;34m)\u001b[0m\u001b[0;34m\u001b[0m\u001b[0;34m\u001b[0m\u001b[0m\n",
            "\u001b[0;31mTypeError\u001b[0m: unhashable type: 'list'"
          ]
        }
      ],
      "source": [
        "a={1,2,3}\n",
        "a.add([4,5])\n",
        "print(a)"
      ]
    },
    {
      "cell_type": "code",
      "execution_count": null,
      "metadata": {
        "colab": {
          "base_uri": "https://localhost:8080/"
        },
        "id": "YyXLNajG8Jg-",
        "outputId": "9d6a8d84-3ceb-4212-e2b8-15d8c72448d5"
      },
      "outputs": [
        {
          "name": "stdout",
          "output_type": "stream",
          "text": [
            "137551174102464\n",
            "{8, 1, 2, 3}\n",
            "137551174102464\n",
            "{1, 2, 3, 4, 8}\n"
          ]
        }
      ],
      "source": [
        "a={1,2,3}\n",
        "print(id(a))\n",
        "a.add(8)\n",
        "print(a)\n",
        "print(id(a))\n",
        "a.add(4)\n",
        "print(a)"
      ]
    },
    {
      "cell_type": "code",
      "execution_count": null,
      "metadata": {
        "colab": {
          "base_uri": "https://localhost:8080/"
        },
        "id": "8B7mOMG98lCK",
        "outputId": "f02c6334-c0f9-44fb-e118-1622495862bf"
      },
      "outputs": [
        {
          "name": "stdout",
          "output_type": "stream",
          "text": [
            "None\n"
          ]
        }
      ],
      "source": [
        "a={12,3}\n",
        "print(a.add(\"hello\"))\n"
      ]
    },
    {
      "cell_type": "code",
      "execution_count": null,
      "metadata": {
        "colab": {
          "base_uri": "https://localhost:8080/",
          "height": 182
        },
        "id": "tpFhtyvP8uMG",
        "outputId": "11aa23d0-eacb-49a8-c2d9-9a2b087360f7"
      },
      "outputs": [
        {
          "ename": "AttributeError",
          "evalue": "'list' object has no attribute 'add'",
          "output_type": "error",
          "traceback": [
            "\u001b[0;31m---------------------------------------------------------------------------\u001b[0m",
            "\u001b[0;31mAttributeError\u001b[0m                            Traceback (most recent call last)",
            "\u001b[0;32m<ipython-input-9-d23061971350>\u001b[0m in \u001b[0;36m<cell line: 2>\u001b[0;34m()\u001b[0m\n\u001b[1;32m      1\u001b[0m \u001b[0ma\u001b[0m\u001b[0;34m=\u001b[0m\u001b[0;34m[\u001b[0m\u001b[0;36m1\u001b[0m\u001b[0;34m,\u001b[0m\u001b[0;36m2\u001b[0m\u001b[0;34m,\u001b[0m\u001b[0;36m3\u001b[0m\u001b[0;34m]\u001b[0m\u001b[0;34m\u001b[0m\u001b[0;34m\u001b[0m\u001b[0m\n\u001b[0;32m----> 2\u001b[0;31m \u001b[0ma\u001b[0m\u001b[0;34m.\u001b[0m\u001b[0madd\u001b[0m\u001b[0;34m(\u001b[0m\u001b[0;36m8\u001b[0m\u001b[0;34m)\u001b[0m\u001b[0;34m\u001b[0m\u001b[0;34m\u001b[0m\u001b[0m\n\u001b[0m\u001b[1;32m      3\u001b[0m \u001b[0mprint\u001b[0m\u001b[0;34m(\u001b[0m\u001b[0ma\u001b[0m\u001b[0;34m)\u001b[0m\u001b[0;34m\u001b[0m\u001b[0;34m\u001b[0m\u001b[0m\n",
            "\u001b[0;31mAttributeError\u001b[0m: 'list' object has no attribute 'add'"
          ]
        }
      ],
      "source": [
        "a=[1,2,3]\n",
        "a.add(8)\n",
        "print(a)"
      ]
    },
    {
      "cell_type": "markdown",
      "metadata": {
        "id": "Ldmevl3a87nl"
      },
      "source": [
        "### .update()\n",
        "\n",
        "\n",
        "*   The update method is used to add multiple elements to a set in Python.\n",
        "\n",
        "Here are the rules for using the update method:\n",
        "\n",
        "\n",
        "*   Syntax: The basic syntax for the update method is:\n",
        "\n",
        "  set_name.update(iterable element)\n",
        "\n",
        "*   Argument:Extend takes one argument,an iterable containing the elements to be added.\n",
        "*  Data Type: The elements in the iterable can be of any data types,including string,integers,float.\n",
        "* Modification: The update modifies the original set by adding the new elements to the end.\n",
        "* Return Type: Update returns None, whenever we use the print and update method together.\n",
        "* Note: The update method is a set.\n",
        "* Example:\n",
        "\n",
        "\n",
        "\n",
        "\n"
      ]
    },
    {
      "cell_type": "code",
      "execution_count": null,
      "metadata": {
        "colab": {
          "base_uri": "https://localhost:8080/"
        },
        "id": "Uuo0fQGj-UN5",
        "outputId": "f3deb5f8-85d1-4c84-b428-e3e9459bf6a2"
      },
      "outputs": [
        {
          "name": "stdout",
          "output_type": "stream",
          "text": [
            "{1, 2.3, 'e', 'o', 'l', 'h'}\n"
          ]
        }
      ],
      "source": [
        "a={1,2.3}\n",
        "a.update(\"hello\")\n",
        "print(a)"
      ]
    },
    {
      "cell_type": "code",
      "execution_count": null,
      "metadata": {
        "colab": {
          "base_uri": "https://localhost:8080/"
        },
        "id": "DnA4aA2TACPh",
        "outputId": "c8cfb4a7-efe8-4cf0-cb2d-a03f8ba8a658"
      },
      "outputs": [
        {
          "name": "stdout",
          "output_type": "stream",
          "text": [
            "{1, 2, 3, 'e', 'r', 'o', 'l', 'd', 'w', 'h'}\n"
          ]
        }
      ],
      "source": [
        "a={1,2,3}\n",
        "a.update(\"hello\",\"world\")\n",
        "print(a)"
      ]
    },
    {
      "cell_type": "code",
      "execution_count": null,
      "metadata": {
        "colab": {
          "base_uri": "https://localhost:8080/",
          "height": 182
        },
        "id": "mKraKgFrAO5X",
        "outputId": "f2124ec0-3965-4873-dbc3-4dac932c3d8b"
      },
      "outputs": [
        {
          "ename": "TypeError",
          "evalue": "'int' object is not iterable",
          "output_type": "error",
          "traceback": [
            "\u001b[0;31m---------------------------------------------------------------------------\u001b[0m",
            "\u001b[0;31mTypeError\u001b[0m                                 Traceback (most recent call last)",
            "\u001b[0;32m<ipython-input-14-23049104a3b5>\u001b[0m in \u001b[0;36m<cell line: 2>\u001b[0;34m()\u001b[0m\n\u001b[1;32m      1\u001b[0m \u001b[0ma\u001b[0m\u001b[0;34m=\u001b[0m\u001b[0;34m{\u001b[0m\u001b[0;36m1\u001b[0m\u001b[0;34m,\u001b[0m\u001b[0;36m2\u001b[0m\u001b[0;34m,\u001b[0m\u001b[0;36m3\u001b[0m\u001b[0;34m}\u001b[0m\u001b[0;34m\u001b[0m\u001b[0;34m\u001b[0m\u001b[0m\n\u001b[0;32m----> 2\u001b[0;31m \u001b[0ma\u001b[0m\u001b[0;34m.\u001b[0m\u001b[0mupdate\u001b[0m\u001b[0;34m(\u001b[0m\u001b[0;36m9\u001b[0m\u001b[0;34m)\u001b[0m\u001b[0;34m\u001b[0m\u001b[0;34m\u001b[0m\u001b[0m\n\u001b[0m\u001b[1;32m      3\u001b[0m \u001b[0mprint\u001b[0m\u001b[0;34m(\u001b[0m\u001b[0ma\u001b[0m\u001b[0;34m)\u001b[0m\u001b[0;34m\u001b[0m\u001b[0;34m\u001b[0m\u001b[0m\n",
            "\u001b[0;31mTypeError\u001b[0m: 'int' object is not iterable"
          ]
        }
      ],
      "source": [
        "a={1,2,3}\n",
        "a.update(9)\n",
        "print(a)"
      ]
    },
    {
      "cell_type": "code",
      "execution_count": null,
      "metadata": {
        "colab": {
          "base_uri": "https://localhost:8080/"
        },
        "id": "xJ1waquYAWKQ",
        "outputId": "505db85e-241a-463d-f7a3-e31f7c80ac77"
      },
      "outputs": [
        {
          "name": "stdout",
          "output_type": "stream",
          "text": [
            "137550184130464\n",
            "{1, 2, 3, 'y', 'm'}\n",
            "137550184130464\n"
          ]
        }
      ],
      "source": [
        "a={1,2,3}\n",
        "print(id(a))\n",
        "a.update(\"my\")\n",
        "print(a)\n",
        "print(id(a))"
      ]
    },
    {
      "cell_type": "code",
      "execution_count": null,
      "metadata": {
        "colab": {
          "base_uri": "https://localhost:8080/"
        },
        "id": "je8FmOi3AjB7",
        "outputId": "8ad9cdd6-3fd4-4dbe-ef0a-360bffe80513"
      },
      "outputs": [
        {
          "name": "stdout",
          "output_type": "stream",
          "text": [
            "None\n"
          ]
        }
      ],
      "source": [
        "a={1,2,3}\n",
        "print(a.update((1,2)))"
      ]
    },
    {
      "cell_type": "markdown",
      "metadata": {
        "id": "MiwWeBjaAv6S"
      },
      "source": [
        "## Removing Methods in Set Data Type\n",
        "\n",
        "\n",
        "1.   .clear()\n",
        "2.   .pop()\n",
        "3.   .remove()\n",
        "4.   .discard()\n",
        "5.   del\n",
        "\n"
      ]
    },
    {
      "cell_type": "code",
      "execution_count": null,
      "metadata": {
        "colab": {
          "base_uri": "https://localhost:8080/"
        },
        "id": "aosvI5HSBevk",
        "outputId": "6a55dede-ade6-4332-f26e-60555cab0b18"
      },
      "outputs": [
        {
          "data": {
            "text/plain": [
              "set()"
            ]
          },
          "execution_count": 18,
          "metadata": {},
          "output_type": "execute_result"
        }
      ],
      "source": [
        "a={1,2,3}\n",
        "a.clear()\n",
        "a"
      ]
    },
    {
      "cell_type": "code",
      "execution_count": null,
      "metadata": {
        "colab": {
          "base_uri": "https://localhost:8080/",
          "height": 182
        },
        "id": "V99CZSmyBuzP",
        "outputId": "4fdde8c9-d2df-44e4-9e11-735f7f58efc7"
      },
      "outputs": [
        {
          "ename": "TypeError",
          "evalue": "set.clear() takes no arguments (1 given)",
          "output_type": "error",
          "traceback": [
            "\u001b[0;31m---------------------------------------------------------------------------\u001b[0m",
            "\u001b[0;31mTypeError\u001b[0m                                 Traceback (most recent call last)",
            "\u001b[0;32m<ipython-input-19-1307039064a7>\u001b[0m in \u001b[0;36m<cell line: 2>\u001b[0;34m()\u001b[0m\n\u001b[1;32m      1\u001b[0m \u001b[0ma\u001b[0m\u001b[0;34m=\u001b[0m\u001b[0;34m{\u001b[0m\u001b[0;36m1\u001b[0m\u001b[0;34m,\u001b[0m\u001b[0;36m2\u001b[0m\u001b[0;34m,\u001b[0m\u001b[0;36m3\u001b[0m\u001b[0;34m}\u001b[0m\u001b[0;34m\u001b[0m\u001b[0;34m\u001b[0m\u001b[0m\n\u001b[0;32m----> 2\u001b[0;31m \u001b[0ma\u001b[0m\u001b[0;34m.\u001b[0m\u001b[0mclear\u001b[0m\u001b[0;34m(\u001b[0m\u001b[0;36m2\u001b[0m\u001b[0;34m)\u001b[0m\u001b[0;34m\u001b[0m\u001b[0;34m\u001b[0m\u001b[0m\n\u001b[0m\u001b[1;32m      3\u001b[0m \u001b[0mprint\u001b[0m\u001b[0;34m(\u001b[0m\u001b[0ma\u001b[0m\u001b[0;34m)\u001b[0m\u001b[0;34m\u001b[0m\u001b[0;34m\u001b[0m\u001b[0m\n",
            "\u001b[0;31mTypeError\u001b[0m: set.clear() takes no arguments (1 given)"
          ]
        }
      ],
      "source": [
        "a={1,2,3}\n",
        "a.clear(2)\n",
        "print(a)"
      ]
    },
    {
      "cell_type": "code",
      "execution_count": null,
      "metadata": {
        "colab": {
          "base_uri": "https://localhost:8080/"
        },
        "id": "D_HWt0h4B1RZ",
        "outputId": "fff5616e-507d-4648-925f-5a4326a4a740"
      },
      "outputs": [
        {
          "name": "stdout",
          "output_type": "stream",
          "text": [
            "{2, 3}\n"
          ]
        }
      ],
      "source": [
        "# .pop()\n",
        "\n",
        "a={1,2,3}\n",
        "a.pop()\n",
        "print(a) # rendomly remove because set is unordered"
      ]
    },
    {
      "cell_type": "code",
      "execution_count": null,
      "metadata": {
        "colab": {
          "base_uri": "https://localhost:8080/",
          "height": 182
        },
        "id": "O-UKes6wCH5o",
        "outputId": "6800f76b-9880-4cf7-b29b-3a16fdda4abe"
      },
      "outputs": [
        {
          "ename": "TypeError",
          "evalue": "set.pop() takes no arguments (1 given)",
          "output_type": "error",
          "traceback": [
            "\u001b[0;31m---------------------------------------------------------------------------\u001b[0m",
            "\u001b[0;31mTypeError\u001b[0m                                 Traceback (most recent call last)",
            "\u001b[0;32m<ipython-input-22-e17a645ba4e6>\u001b[0m in \u001b[0;36m<cell line: 2>\u001b[0;34m()\u001b[0m\n\u001b[1;32m      1\u001b[0m \u001b[0ma\u001b[0m\u001b[0;34m=\u001b[0m\u001b[0;34m{\u001b[0m\u001b[0;34m\"hello\"\u001b[0m\u001b[0;34m,\u001b[0m\u001b[0;34m\"world\"\u001b[0m\u001b[0;34m,\u001b[0m\u001b[0;36m1\u001b[0m\u001b[0;34m,\u001b[0m\u001b[0;36m2\u001b[0m\u001b[0;34m}\u001b[0m\u001b[0;34m\u001b[0m\u001b[0;34m\u001b[0m\u001b[0m\n\u001b[0;32m----> 2\u001b[0;31m \u001b[0ma\u001b[0m\u001b[0;34m.\u001b[0m\u001b[0mpop\u001b[0m\u001b[0;34m(\u001b[0m\u001b[0;36m0\u001b[0m\u001b[0;34m)\u001b[0m\u001b[0;34m\u001b[0m\u001b[0;34m\u001b[0m\u001b[0m\n\u001b[0m\u001b[1;32m      3\u001b[0m \u001b[0mprint\u001b[0m\u001b[0;34m(\u001b[0m\u001b[0ma\u001b[0m\u001b[0;34m)\u001b[0m\u001b[0;34m\u001b[0m\u001b[0;34m\u001b[0m\u001b[0m\n",
            "\u001b[0;31mTypeError\u001b[0m: set.pop() takes no arguments (1 given)"
          ]
        }
      ],
      "source": [
        "a={\"hello\",\"world\",1,2}\n",
        "a.pop(0)\n",
        "print(a)"
      ]
    },
    {
      "cell_type": "code",
      "execution_count": null,
      "metadata": {
        "colab": {
          "base_uri": "https://localhost:8080/"
        },
        "id": "3UarBQn4Cdxv",
        "outputId": "85ebab0e-ee9d-4354-9443-2289208cf41b"
      },
      "outputs": [
        {
          "data": {
            "text/plain": [
              "2"
            ]
          },
          "execution_count": 24,
          "metadata": {},
          "output_type": "execute_result"
        }
      ],
      "source": [
        "a.pop()"
      ]
    },
    {
      "cell_type": "code",
      "execution_count": null,
      "metadata": {
        "colab": {
          "base_uri": "https://localhost:8080/"
        },
        "id": "eYD0SVtbCjvZ",
        "outputId": "dafff516-e4f3-416e-8bea-e75ebfd450a3"
      },
      "outputs": [
        {
          "name": "stdout",
          "output_type": "stream",
          "text": [
            "{2, 4}\n"
          ]
        }
      ],
      "source": [
        "#.remove\n",
        "a={1,2,4}\n",
        "a.remove(1)\n",
        "print(a)"
      ]
    },
    {
      "cell_type": "code",
      "execution_count": null,
      "metadata": {
        "colab": {
          "base_uri": "https://localhost:8080/"
        },
        "id": "K33XK_QCCpzQ",
        "outputId": "cca39bc4-2a40-4f19-c89e-2fa8086d1457"
      },
      "outputs": [
        {
          "name": "stdout",
          "output_type": "stream",
          "text": [
            "{1, 3}\n"
          ]
        }
      ],
      "source": [
        "#discard\n",
        "a={1,2,3}\n",
        "a.discard(2)\n",
        "print(a)"
      ]
    },
    {
      "cell_type": "code",
      "execution_count": null,
      "metadata": {
        "colab": {
          "base_uri": "https://localhost:8080/",
          "height": 182
        },
        "id": "InV_St6zC38q",
        "outputId": "701f1425-d346-4c31-c49d-b31adaa6de29"
      },
      "outputs": [
        {
          "ename": "KeyError",
          "evalue": "'t'",
          "output_type": "error",
          "traceback": [
            "\u001b[0;31m---------------------------------------------------------------------------\u001b[0m",
            "\u001b[0;31mKeyError\u001b[0m                                  Traceback (most recent call last)",
            "\u001b[0;32m<ipython-input-27-7fc437d43ffd>\u001b[0m in \u001b[0;36m<cell line: 2>\u001b[0;34m()\u001b[0m\n\u001b[1;32m      1\u001b[0m \u001b[0ma\u001b[0m\u001b[0;34m=\u001b[0m\u001b[0;34m{\u001b[0m\u001b[0;36m1\u001b[0m\u001b[0;34m,\u001b[0m\u001b[0;36m2\u001b[0m\u001b[0;34m,\u001b[0m\u001b[0;36m3\u001b[0m\u001b[0;34m}\u001b[0m\u001b[0;34m\u001b[0m\u001b[0;34m\u001b[0m\u001b[0m\n\u001b[0;32m----> 2\u001b[0;31m \u001b[0ma\u001b[0m\u001b[0;34m.\u001b[0m\u001b[0mremove\u001b[0m\u001b[0;34m(\u001b[0m\u001b[0;34m\"t\"\u001b[0m\u001b[0;34m)\u001b[0m\u001b[0;34m\u001b[0m\u001b[0;34m\u001b[0m\u001b[0m\n\u001b[0m\u001b[1;32m      3\u001b[0m \u001b[0mprint\u001b[0m\u001b[0;34m(\u001b[0m\u001b[0ma\u001b[0m\u001b[0;34m)\u001b[0m\u001b[0;34m\u001b[0m\u001b[0;34m\u001b[0m\u001b[0m\n",
            "\u001b[0;31mKeyError\u001b[0m: 't'"
          ]
        }
      ],
      "source": [
        "a={1,2,3}\n",
        "a.remove(\"t\")\n",
        "print(a)"
      ]
    },
    {
      "cell_type": "code",
      "execution_count": null,
      "metadata": {
        "colab": {
          "base_uri": "https://localhost:8080/"
        },
        "id": "Cm4YV2AfC9Bu",
        "outputId": "2ea2d602-5124-49a7-d26d-ad20cda74f87"
      },
      "outputs": [
        {
          "name": "stdout",
          "output_type": "stream",
          "text": [
            "{1, 2, 3, 4}\n"
          ]
        }
      ],
      "source": [
        "a={1,2,3,4}\n",
        "a.discard(\"hello\")\n",
        "print(a)"
      ]
    },
    {
      "cell_type": "code",
      "execution_count": null,
      "metadata": {
        "colab": {
          "base_uri": "https://localhost:8080/",
          "height": 200
        },
        "id": "Lvx1yAIxDIim",
        "outputId": "202c0ccd-ebb8-495f-ed6b-97357e9c58f0"
      },
      "outputs": [
        {
          "name": "stdout",
          "output_type": "stream",
          "text": [
            "{1, 2, 3}\n"
          ]
        },
        {
          "ename": "NameError",
          "evalue": "name 'a' is not defined",
          "output_type": "error",
          "traceback": [
            "\u001b[0;31m---------------------------------------------------------------------------\u001b[0m",
            "\u001b[0;31mNameError\u001b[0m                                 Traceback (most recent call last)",
            "\u001b[0;32m<ipython-input-29-cabff9bb696b>\u001b[0m in \u001b[0;36m<cell line: 5>\u001b[0;34m()\u001b[0m\n\u001b[1;32m      3\u001b[0m \u001b[0mprint\u001b[0m\u001b[0;34m(\u001b[0m\u001b[0ma\u001b[0m\u001b[0;34m)\u001b[0m\u001b[0;34m\u001b[0m\u001b[0;34m\u001b[0m\u001b[0m\n\u001b[1;32m      4\u001b[0m \u001b[0;32mdel\u001b[0m \u001b[0ma\u001b[0m\u001b[0;34m\u001b[0m\u001b[0;34m\u001b[0m\u001b[0m\n\u001b[0;32m----> 5\u001b[0;31m \u001b[0mprint\u001b[0m\u001b[0;34m(\u001b[0m\u001b[0ma\u001b[0m\u001b[0;34m)\u001b[0m\u001b[0;34m\u001b[0m\u001b[0;34m\u001b[0m\u001b[0m\n\u001b[0m",
            "\u001b[0;31mNameError\u001b[0m: name 'a' is not defined"
          ]
        }
      ],
      "source": [
        "#del\n",
        "a={1,2,3}\n",
        "print(a)\n",
        "del a\n",
        "print(a)"
      ]
    },
    {
      "cell_type": "markdown",
      "metadata": {
        "id": "bx7rndtHDedI"
      },
      "source": [
        "## Union\n",
        "\n",
        "\n",
        "*   ![Union-in-python.jpg](data:image/jpeg;base64,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)\n"
      ]
    },
    {
      "cell_type": "code",
      "execution_count": null,
      "metadata": {
        "colab": {
          "base_uri": "https://localhost:8080/"
        },
        "id": "wTbqHEneD_RE",
        "outputId": "2bc99862-767c-49ad-b2c7-62f571435118"
      },
      "outputs": [
        {
          "data": {
            "text/plain": [
              "{1, 2, 3, 4, 5}"
            ]
          },
          "execution_count": 30,
          "metadata": {},
          "output_type": "execute_result"
        }
      ],
      "source": [
        "set1={1,2,3}\n",
        "set2={3,4,5}\n",
        "set1.union(set2)"
      ]
    },
    {
      "cell_type": "code",
      "execution_count": null,
      "metadata": {
        "colab": {
          "base_uri": "https://localhost:8080/"
        },
        "id": "A23Vh-M4EoTr",
        "outputId": "ca178d66-9efe-4dc6-f981-45c4e128a62f"
      },
      "outputs": [
        {
          "data": {
            "text/plain": [
              "{1, 2, 3, 4, 5}"
            ]
          },
          "execution_count": 31,
          "metadata": {},
          "output_type": "execute_result"
        }
      ],
      "source": [
        "set1 | set2"
      ]
    },
    {
      "cell_type": "code",
      "execution_count": null,
      "metadata": {
        "colab": {
          "base_uri": "https://localhost:8080/"
        },
        "id": "fmzF2FipEvnz",
        "outputId": "4860073a-c639-442d-8bb1-8003b5fa3e78"
      },
      "outputs": [
        {
          "name": "stdout",
          "output_type": "stream",
          "text": [
            "{1, 2, 3, 4, 5}\n"
          ]
        }
      ],
      "source": [
        "print(set1.union(set2))"
      ]
    },
    {
      "cell_type": "markdown",
      "metadata": {
        "id": "eNvOQq4SE1Ws"
      },
      "source": [
        "## Intersection\n",
        "![intersection-of-sets---venn-diagram.jpg](data:image/jpeg;base64,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)"
      ]
    },
    {
      "cell_type": "code",
      "execution_count": null,
      "metadata": {
        "colab": {
          "base_uri": "https://localhost:8080/"
        },
        "id": "4ySAGY5GFDsC",
        "outputId": "343d8935-e11a-4ab8-a015-53e320702c55"
      },
      "outputs": [
        {
          "data": {
            "text/plain": [
              "{3, 4}"
            ]
          },
          "execution_count": 33,
          "metadata": {},
          "output_type": "execute_result"
        }
      ],
      "source": [
        "set1={1,2,3,4}\n",
        "set2={3,4,5,6}\n",
        "set1.intersection(set2)"
      ]
    },
    {
      "cell_type": "code",
      "execution_count": null,
      "metadata": {
        "colab": {
          "base_uri": "https://localhost:8080/"
        },
        "id": "G1s9c0IyKgJh",
        "outputId": "5c0be373-afd5-41cf-e24d-52460be2d3da"
      },
      "outputs": [
        {
          "name": "stdout",
          "output_type": "stream",
          "text": [
            "{3, 4}\n"
          ]
        }
      ],
      "source": [
        "print(set1.intersection(set2))"
      ]
    },
    {
      "cell_type": "code",
      "execution_count": null,
      "metadata": {
        "colab": {
          "base_uri": "https://localhost:8080/"
        },
        "id": "nKn23KK5KnGq",
        "outputId": "1d62e247-c274-4a3a-fcaf-4f7a8f40d7f6"
      },
      "outputs": [
        {
          "data": {
            "text/plain": [
              "{1, 2, 3, 4}"
            ]
          },
          "execution_count": 35,
          "metadata": {},
          "output_type": "execute_result"
        }
      ],
      "source": [
        "set1"
      ]
    },
    {
      "cell_type": "code",
      "execution_count": null,
      "metadata": {
        "colab": {
          "base_uri": "https://localhost:8080/"
        },
        "id": "wOqHFpw1KrXZ",
        "outputId": "1a8d159e-0132-4bd4-9b10-7846abf4e86c"
      },
      "outputs": [
        {
          "name": "stdout",
          "output_type": "stream",
          "text": [
            "{3, 4}\n"
          ]
        }
      ],
      "source": [
        "set1.intersection_update(set2)\n",
        "print(set1)"
      ]
    },
    {
      "cell_type": "code",
      "execution_count": null,
      "metadata": {
        "colab": {
          "base_uri": "https://localhost:8080/"
        },
        "id": "hSrqAd5QK6mn",
        "outputId": "cca87fee-067a-459c-c098-de214f21c687"
      },
      "outputs": [
        {
          "name": "stdout",
          "output_type": "stream",
          "text": [
            "None\n"
          ]
        }
      ],
      "source": [
        "print(set1.intersection_update(set2))\n"
      ]
    },
    {
      "cell_type": "code",
      "execution_count": null,
      "metadata": {
        "colab": {
          "base_uri": "https://localhost:8080/"
        },
        "id": "6xEEjCzXLDS8",
        "outputId": "3f5f962d-22da-474f-c394-67812fa148f1"
      },
      "outputs": [
        {
          "data": {
            "text/plain": [
              "{3}"
            ]
          },
          "execution_count": 41,
          "metadata": {},
          "output_type": "execute_result"
        }
      ],
      "source": [
        "set1={1,2,3}\n",
        "set2={4,5,6,3}\n",
        "set1 & set2"
      ]
    },
    {
      "cell_type": "markdown",
      "source": [
        "## Practice set question\n"
      ],
      "metadata": {
        "id": "kkKvV2hAvdqT"
      }
    },
    {
      "cell_type": "code",
      "source": [
        "# Write a Python program to create an empty set.\n",
        "set1=set()\n",
        "print(set1)\n",
        "print(type(set1))"
      ],
      "metadata": {
        "colab": {
          "base_uri": "https://localhost:8080/"
        },
        "id": "r4y-o4Q0viOZ",
        "outputId": "70059cae-2909-4b57-c49b-e306c90dcc3c"
      },
      "execution_count": null,
      "outputs": [
        {
          "output_type": "stream",
          "name": "stdout",
          "text": [
            "set()\n",
            "<class 'set'>\n"
          ]
        }
      ]
    },
    {
      "cell_type": "code",
      "source": [
        "# Write a Python program to create a set with elements \"apple\", \"banana\", and \"cherry\"\n",
        "set1={\"apple\",\"banana\",\"cherry\"}\n",
        "print(set1)\n",
        "print(type(set1))"
      ],
      "metadata": {
        "colab": {
          "base_uri": "https://localhost:8080/"
        },
        "id": "D4XMKtFuxzi3",
        "outputId": "64d49909-4058-4f45-e492-8e5b6a7afdd9"
      },
      "execution_count": null,
      "outputs": [
        {
          "output_type": "stream",
          "name": "stdout",
          "text": [
            "{'apple', 'banana', 'cherry'}\n",
            "<class 'set'>\n"
          ]
        }
      ]
    },
    {
      "cell_type": "code",
      "source": [
        "# Write a Python program to find the length of a set.\n",
        "set1={\"apple\",\"banana\",\"cherry\"}\n",
        "print(len(set1))"
      ],
      "metadata": {
        "colab": {
          "base_uri": "https://localhost:8080/"
        },
        "id": "IDMgAouByG6I",
        "outputId": "109ce73b-5858-4d20-f569-3d0e770f9334"
      },
      "execution_count": null,
      "outputs": [
        {
          "output_type": "stream",
          "name": "stdout",
          "text": [
            "3\n"
          ]
        }
      ]
    },
    {
      "cell_type": "code",
      "source": [
        "# Write a Python program to add an element to a set\n",
        "a={\"apple\",\"banana\",\"cherry\"}\n",
        "a.add(\"guava\")\n",
        "print(a)"
      ],
      "metadata": {
        "colab": {
          "base_uri": "https://localhost:8080/"
        },
        "id": "JgJElFUiyUUq",
        "outputId": "fddb240c-4b27-428d-ba0a-aff5864d1428"
      },
      "execution_count": null,
      "outputs": [
        {
          "output_type": "stream",
          "name": "stdout",
          "text": [
            "{'apple', 'banana', 'guava', 'cherry'}\n"
          ]
        }
      ]
    },
    {
      "cell_type": "code",
      "source": [
        "a = {\"apple\", \"banana\", \"cherry\"}\n",
        "b = a.union({\"guava\"})\n",
        "print(b)  # Output: {'apple', 'banana', 'cherry', 'guava'}\n"
      ],
      "metadata": {
        "colab": {
          "base_uri": "https://localhost:8080/"
        },
        "id": "c8krLgcqzm4p",
        "outputId": "04c063a1-ddcc-415a-e497-b5ef2e38498c"
      },
      "execution_count": null,
      "outputs": [
        {
          "output_type": "stream",
          "name": "stdout",
          "text": [
            "{'apple', 'banana', 'guava', 'cherry'}\n"
          ]
        }
      ]
    },
    {
      "cell_type": "code",
      "source": [
        "# Write a Python program to remove an element from a set.\n",
        "a= {'apple', 'banana', 'guava', 'cherry'}\n",
        "a.remove('banana')\n",
        "print(a)"
      ],
      "metadata": {
        "colab": {
          "base_uri": "https://localhost:8080/"
        },
        "id": "v2UMODG7zuFz",
        "outputId": "1d478431-7e52-49fe-e2ff-4f0d9a2355a8"
      },
      "execution_count": null,
      "outputs": [
        {
          "output_type": "stream",
          "name": "stdout",
          "text": [
            "{'apple', 'guava', 'cherry'}\n"
          ]
        }
      ]
    },
    {
      "cell_type": "code",
      "source": [
        "a= {'apple', 'banana', 'guava', 'cherry'}\n",
        "a.pop()\n",
        "print(a)"
      ],
      "metadata": {
        "colab": {
          "base_uri": "https://localhost:8080/"
        },
        "id": "g4HcM7Oa0Z7Y",
        "outputId": "0a04624c-a46b-4d20-fa63-2bf4bb76cb57"
      },
      "execution_count": null,
      "outputs": [
        {
          "output_type": "stream",
          "name": "stdout",
          "text": [
            "{'banana', 'guava', 'cherry'}\n"
          ]
        }
      ]
    },
    {
      "cell_type": "code",
      "source": [
        "# Write a Python program to check if an element is present in a set\n",
        "a={1,2,3,4,5}\n",
        "num=int(input(\"please enter your no.\"))\n",
        "if num in a:\n",
        "  print(\"True\")\n",
        "else:\n",
        "  print(\"False\")"
      ],
      "metadata": {
        "colab": {
          "base_uri": "https://localhost:8080/"
        },
        "id": "4UeXeBLl0fqd",
        "outputId": "eb86a791-7fce-41ea-d2f4-92e230e4ea40"
      },
      "execution_count": null,
      "outputs": [
        {
          "output_type": "stream",
          "name": "stdout",
          "text": [
            "please enter your no.3\n",
            "True\n"
          ]
        }
      ]
    },
    {
      "cell_type": "code",
      "source": [
        "#Write a Python program to perform set union.\n",
        "set1 = {1, 2, 3}\n",
        "set2 = {3, 4, 5}\n",
        "print(set1.union(set2))"
      ],
      "metadata": {
        "colab": {
          "base_uri": "https://localhost:8080/"
        },
        "id": "nbZ5M1vfMV8K",
        "outputId": "dce2f474-9d73-4048-cec7-ed35d2fb1e2b"
      },
      "execution_count": null,
      "outputs": [
        {
          "output_type": "stream",
          "name": "stdout",
          "text": [
            "{1, 2, 3, 4, 5}\n"
          ]
        }
      ]
    },
    {
      "cell_type": "code",
      "source": [
        "def mix(set1,set2):\n",
        "  return  set1|set2\n",
        "\n",
        "set1 = {1, 2, 3}\n",
        "set2 = {3, 4, 5}\n",
        "result = mix(set1,set2)\n",
        "print(result)"
      ],
      "metadata": {
        "colab": {
          "base_uri": "https://localhost:8080/"
        },
        "id": "PeJWhsHGMxuE",
        "outputId": "17240b50-28e3-4e80-857a-0a13cf6604e6"
      },
      "execution_count": null,
      "outputs": [
        {
          "output_type": "stream",
          "name": "stdout",
          "text": [
            "{1, 2, 3, 4, 5}\n"
          ]
        }
      ]
    },
    {
      "cell_type": "code",
      "source": [
        "# Write a Python program to perform set intersection.\n",
        "def common(set1,set2):\n",
        "  #return set1 & set2\n",
        "  print(set1.intersection(set2))\n",
        "\n",
        "\n",
        "set1 = {1, 2, 3}\n",
        "set2 = {3, 4, 5}\n",
        "result = common(set1,set2)\n",
        "#print(result)"
      ],
      "metadata": {
        "colab": {
          "base_uri": "https://localhost:8080/"
        },
        "id": "mhI1n6dQNOB4",
        "outputId": "faf2dfd2-9f6c-4cc6-eaaa-45fb4b6d46fa"
      },
      "execution_count": null,
      "outputs": [
        {
          "output_type": "stream",
          "name": "stdout",
          "text": [
            "{3}\n"
          ]
        }
      ]
    },
    {
      "cell_type": "code",
      "source": [
        "# Write a Python program to perform set difference.\n",
        "def diff(set1,set2):\n",
        "  # return set1-set2\n",
        "  return set1.difference(set2)\n",
        "\n",
        "\n",
        "\n",
        "set1 = {1, 2, 3}\n",
        "set2 = {3, 4, 5}\n",
        "result=diff(set1,set2)\n",
        "print(result)"
      ],
      "metadata": {
        "colab": {
          "base_uri": "https://localhost:8080/"
        },
        "id": "LqXIH6guN6ez",
        "outputId": "7553b1ee-7338-49a8-ee1d-989afa02faf5"
      },
      "execution_count": null,
      "outputs": [
        {
          "output_type": "stream",
          "name": "stdout",
          "text": [
            "{1, 2}\n"
          ]
        }
      ]
    },
    {
      "cell_type": "code",
      "source": [
        "# Write a Python program to clear all elements from a set.\n",
        "set1={1,2,3,4}\n",
        "set1.clear()\n",
        "print(set1)"
      ],
      "metadata": {
        "colab": {
          "base_uri": "https://localhost:8080/"
        },
        "id": "qXloBy9VOf-2",
        "outputId": "c9c5c600-333a-44c9-a622-9a3e322efab7"
      },
      "execution_count": null,
      "outputs": [
        {
          "output_type": "stream",
          "name": "stdout",
          "text": [
            "set()\n"
          ]
        }
      ]
    },
    {
      "cell_type": "code",
      "source": [
        "set1 = {1, 2, 3, 4}\n",
        "set1 = set()  # Reassigns to an empty set\n",
        "print(set1)  # Output: set()\n"
      ],
      "metadata": {
        "colab": {
          "base_uri": "https://localhost:8080/"
        },
        "id": "SIZ6YDz4O3nf",
        "outputId": "01b5c10d-011f-4a6a-f6eb-b55362c8bde0"
      },
      "execution_count": null,
      "outputs": [
        {
          "output_type": "stream",
          "name": "stdout",
          "text": [
            "set()\n"
          ]
        }
      ]
    },
    {
      "cell_type": "code",
      "source": [
        " # Write a Python program to copy a set\n",
        " set1={1,2,3,4}\n",
        " set2=set1.copy()\n",
        " print(set2)"
      ],
      "metadata": {
        "colab": {
          "base_uri": "https://localhost:8080/"
        },
        "id": "HkM9oGYMO5rg",
        "outputId": "9d27e5d0-fc68-4771-d0de-f2b26d99efb1"
      },
      "execution_count": null,
      "outputs": [
        {
          "output_type": "stream",
          "name": "stdout",
          "text": [
            "{1, 2, 3, 4}\n"
          ]
        }
      ]
    },
    {
      "cell_type": "code",
      "source": [
        "# Write a Python program to find the maximum and minimum elements in a set.\n",
        "set1={1,2,3,4}\n",
        "max_element=None\n",
        "min_element=None\n",
        "for num in set1:\n",
        "  if max_element is None or num>max_element:\n",
        "    max_element=num\n",
        "  if min_element is None or num<min_element:\n",
        "    min_element=num\n",
        "\n",
        "print(max_element)\n",
        "print(min_element)\n"
      ],
      "metadata": {
        "colab": {
          "base_uri": "https://localhost:8080/"
        },
        "id": "aZv8a4eGPnfO",
        "outputId": "5dba25c9-98ed-4fd3-93aa-79c7fe1a5c2c"
      },
      "execution_count": null,
      "outputs": [
        {
          "output_type": "stream",
          "name": "stdout",
          "text": [
            "4\n",
            "1\n"
          ]
        }
      ]
    },
    {
      "cell_type": "code",
      "source": [
        "set1={1,2,3,4}\n",
        "max_element=max(set1)\n",
        "min_elementnt=min(set1)\n",
        "\n",
        "print(f\"{max_element} is max_element and {min_element} is min_element\")"
      ],
      "metadata": {
        "colab": {
          "base_uri": "https://localhost:8080/"
        },
        "id": "pdhbA9GNSTjN",
        "outputId": "21f806aa-1654-4b93-bf7d-2b3dd4a338ed"
      },
      "execution_count": null,
      "outputs": [
        {
          "output_type": "stream",
          "name": "stdout",
          "text": [
            "4 is max_element and 1 is min_element\n"
          ]
        }
      ]
    },
    {
      "cell_type": "code",
      "source": [
        "set1 = {1, 2, 3, 4}\n",
        "\n",
        "# Finding the maximum and minimum elements\n",
        "max_element = max(set1)\n",
        "min_element = min(set1)\n",
        "\n",
        "print(\"Maximum element:\", max_element)  # Output: 4\n",
        "print(\"Minimum element:\", min_element)  # Output: 1\n"
      ],
      "metadata": {
        "id": "AjBzvSJBTLXG"
      },
      "execution_count": null,
      "outputs": []
    },
    {
      "cell_type": "code",
      "source": [
        "# Write a Python program to remove a specific element from a set using the discard method.\n",
        "set1={1,2,3,4,4}\n",
        "set1.discard(4)\n",
        "print(set1)"
      ],
      "metadata": {
        "colab": {
          "base_uri": "https://localhost:8080/"
        },
        "id": "jgugzFkCTM1-",
        "outputId": "cd927c70-d1fd-408a-dc92-d50ccba4b165"
      },
      "execution_count": null,
      "outputs": [
        {
          "output_type": "stream",
          "name": "stdout",
          "text": [
            "{1, 2, 3}\n"
          ]
        }
      ]
    },
    {
      "cell_type": "code",
      "source": [
        "set1={1,2,3,4,4}\n",
        "result=set1.discard(4)\n",
        "print(result)\n",
        "print(set1)"
      ],
      "metadata": {
        "colab": {
          "base_uri": "https://localhost:8080/"
        },
        "id": "F0QelFT4T7je",
        "outputId": "0ab99264-8ebb-42c8-9dc7-a52787dca9ac"
      },
      "execution_count": null,
      "outputs": [
        {
          "output_type": "stream",
          "name": "stdout",
          "text": [
            "None\n",
            "{1, 2, 3}\n"
          ]
        }
      ]
    },
    {
      "cell_type": "code",
      "source": [
        "# Write a Python program to find the common elements between multiple sets.\n",
        "set1={1,2,3,4,5}\n",
        "set2={2,4,5}\n",
        "print(set1 & set2)"
      ],
      "metadata": {
        "colab": {
          "base_uri": "https://localhost:8080/"
        },
        "id": "xNmK4GtOUFTa",
        "outputId": "e711b98b-6b00-479e-ef4b-eb3f9303a9e9"
      },
      "execution_count": null,
      "outputs": [
        {
          "output_type": "stream",
          "name": "stdout",
          "text": [
            "{2, 4, 5}\n"
          ]
        }
      ]
    },
    {
      "cell_type": "code",
      "source": [
        "set1 = {1, 2, 3, 4, 5}\n",
        "set2 = {2, 4, 5}\n",
        "set3 = {4, 5, 6, 7}\n",
        "\n",
        "# Finding common elements using intersection() method\n",
        "common_elements = set1.intersection(set2, set3)\n",
        "print(\"Common elements:\", common_elements)  # Output: {4, 5}\n"
      ],
      "metadata": {
        "colab": {
          "base_uri": "https://localhost:8080/"
        },
        "id": "kKe58M54UlRa",
        "outputId": "0b2eeb37-6ab7-437a-9fef-0dbae20faf8d"
      },
      "execution_count": null,
      "outputs": [
        {
          "output_type": "stream",
          "name": "stdout",
          "text": [
            "Common elements: {4, 5}\n"
          ]
        }
      ]
    },
    {
      "cell_type": "code",
      "source": [
        "#  Write a Python program to convert a list into a set\n",
        "set1={1,2,3,4}\n",
        "li=[]\n",
        "for i in set1:\n",
        "  li.append(i)\n",
        "print(li)\n"
      ],
      "metadata": {
        "colab": {
          "base_uri": "https://localhost:8080/"
        },
        "id": "HLbyhOjwUqYc",
        "outputId": "5ba62343-38ee-4125-c4eb-6812f262c6e3"
      },
      "execution_count": null,
      "outputs": [
        {
          "output_type": "stream",
          "name": "stdout",
          "text": [
            "[1, 2, 3, 4]\n"
          ]
        }
      ]
    },
    {
      "cell_type": "code",
      "source": [
        "set1={1,2,3,4}\n",
        "li=list(set1)\n",
        "print(li)\n"
      ],
      "metadata": {
        "colab": {
          "base_uri": "https://localhost:8080/"
        },
        "id": "cxednaJ7VWsj",
        "outputId": "b6f53cd4-4e57-4b08-83ef-108ea57d95fe"
      },
      "execution_count": null,
      "outputs": [
        {
          "output_type": "stream",
          "name": "stdout",
          "text": [
            "[1, 2, 3, 4]\n"
          ]
        }
      ]
    },
    {
      "cell_type": "code",
      "source": [
        "#  Write a Python program to find the union of multiple sets.\n",
        "set1 = {1, 2, 3, 4, 5}\n",
        "set2 = {2, 4, 5}\n",
        "set3 = {4, 5, 6, 7}\n",
        "print(set1|set2|set3)"
      ],
      "metadata": {
        "colab": {
          "base_uri": "https://localhost:8080/"
        },
        "id": "XFhpv8nJVgo4",
        "outputId": "387b79e0-acf7-4594-9d6c-8eda8b15fa23"
      },
      "execution_count": null,
      "outputs": [
        {
          "output_type": "stream",
          "name": "stdout",
          "text": [
            "{1, 2, 3, 4, 5, 6, 7}\n"
          ]
        }
      ]
    },
    {
      "cell_type": "code",
      "source": [
        "# Write a Python program to check if two sets are equal\n",
        "def equal(set1,set2):\n",
        "  if set1==set2:\n",
        "    print(\"both sets are equal\")\n",
        "  else:\n",
        "    print(\"sets are not equal\")\n",
        "\n",
        "\n",
        "set1={1,2,3,4}\n",
        "set2={1,2,3,4}\n",
        "equal(set1,set2)"
      ],
      "metadata": {
        "colab": {
          "base_uri": "https://localhost:8080/"
        },
        "id": "7dun8DxOVune",
        "outputId": "9e7a05d6-080c-45ce-f5ee-1d7be22beee8"
      },
      "execution_count": null,
      "outputs": [
        {
          "output_type": "stream",
          "name": "stdout",
          "text": [
            "both sets are equal\n"
          ]
        }
      ]
    },
    {
      "cell_type": "markdown",
      "metadata": {
        "id": "_MY9QV75-1Jm"
      },
      "source": [
        "# Dictionary\n",
        "* A Dictionaries in python is like a list,but more general. In a list, the index positions have to be integers; In a dictionary, the indices can be (almost) any type.\n",
        "\n",
        "## Lists Vs. Dictionaries in Python\n",
        "\n",
        "\n",
        "*   In lists, the values are stored at numeric indexes.\n",
        "\n",
        "* In Dictionaries, we can choose the indexes for the values.\n",
        " - Indexes are known as keys and\n",
        " - elements as values in dictionaries.\n",
        "\n",
        "* Lists are created either using list() function or pair of [ ] brackets.\n",
        "\n",
        " Dictionaries are created using either dict() function or pair of { } with : for separating the key and value pair.\n",
        "\n",
        "\n",
        "\n"
      ]
    },
    {
      "cell_type": "markdown",
      "metadata": {
        "id": "VG21-xRe_82a"
      },
      "source": [
        "### Example of how to create and use dictionaries in Python\n"
      ]
    },
    {
      "cell_type": "code",
      "execution_count": null,
      "metadata": {
        "colab": {
          "base_uri": "https://localhost:8080/"
        },
        "id": "6QFy-jVWA3Zd",
        "outputId": "e8630cd0-4048-4baa-dc25-1dc8b2017b16"
      },
      "outputs": [
        {
          "name": "stdout",
          "output_type": "stream",
          "text": [
            "{}\n"
          ]
        },
        {
          "data": {
            "text/plain": [
              "dict"
            ]
          },
          "execution_count": 3,
          "metadata": {},
          "output_type": "execute_result"
        }
      ],
      "source": [
        "d1={}\n",
        "print(d1)\n",
        "type(d1)\n"
      ]
    },
    {
      "cell_type": "code",
      "execution_count": null,
      "metadata": {
        "colab": {
          "base_uri": "https://localhost:8080/"
        },
        "id": "IaaFWBvMBDgb",
        "outputId": "2b47da59-a092-4101-ffd0-d1cbb06cbf93"
      },
      "outputs": [
        {
          "name": "stdout",
          "output_type": "stream",
          "text": [
            "{}\n"
          ]
        }
      ],
      "source": [
        "d2=dict()\n",
        "print(d2)"
      ]
    },
    {
      "cell_type": "markdown",
      "metadata": {
        "id": "abrgI0-2BSdH"
      },
      "source": [
        "### Print entire Dictionary using print statement"
      ]
    },
    {
      "cell_type": "code",
      "execution_count": null,
      "metadata": {
        "colab": {
          "base_uri": "https://localhost:8080/"
        },
        "id": "StFvttXRBewy",
        "outputId": "4d633e67-86ce-4faf-b330-aa72bba47f49"
      },
      "outputs": [
        {
          "output_type": "stream",
          "name": "stdout",
          "text": [
            "{'fname': 'Suraj', 'dept': 'ECE'}\n"
          ]
        }
      ],
      "source": [
        "d3={'fname':'Suraj','dept':'ECE'}\n",
        "print(d3)"
      ]
    },
    {
      "cell_type": "code",
      "execution_count": null,
      "metadata": {
        "colab": {
          "base_uri": "https://localhost:8080/"
        },
        "id": "GeUx4NwrB_lE",
        "outputId": "912a6d5b-02ca-4c77-f5b6-ab8d09906ff2"
      },
      "outputs": [
        {
          "name": "stdout",
          "output_type": "stream",
          "text": [
            "{'fname': 'Suraj', 'dept': 'ECE', 'mob': 7667129416}\n"
          ]
        }
      ],
      "source": [
        "d3['mob']=7667129416\n",
        "print(d3)"
      ]
    },
    {
      "cell_type": "code",
      "execution_count": null,
      "metadata": {
        "colab": {
          "base_uri": "https://localhost:8080/"
        },
        "id": "pb090L0-CQfk",
        "outputId": "6f4ee8db-4e30-463d-a1c2-38dab4adc979"
      },
      "outputs": [
        {
          "name": "stdout",
          "output_type": "stream",
          "text": [
            "Suraj\n"
          ]
        }
      ],
      "source": [
        "print(d3['fname'])"
      ]
    },
    {
      "cell_type": "code",
      "execution_count": null,
      "metadata": {
        "colab": {
          "base_uri": "https://localhost:8080/"
        },
        "id": "ef3RDazSCwBZ",
        "outputId": "c75fc492-3e4e-46d0-bd17-a86050beaf4d"
      },
      "outputs": [
        {
          "name": "stdout",
          "output_type": "stream",
          "text": [
            "{'fname': 'Suraj', 'dept': 'ECE', 'mob': 7667129416, 123: 'ENG'}\n"
          ]
        }
      ],
      "source": [
        "d3[123]='ENG'\n",
        "print(d3)"
      ]
    },
    {
      "cell_type": "code",
      "execution_count": null,
      "metadata": {
        "colab": {
          "base_uri": "https://localhost:8080/"
        },
        "id": "NNR2StBXDDcj",
        "outputId": "167acea2-a1f5-4cbf-cbfb-13e7f0be5693"
      },
      "outputs": [
        {
          "name": "stdout",
          "output_type": "stream",
          "text": [
            "ENG\n"
          ]
        }
      ],
      "source": [
        "print(d3[123])"
      ]
    },
    {
      "cell_type": "markdown",
      "metadata": {
        "id": "K_R_xmE5DIv3"
      },
      "source": [
        "### Length of Dictionary\n"
      ]
    },
    {
      "cell_type": "code",
      "execution_count": null,
      "metadata": {
        "colab": {
          "base_uri": "https://localhost:8080/"
        },
        "id": "ofbzcpJpDQOG",
        "outputId": "1afbc902-f14b-4634-90f3-032f0bd05e21"
      },
      "outputs": [
        {
          "name": "stdout",
          "output_type": "stream",
          "text": [
            "0\n"
          ]
        }
      ],
      "source": [
        "print(len(d1))"
      ]
    },
    {
      "cell_type": "code",
      "execution_count": null,
      "metadata": {
        "colab": {
          "base_uri": "https://localhost:8080/"
        },
        "id": "QcA17PIxDTMy",
        "outputId": "9cb0e42b-4d87-49aa-b882-484098a21b23"
      },
      "outputs": [
        {
          "name": "stdout",
          "output_type": "stream",
          "text": [
            "4\n"
          ]
        }
      ],
      "source": [
        "print(len(d3))"
      ]
    },
    {
      "cell_type": "markdown",
      "metadata": {
        "id": "GfJTc5gaDZpT"
      },
      "source": [
        "### Extract Keys and Values from dictionary in python\n",
        "\n",
        "\n",
        "*   Sometimes we want to extract the keys and values of the dictionary.\n",
        "*   keys() function is used to extract the keys of a dictionary.\n",
        "*   values function is used to extract the values of the dictionary.\n",
        "\n",
        "\n"
      ]
    },
    {
      "cell_type": "code",
      "execution_count": null,
      "metadata": {
        "colab": {
          "base_uri": "https://localhost:8080/"
        },
        "id": "GxW9bu0TDsvQ",
        "outputId": "68417ba8-d1ca-4f8c-b2cf-b0a65c1f7e0b"
      },
      "outputs": [
        {
          "name": "stdout",
          "output_type": "stream",
          "text": [
            "dict_keys(['fname', 'dept', 'mob', 123])\n"
          ]
        }
      ],
      "source": [
        "#extract keys\n",
        "print(d3.keys())"
      ]
    },
    {
      "cell_type": "code",
      "execution_count": null,
      "metadata": {
        "colab": {
          "base_uri": "https://localhost:8080/"
        },
        "id": "hX8SkJerGt6M",
        "outputId": "bf109a7e-f874-44a3-eebb-784e82d0db73"
      },
      "outputs": [
        {
          "name": "stdout",
          "output_type": "stream",
          "text": [
            "['fname', 'dept', 'mob', 123]\n"
          ]
        }
      ],
      "source": [
        "l3_keys=list(d3.keys())\n",
        "print(l3_keys)"
      ]
    },
    {
      "cell_type": "code",
      "execution_count": null,
      "metadata": {
        "colab": {
          "base_uri": "https://localhost:8080/"
        },
        "id": "b9D_PZaWHUjB",
        "outputId": "b3cdbc96-2f51-46ba-a4da-05f387a7e7ab"
      },
      "outputs": [
        {
          "name": "stdout",
          "output_type": "stream",
          "text": [
            "fname\n"
          ]
        }
      ],
      "source": [
        "print(l3_keys[0])"
      ]
    },
    {
      "cell_type": "code",
      "execution_count": null,
      "metadata": {
        "colab": {
          "base_uri": "https://localhost:8080/"
        },
        "id": "lNgMR-7tD-FC",
        "outputId": "b0332d0d-4b35-406a-8da5-e351eb4e79bc"
      },
      "outputs": [
        {
          "name": "stdout",
          "output_type": "stream",
          "text": [
            "dict_values(['Suraj', 'ECE', 7667129416, 'ENG'])\n"
          ]
        }
      ],
      "source": [
        "#Extract Values\n",
        "print(d3.values())"
      ]
    },
    {
      "cell_type": "code",
      "execution_count": null,
      "metadata": {
        "colab": {
          "base_uri": "https://localhost:8080/"
        },
        "id": "DK-DwqjeHIBw",
        "outputId": "d844d6d8-218e-400a-8e73-22471e9c601b"
      },
      "outputs": [
        {
          "name": "stdout",
          "output_type": "stream",
          "text": [
            "['Suraj', 'ECE', 7667129416, 'ENG']\n"
          ]
        }
      ],
      "source": [
        "l3_values=list(d3.values())\n",
        "print(l3_values)"
      ]
    },
    {
      "cell_type": "markdown",
      "metadata": {
        "id": "n1EUvqGFE3LW"
      },
      "source": [
        "### Looping over dictionary in python\n",
        "* for loop return the keys of the dictionary in each iteration. The value present at the key position can be access using an indexing operator that is []"
      ]
    },
    {
      "cell_type": "code",
      "execution_count": null,
      "metadata": {
        "colab": {
          "base_uri": "https://localhost:8080/"
        },
        "id": "JtKsRt2OFEzv",
        "outputId": "400b6a20-affe-471c-d334-dc63b9b92045"
      },
      "outputs": [
        {
          "name": "stdout",
          "output_type": "stream",
          "text": [
            "fname\n",
            "dept\n",
            "mob\n",
            "123\n"
          ]
        }
      ],
      "source": [
        "for key in d3:\n",
        "  print(key)"
      ]
    },
    {
      "cell_type": "code",
      "execution_count": null,
      "metadata": {
        "colab": {
          "base_uri": "https://localhost:8080/"
        },
        "id": "ovwg-EFjFTTe",
        "outputId": "b35afb91-758c-4939-f709-ae2df6122350"
      },
      "outputs": [
        {
          "name": "stdout",
          "output_type": "stream",
          "text": [
            "fname --> Suraj\n",
            "dept --> ECE\n",
            "mob --> 7667129416\n",
            "123 --> ENG\n"
          ]
        }
      ],
      "source": [
        "for key in d3:\n",
        "  print(key,\"-->\" ,d3[key])"
      ]
    },
    {
      "cell_type": "markdown",
      "metadata": {
        "id": "QSuSsrd_FxJD"
      },
      "source": [
        "### in operator on dictionaries in python\n",
        "* in operator on dictionaries is used to find whether the given key is present in the dictionary or not. If the key is present, in operator return True otherwise False.\n",
        "* The in operator works on keys but not on values.\n",
        "-  If one wants to know whether the value is present in the list using in operator, first we need to get the values of the dictionary into a list. Then use in operator."
      ]
    },
    {
      "cell_type": "code",
      "execution_count": null,
      "metadata": {
        "colab": {
          "base_uri": "https://localhost:8080/"
        },
        "id": "pJd75Z_KIDKS",
        "outputId": "4632fcad-9d6f-4307-fcea-314ddde66626"
      },
      "outputs": [
        {
          "name": "stdout",
          "output_type": "stream",
          "text": [
            "{'fname': 'Suraj', 'dept': 'ECE', 'mob': 7667129416, 123: 'ENG'}\n"
          ]
        }
      ],
      "source": [
        "print(d3)"
      ]
    },
    {
      "cell_type": "code",
      "execution_count": null,
      "metadata": {
        "colab": {
          "base_uri": "https://localhost:8080/"
        },
        "id": "pEiyARA7IGsN",
        "outputId": "f8401528-a008-4c4c-f72f-31e4e8ae489e"
      },
      "outputs": [
        {
          "name": "stdout",
          "output_type": "stream",
          "text": [
            "True\n"
          ]
        }
      ],
      "source": [
        "print('fname' in d3)"
      ]
    },
    {
      "cell_type": "code",
      "execution_count": null,
      "metadata": {
        "colab": {
          "base_uri": "https://localhost:8080/"
        },
        "id": "pjtiAIrkILq3",
        "outputId": "3ae75ecf-b173-40a3-b0d6-cbc1921e486b"
      },
      "outputs": [
        {
          "name": "stdout",
          "output_type": "stream",
          "text": [
            "False\n"
          ]
        }
      ],
      "source": [
        "print('ECE' in d3)"
      ]
    },
    {
      "cell_type": "markdown",
      "metadata": {
        "id": "13O_bWDNKQYp"
      },
      "source": [
        "## Some Method in Dictionary with Examples used"
      ]
    },
    {
      "cell_type": "code",
      "execution_count": null,
      "metadata": {
        "colab": {
          "base_uri": "https://localhost:8080/"
        },
        "id": "pANTjpEQKU31",
        "outputId": "ac675373-1f2a-45e5-9527-d78e6521611b"
      },
      "outputs": [
        {
          "name": "stdout",
          "output_type": "stream",
          "text": [
            "{'masala': 'spicy', 'Ginger': 'Zesty', 'Green': 'Mint'}\n"
          ]
        }
      ],
      "source": [
        "chai_types={\"masala\": \"spicy\",\"Ginger\":\"Zesty\", \"Green\":\"Mint\"}\n",
        "print(chai_types)"
      ]
    },
    {
      "cell_type": "code",
      "execution_count": null,
      "metadata": {
        "colab": {
          "base_uri": "https://localhost:8080/",
          "height": 36
        },
        "id": "X8b_LOVnLEst",
        "outputId": "e01dba1a-0332-4ef5-a514-6051dd6fe201"
      },
      "outputs": [
        {
          "data": {
            "application/vnd.google.colaboratory.intrinsic+json": {
              "type": "string"
            },
            "text/plain": [
              "'spicy'"
            ]
          },
          "execution_count": 46,
          "metadata": {},
          "output_type": "execute_result"
        }
      ],
      "source": [
        "# Excess\n",
        "chai_types['masala']"
      ]
    },
    {
      "cell_type": "code",
      "execution_count": null,
      "metadata": {
        "colab": {
          "base_uri": "https://localhost:8080/",
          "height": 36
        },
        "id": "UE-ezPeULNeB",
        "outputId": "65a3082f-4a4b-4da3-c5b9-9a26ac13407e"
      },
      "outputs": [
        {
          "data": {
            "application/vnd.google.colaboratory.intrinsic+json": {
              "type": "string"
            },
            "text/plain": [
              "'Zesty'"
            ]
          },
          "execution_count": 48,
          "metadata": {},
          "output_type": "execute_result"
        }
      ],
      "source": [
        "# .get() method\n",
        "chai_types.get(\"Ginger\")"
      ]
    },
    {
      "cell_type": "code",
      "execution_count": null,
      "metadata": {
        "id": "v8_b9GetLbDa"
      },
      "outputs": [],
      "source": [
        "chai_types.get(\"Gingery\")"
      ]
    },
    {
      "cell_type": "code",
      "execution_count": null,
      "metadata": {
        "colab": {
          "base_uri": "https://localhost:8080/"
        },
        "id": "7hT99K8DL2Mi",
        "outputId": "bf01d960-905f-4695-d889-f1dfe0f5c02c"
      },
      "outputs": [
        {
          "name": "stdout",
          "output_type": "stream",
          "text": [
            "{'masala': 'spicy', 'Ginger': 'Zesty', 'Green': 'fresh'}\n"
          ]
        }
      ],
      "source": [
        "# change values through key\n",
        "chai_types[\"Green\"]=\"fresh\"\n",
        "print(chai_types)"
      ]
    },
    {
      "cell_type": "code",
      "execution_count": null,
      "metadata": {
        "colab": {
          "base_uri": "https://localhost:8080/"
        },
        "id": "r0_3512nMdS7",
        "outputId": "c0fd4f36-1f49-417b-a4c6-26d22a154063"
      },
      "outputs": [
        {
          "name": "stdout",
          "output_type": "stream",
          "text": [
            "{'masala': 'spicy', 'Ginger': 'Zesty', 'Green': 'fresh'}\n",
            "masala\n",
            "Ginger\n",
            "Green\n"
          ]
        }
      ],
      "source": [
        "# iteration in dictionary\n",
        "print(chai_types)\n",
        "for chai in chai_types:\n",
        "  print(chai) # only key received"
      ]
    },
    {
      "cell_type": "code",
      "execution_count": null,
      "metadata": {
        "colab": {
          "base_uri": "https://localhost:8080/"
        },
        "id": "r_iFFurOMzmz",
        "outputId": "b1f294d8-144e-4535-b7e4-dd3ade909396"
      },
      "outputs": [
        {
          "name": "stdout",
          "output_type": "stream",
          "text": [
            "masala spicy\n",
            "Ginger Zesty\n",
            "Green fresh\n"
          ]
        }
      ],
      "source": [
        "for chai in chai_types:\n",
        "  print(chai,chai_types[chai])  # key as well as values received"
      ]
    },
    {
      "cell_type": "code",
      "execution_count": null,
      "metadata": {
        "colab": {
          "base_uri": "https://localhost:8080/"
        },
        "id": "v2oaOvyWM7X0",
        "outputId": "4e2fa2d1-382b-4a03-ad9e-da5ff244d8ea"
      },
      "outputs": [
        {
          "name": "stdout",
          "output_type": "stream",
          "text": [
            "masala spicy\n",
            "Ginger Zesty\n",
            "Green fresh\n"
          ]
        }
      ],
      "source": [
        "# .items()\n",
        "for key,values in chai_types.items():\n",
        "  print(key,values)"
      ]
    },
    {
      "cell_type": "code",
      "execution_count": null,
      "metadata": {
        "colab": {
          "base_uri": "https://localhost:8080/"
        },
        "id": "AOUUCdm8Qwhs",
        "outputId": "78cf5f18-7f28-4774-a8a8-25f9e45fe728"
      },
      "outputs": [
        {
          "name": "stdout",
          "output_type": "stream",
          "text": [
            "I have masala chai\n"
          ]
        }
      ],
      "source": [
        "# in\n",
        "chai_types={'masala': 'spicy', 'Ginger': 'Zesty', 'Green': 'fresh'}\n",
        "if \"masala\" in chai_types:\n",
        "  print(\"I have masala chai\")"
      ]
    },
    {
      "cell_type": "code",
      "execution_count": null,
      "metadata": {
        "colab": {
          "base_uri": "https://localhost:8080/"
        },
        "id": "6FE-YTxARLPV",
        "outputId": "fb88805d-6c73-4f74-b217-43b04dbf7a84"
      },
      "outputs": [
        {
          "name": "stdout",
          "output_type": "stream",
          "text": [
            "3\n"
          ]
        }
      ],
      "source": [
        "#len\n",
        "print(len(chai_types))"
      ]
    },
    {
      "cell_type": "code",
      "execution_count": null,
      "metadata": {
        "colab": {
          "base_uri": "https://localhost:8080/"
        },
        "id": "6kk0CLUHRU8Z",
        "outputId": "75eebac5-c336-4565-ba31-2b6c53cdce1c"
      },
      "outputs": [
        {
          "name": "stdout",
          "output_type": "stream",
          "text": [
            "{'masala': 'spicy', 'Ginger': 'Zesty', 'Green': 'fresh'}\n",
            "{'masala': 'spicy', 'Ginger': 'Zesty', 'Green': 'fresh', 'Earl Grey': 'Citrus'}\n"
          ]
        }
      ],
      "source": [
        "#add items\n",
        "print(chai_types)\n",
        "\n",
        "chai_types['Earl Grey']=\"Citrus\"\n",
        "\n",
        "print(chai_types)"
      ]
    },
    {
      "cell_type": "code",
      "execution_count": null,
      "metadata": {
        "colab": {
          "base_uri": "https://localhost:8080/",
          "height": 36
        },
        "id": "G-OuQWSRRzH-",
        "outputId": "2086170c-8eda-4a55-f71f-db76fbfbf5b4"
      },
      "outputs": [
        {
          "data": {
            "application/vnd.google.colaboratory.intrinsic+json": {
              "type": "string"
            },
            "text/plain": [
              "'Zesty'"
            ]
          },
          "execution_count": 82,
          "metadata": {},
          "output_type": "execute_result"
        }
      ],
      "source": [
        "#.pop()- Key value mandatory for passed\n",
        "\n",
        "chai_types.pop(\"Ginger\")\n"
      ]
    },
    {
      "cell_type": "code",
      "execution_count": null,
      "metadata": {
        "colab": {
          "base_uri": "https://localhost:8080/"
        },
        "id": "TASSjgJiSAVF",
        "outputId": "2bb15176-bff8-4ea2-e745-da531139f459"
      },
      "outputs": [
        {
          "name": "stdout",
          "output_type": "stream",
          "text": [
            "{'masala': 'spicy', 'Green': 'fresh', 'Earl Grey': 'Citrus'}\n"
          ]
        }
      ],
      "source": [
        "print(chai_types)"
      ]
    },
    {
      "cell_type": "code",
      "execution_count": null,
      "metadata": {
        "colab": {
          "base_uri": "https://localhost:8080/"
        },
        "id": "GA8IN7WVkXOo",
        "outputId": "e016a59e-b24f-466f-b042-0397fa48a4ec"
      },
      "outputs": [
        {
          "name": "stdout",
          "output_type": "stream",
          "text": [
            "{'masala': 'spicy', 'Green': 'fresh'}\n"
          ]
        }
      ],
      "source": [
        "# .popitem()\n",
        "chai_types.popitem()\n",
        "print(chai_types)"
      ]
    },
    {
      "cell_type": "code",
      "execution_count": null,
      "metadata": {
        "colab": {
          "base_uri": "https://localhost:8080/"
        },
        "id": "lW_4DyKEklt4",
        "outputId": "bbb2c080-0ccb-475d-bd5e-c4587b6cdc75"
      },
      "outputs": [
        {
          "name": "stdout",
          "output_type": "stream",
          "text": [
            "{'masala': 'spicy'}\n"
          ]
        }
      ],
      "source": [
        "# del\n",
        "del chai_types[\"Green\"]\n",
        "print(chai_types)"
      ]
    },
    {
      "cell_type": "code",
      "execution_count": null,
      "metadata": {
        "colab": {
          "base_uri": "https://localhost:8080/"
        },
        "id": "SVI4tWwvkuDZ",
        "outputId": "f3a66aff-6b44-42d3-9d2d-0cd8058b0887"
      },
      "outputs": [
        {
          "name": "stdout",
          "output_type": "stream",
          "text": [
            "{'masala': 'spicy'}\n"
          ]
        }
      ],
      "source": [
        "# .copy()\n",
        "chai_types_copy=chai_types.copy()\n",
        "\n",
        "print(chai_types_copy)"
      ]
    },
    {
      "cell_type": "code",
      "execution_count": null,
      "metadata": {
        "colab": {
          "base_uri": "https://localhost:8080/"
        },
        "id": "Ij_eKyYrlAhX",
        "outputId": "79af0e9c-8a41-4ddf-db56-6e4249bb38ef"
      },
      "outputs": [
        {
          "name": "stdout",
          "output_type": "stream",
          "text": [
            "{'chai': {'Masala': 'Spicy', 'Ginger': 'zesty'}, 'Tea': {'Green': 'Mild', 'Black': 'Strong'}}\n"
          ]
        }
      ],
      "source": [
        " tea_shop={\n",
        "     \"chai\": {\"Masala\":\"Spicy\",\"Ginger\":\"zesty\"},\n",
        "     \"Tea\" :{\"Green\" :\"Mild\",\"Black\":\"Strong\"}\n",
        "     }\n",
        "print(tea_shop)\n",
        "\n"
      ]
    },
    {
      "cell_type": "code",
      "execution_count": null,
      "metadata": {
        "colab": {
          "base_uri": "https://localhost:8080/"
        },
        "id": "DkuiaGzeb7lT",
        "outputId": "c029c3e1-88ef-4aa9-dd5d-a91e2d740092"
      },
      "outputs": [
        {
          "data": {
            "text/plain": [
              "{'Masala': 'Spicy', 'Ginger': 'zesty'}"
            ]
          },
          "execution_count": 12,
          "metadata": {},
          "output_type": "execute_result"
        }
      ],
      "source": [
        "tea_shop[\"chai\"]"
      ]
    },
    {
      "cell_type": "code",
      "execution_count": null,
      "metadata": {
        "colab": {
          "base_uri": "https://localhost:8080/",
          "height": 36
        },
        "id": "QjIqi9_Fclup",
        "outputId": "460a12d8-aa02-41e1-e43b-a2792a12bbc5"
      },
      "outputs": [
        {
          "data": {
            "application/vnd.google.colaboratory.intrinsic+json": {
              "type": "string"
            },
            "text/plain": [
              "'zesty'"
            ]
          },
          "execution_count": 13,
          "metadata": {},
          "output_type": "execute_result"
        }
      ],
      "source": [
        "tea_shop[\"chai\"][\"Ginger\"]"
      ]
    },
    {
      "cell_type": "code",
      "execution_count": null,
      "metadata": {
        "colab": {
          "base_uri": "https://localhost:8080/"
        },
        "id": "r771JzuedXjh",
        "outputId": "371c10c2-66e1-4479-f96a-8cb61658f8f4"
      },
      "outputs": [
        {
          "name": "stdout",
          "output_type": "stream",
          "text": [
            "{0: 0, 1: 1, 2: 4, 3: 9, 4: 16, 5: 25}\n"
          ]
        }
      ],
      "source": [
        "squared_num={x:x**2 for x in range(6)}\n",
        "print(squared_num)"
      ]
    },
    {
      "cell_type": "code",
      "execution_count": null,
      "metadata": {
        "colab": {
          "base_uri": "https://localhost:8080/"
        },
        "id": "nrGUrtkgd_p3",
        "outputId": "7ebedaf7-0ce5-448c-9067-3a66063f5a3e"
      },
      "outputs": [
        {
          "name": "stdout",
          "output_type": "stream",
          "text": [
            "{'masala', 'Ginger', 'Lemon'}\n",
            "{'masala': 'Delicious', 'Ginger': 'Delicious', 'Lemon': 'Delicious'}\n"
          ]
        }
      ],
      "source": [
        "# fromkeys\n",
        "keys={\"masala\",\"Ginger\",\"Lemon\"}\n",
        "print(keys)\n",
        "default_value=\"Delicious\"\n",
        "new_dict=dict.fromkeys(keys,default_value)\n",
        "print(new_dict)"
      ]
    },
    {
      "cell_type": "code",
      "execution_count": null,
      "metadata": {
        "colab": {
          "base_uri": "https://localhost:8080/"
        },
        "id": "7aymUz0meltY",
        "outputId": "455f5d87-cda7-450c-dabd-a1d00d122548"
      },
      "outputs": [
        {
          "name": "stdout",
          "output_type": "stream",
          "text": [
            "{'masala': {'masala', 'Ginger', 'Lemon'}, 'Ginger': {'masala', 'Ginger', 'Lemon'}, 'Lemon': {'masala', 'Ginger', 'Lemon'}}\n"
          ]
        }
      ],
      "source": [
        "keys={\"masala\",\"Ginger\",\"Lemon\"}\n",
        "default_value=\"Delicious\"\n",
        "new_dict=dict.fromkeys(keys,keys)\n",
        "print(new_dict)"
      ]
    },
    {
      "cell_type": "markdown",
      "source": [
        "## Dict Question practice"
      ],
      "metadata": {
        "id": "jOkeZNihIaCl"
      }
    },
    {
      "cell_type": "code",
      "source": [
        "# Question 1: Create an empty dictionary.\n",
        "a={}\n",
        "print(a)\n",
        "print(type(a))"
      ],
      "metadata": {
        "colab": {
          "base_uri": "https://localhost:8080/"
        },
        "id": "iQy6sDlUIiJA",
        "outputId": "a7942e73-8599-4ed6-b731-246ac01d57f0"
      },
      "execution_count": null,
      "outputs": [
        {
          "output_type": "stream",
          "name": "stdout",
          "text": [
            "{}\n",
            "<class 'dict'>\n"
          ]
        }
      ]
    },
    {
      "cell_type": "code",
      "source": [
        "# Question 2: Create a dictionary with key-value pairs for a person's name and age.\n",
        "person={\"name\":\"suraj\",\"age\":\"25\"}\n",
        "print(person)"
      ],
      "metadata": {
        "colab": {
          "base_uri": "https://localhost:8080/"
        },
        "id": "P9sTlQpcIwnu",
        "outputId": "f6868d86-6c9a-4cc5-92f5-bea8ea76d77c"
      },
      "execution_count": null,
      "outputs": [
        {
          "output_type": "stream",
          "name": "stdout",
          "text": [
            "{'name': 'suraj', 'age': '25'}\n"
          ]
        }
      ]
    },
    {
      "cell_type": "code",
      "source": [
        "# Question 3: Access the value associated with the key \"age\" in the person dictionary.\n",
        "person={\"name\":\"suraj\",\"age\":\"25\"}\n",
        "print(person[\"age\"])"
      ],
      "metadata": {
        "colab": {
          "base_uri": "https://localhost:8080/"
        },
        "id": "Gv2WJijhJSgZ",
        "outputId": "2d76f535-8686-421c-d5c7-3f0ebcb5ccec"
      },
      "execution_count": null,
      "outputs": [
        {
          "output_type": "stream",
          "name": "stdout",
          "text": [
            "25\n"
          ]
        }
      ]
    },
    {
      "cell_type": "code",
      "source": [
        "# Question 4: Check if a key exists in the person dictionary.\n",
        "person={\"name\":\"suraj\",\"age\":\"25\"}\n",
        "person[\"mob\"]=7667129416\n",
        "print(person)\n",
        "\n",
        "if \"age\" in person:\n",
        "  print(\"exist\")\n",
        "else:\n",
        "  print(\"not exist\")"
      ],
      "metadata": {
        "colab": {
          "base_uri": "https://localhost:8080/"
        },
        "id": "ubyOASJoJtM1",
        "outputId": "2787fe43-8e1f-478b-e9f6-8722b56912cf"
      },
      "execution_count": null,
      "outputs": [
        {
          "output_type": "stream",
          "name": "stdout",
          "text": [
            "{'name': 'suraj', 'age': '25', 'mob': 7667129416}\n",
            "exist\n"
          ]
        }
      ]
    },
    {
      "cell_type": "code",
      "source": [
        "# Question 5: Add a new key-value pair \"city\" with the value \"New York\" to the person dictionary.\n",
        "person={'name': 'suraj', 'age': '25', 'mob': 7667129416}\n",
        "person[\"city\"]=\"Newyork\"\n",
        "print(person)"
      ],
      "metadata": {
        "colab": {
          "base_uri": "https://localhost:8080/"
        },
        "id": "vhBdBZUBLKch",
        "outputId": "7fe2d2fd-4c67-45fe-ebe4-fccfff87d052"
      },
      "execution_count": null,
      "outputs": [
        {
          "output_type": "stream",
          "name": "stdout",
          "text": [
            "{'name': 'suraj', 'age': '25', 'mob': 7667129416, 'city': 'Newyork'}\n"
          ]
        }
      ]
    },
    {
      "cell_type": "code",
      "source": [
        "# Question 6: Remove the key-value pair with the key \"age\" from the person dictionary.\n",
        "perosn={'name': 'suraj', 'age': '25', 'mob': 7667129416, 'city': 'Newyork'}\n",
        "person.pop(\"age\")\n",
        "print(person)"
      ],
      "metadata": {
        "colab": {
          "base_uri": "https://localhost:8080/"
        },
        "id": "we12JM7BLb01",
        "outputId": "1789b4fc-6aec-4983-cde2-55a106fcfaf6"
      },
      "execution_count": null,
      "outputs": [
        {
          "output_type": "stream",
          "name": "stdout",
          "text": [
            "{'name': 'suraj', 'mob': 7667129416, 'city': 'Newyork'}\n"
          ]
        }
      ]
    },
    {
      "cell_type": "code",
      "source": [
        "# Question 7: Iterate through the keys in the person dictionary.\n",
        "person={'name': 'suraj', 'age': '25', 'mob': 7667129416, 'city': 'Newyork'}\n",
        "\n",
        "for key in person:\n",
        "  print(key)"
      ],
      "metadata": {
        "colab": {
          "base_uri": "https://localhost:8080/"
        },
        "id": "usSyBR_oL5Dm",
        "outputId": "d87f0a6e-d660-4f15-af11-0ccb37ae2c7d"
      },
      "execution_count": null,
      "outputs": [
        {
          "output_type": "stream",
          "name": "stdout",
          "text": [
            "name\n",
            "age\n",
            "mob\n",
            "city\n"
          ]
        }
      ]
    },
    {
      "cell_type": "code",
      "source": [
        "# Question 8: Iterate through the values in the person dictionary.\n",
        "person={'name': 'suraj', 'mob': 7667129416, 'city': 'Newyork'}\n",
        "for value in person.values():\n",
        "  print(value)"
      ],
      "metadata": {
        "colab": {
          "base_uri": "https://localhost:8080/"
        },
        "id": "-86xjrhXMFfT",
        "outputId": "dfe690fe-f801-41a0-b74e-708fb2269c46"
      },
      "execution_count": null,
      "outputs": [
        {
          "output_type": "stream",
          "name": "stdout",
          "text": [
            "suraj\n",
            "7667129416\n",
            "Newyork\n"
          ]
        }
      ]
    },
    {
      "cell_type": "code",
      "source": [
        "# Question 9: Iterate through both keys and values in the person dictionary.\n",
        "perosn={'name': 'suraj', 'age': '25', 'mob': 7667129416, 'city': 'Newyork'}\n",
        "for key,values in person.items():\n",
        "  print(key,values)"
      ],
      "metadata": {
        "colab": {
          "base_uri": "https://localhost:8080/"
        },
        "id": "p4vy1lmwMuiH",
        "outputId": "d8d379d0-1b40-4ecd-c182-1a095207bef5"
      },
      "execution_count": null,
      "outputs": [
        {
          "output_type": "stream",
          "name": "stdout",
          "text": [
            "name suraj\n",
            "mob 7667129416\n",
            "city Newyork\n"
          ]
        }
      ]
    },
    {
      "cell_type": "code",
      "source": [
        "person = {'name': 'suraj', 'age': '25', 'mob': 7667129416, 'city': 'Newyork'}\n",
        "for key in person:\n",
        "    print(key, person[key])"
      ],
      "metadata": {
        "colab": {
          "base_uri": "https://localhost:8080/"
        },
        "id": "Pr4XWB9dNMtx",
        "outputId": "1335221d-dfd2-40a0-82d8-6c00cfb834eb"
      },
      "execution_count": null,
      "outputs": [
        {
          "output_type": "stream",
          "name": "stdout",
          "text": [
            "name suraj\n",
            "age 25\n",
            "mob 7667129416\n",
            "city Newyork\n"
          ]
        }
      ]
    },
    {
      "cell_type": "code",
      "source": [
        "# Question 10: Get the value associated with a key using the dict.get() method with a default value.\n",
        "person = {'name': 'suraj', 'age': 25, 'mob': 7667129416, 'city': 'Newyork'}\n",
        "#age =\n",
        "person.get(\"age\")\n",
        "#, \"Not Available\")\n",
        "print(age)\n"
      ],
      "metadata": {
        "colab": {
          "base_uri": "https://localhost:8080/"
        },
        "id": "xioqbGdMNZUN",
        "outputId": "818533b7-bf70-49b9-99ba-98e5c9471e55"
      },
      "execution_count": null,
      "outputs": [
        {
          "output_type": "stream",
          "name": "stdout",
          "text": [
            "25\n"
          ]
        }
      ]
    },
    {
      "cell_type": "code",
      "source": [
        "# Question 11: Count the number of occurrences of each character in a string using a dictionary.\n",
        "text = \"hello\"\n",
        "char_count = {}\n",
        "\n",
        "for char in text:\n",
        "    if char in char_count:\n",
        "        char_count[char] += 1\n",
        "    else:\n",
        "        char_count[char] = 1\n",
        "\n",
        "print(char_count)  # Output: {'h': 1, 'e': 1, 'l': 2, 'o': 1}\n"
      ],
      "metadata": {
        "colab": {
          "base_uri": "https://localhost:8080/"
        },
        "id": "eWHIDjMyPPwc",
        "outputId": "0b7f8a4a-4d90-4cd8-9dbc-979cd405eb5b"
      },
      "execution_count": null,
      "outputs": [
        {
          "output_type": "stream",
          "name": "stdout",
          "text": [
            "{'h': 1, 'e': 1, 'l': 2, 'o': 1}\n"
          ]
        }
      ]
    },
    {
      "cell_type": "code",
      "source": [
        "# Question 12: Merge two dictionaries.\n",
        "dict1 = {\"a\": 1, \"b\": 2}\n",
        "dict2 = {\"b\": 3, \"c\": 4}\n",
        "# merged_dict = {'a': 1, 'b': 3, 'c': 4}\n",
        "dict1.update(dict2)\n",
        "# print(dict1)\n",
        "result=dict1\n",
        "print(result)\n"
      ],
      "metadata": {
        "colab": {
          "base_uri": "https://localhost:8080/"
        },
        "id": "L7tZo2AUS9uO",
        "outputId": "6b9a6c45-6983-4165-f4d0-ce8df1736c28"
      },
      "execution_count": null,
      "outputs": [
        {
          "output_type": "stream",
          "name": "stdout",
          "text": [
            "{'a': 1, 'b': 3, 'c': 4}\n"
          ]
        }
      ]
    },
    {
      "cell_type": "code",
      "source": [
        "#Question 13: Create a dictionary where the values are squares of the keys.\n",
        "squared_num={x:x**2 for x in range(1,6)}\n",
        "print(squared_num)"
      ],
      "metadata": {
        "colab": {
          "base_uri": "https://localhost:8080/"
        },
        "id": "N_MYXHwgUjZk",
        "outputId": "79764abf-dd8f-49ae-f79a-7844d7d47954"
      },
      "execution_count": null,
      "outputs": [
        {
          "output_type": "stream",
          "name": "stdout",
          "text": [
            "{1: 1, 2: 4, 3: 9, 4: 16, 5: 25}\n"
          ]
        }
      ]
    },
    {
      "cell_type": "markdown",
      "metadata": {
        "id": "zbMwkmGtfFoK"
      },
      "source": [
        "#Tuples\n",
        "\n",
        "*   A tuple data structure in python is sequence of values simmilar to a list.\n",
        "*  The valuse stored in a tuple can be of any type(may be numeric values, characters or strings) , and they are indexed by integers.\n",
        "*  The first element is indexed at zero.\n",
        "*  The important difference between tuple and list is that tuples are immutable.\n",
        "\n",
        "\n"
      ]
    },
    {
      "cell_type": "markdown",
      "metadata": {
        "id": "oBX9Fi8Xg02y"
      },
      "source": [
        "## How to create tuple"
      ]
    },
    {
      "cell_type": "code",
      "execution_count": null,
      "metadata": {
        "colab": {
          "base_uri": "https://localhost:8080/"
        },
        "id": "LeSm1pC1g6aK",
        "outputId": "d733c465-2a74-4a70-83a0-0715f6886589"
      },
      "outputs": [
        {
          "data": {
            "text/plain": [
              "list"
            ]
          },
          "execution_count": 26,
          "metadata": {},
          "output_type": "execute_result"
        }
      ],
      "source": [
        "l=[]\n",
        "type(l)"
      ]
    },
    {
      "cell_type": "code",
      "execution_count": null,
      "metadata": {
        "colab": {
          "base_uri": "https://localhost:8080/"
        },
        "id": "3lvtGpYxhGjr",
        "outputId": "37a547e4-0bfb-4b62-989f-7384d87f7a3c"
      },
      "outputs": [
        {
          "data": {
            "text/plain": [
              "dict"
            ]
          },
          "execution_count": 28,
          "metadata": {},
          "output_type": "execute_result"
        }
      ],
      "source": [
        "d={}\n",
        "type(d)"
      ]
    },
    {
      "cell_type": "code",
      "execution_count": null,
      "metadata": {
        "colab": {
          "base_uri": "https://localhost:8080/"
        },
        "id": "uSFvmtAVhIx5",
        "outputId": "02f8c1a6-d010-4e24-ff62-785e04defce4"
      },
      "outputs": [
        {
          "data": {
            "text/plain": [
              "tuple"
            ]
          },
          "execution_count": 29,
          "metadata": {},
          "output_type": "execute_result"
        }
      ],
      "source": [
        "t1=()\n",
        "type(t1)"
      ]
    },
    {
      "cell_type": "markdown",
      "metadata": {
        "id": "7zgteRDIhQY9"
      },
      "source": [
        "## Add element in tuple"
      ]
    },
    {
      "cell_type": "code",
      "execution_count": null,
      "metadata": {
        "colab": {
          "base_uri": "https://localhost:8080/"
        },
        "id": "p2KWYr4ohUUQ",
        "outputId": "ef8bacd7-5d76-41d8-ca4b-fa5503f4c065"
      },
      "outputs": [
        {
          "output_type": "stream",
          "name": "stdout",
          "text": [
            "<class 'tuple'>\n",
            "(10, 20, 30, 40)\n"
          ]
        }
      ],
      "source": [
        "from re import T\n",
        "t2=(10,20,30,40)\n",
        "print(type(t2))\n",
        "print(t2)"
      ]
    },
    {
      "cell_type": "code",
      "execution_count": null,
      "metadata": {
        "colab": {
          "base_uri": "https://localhost:8080/"
        },
        "id": "JxR5NNzLhfT4",
        "outputId": "03f737b6-eb4c-439f-ccd4-738f04d20eba"
      },
      "outputs": [
        {
          "data": {
            "text/plain": [
              "int"
            ]
          },
          "execution_count": 32,
          "metadata": {},
          "output_type": "execute_result"
        }
      ],
      "source": [
        "t3=(10)\n",
        "type(t3)"
      ]
    },
    {
      "cell_type": "code",
      "execution_count": null,
      "metadata": {
        "colab": {
          "base_uri": "https://localhost:8080/"
        },
        "id": "IgV9-s8dhmB9",
        "outputId": "0a345362-1617-4588-abb7-84ef40008c55"
      },
      "outputs": [
        {
          "data": {
            "text/plain": [
              "str"
            ]
          },
          "execution_count": 34,
          "metadata": {},
          "output_type": "execute_result"
        }
      ],
      "source": [
        "t4=(\"HIT\")\n",
        "type(t4)"
      ]
    },
    {
      "cell_type": "code",
      "execution_count": null,
      "metadata": {
        "colab": {
          "base_uri": "https://localhost:8080/"
        },
        "id": "4aRUGwMzhra4",
        "outputId": "fd4e96eb-6ea1-45ed-b7a1-c79ff0cca7f1"
      },
      "outputs": [
        {
          "output_type": "execute_result",
          "data": {
            "text/plain": [
              "tuple"
            ]
          },
          "metadata": {},
          "execution_count": 15
        }
      ],
      "source": [
        "t5=(\"HIT\",) #if you need type of tuple then after single element put comma(,) then type is showing tuple\n",
        "type(t5)"
      ]
    },
    {
      "cell_type": "markdown",
      "metadata": {
        "id": "hkl6FgETieFl"
      },
      "source": []
    },
    {
      "cell_type": "code",
      "execution_count": null,
      "metadata": {
        "colab": {
          "base_uri": "https://localhost:8080/"
        },
        "id": "kelVPaPSiIT4",
        "outputId": "2578b27c-4310-4dd4-b061-f5e1e2704d4d"
      },
      "outputs": [
        {
          "name": "stdout",
          "output_type": "stream",
          "text": [
            "('H', 'i', 'T', ' ', 'N', 'D', 'S')\n"
          ]
        }
      ],
      "source": [
        "t6=tuple(\"HiT NDS\")\n",
        "print(t6)"
      ]
    },
    {
      "cell_type": "code",
      "execution_count": null,
      "metadata": {
        "colab": {
          "base_uri": "https://localhost:8080/"
        },
        "id": "MHHcJTpSiW88",
        "outputId": "74c065c5-d7d7-4586-8e11-94e2107c56e8"
      },
      "outputs": [
        {
          "name": "stdout",
          "output_type": "stream",
          "text": [
            "(10, 20, 30, 40)\n"
          ]
        }
      ],
      "source": [
        "t7=tuple([10,20,30,40])\n",
        "print(t7)"
      ]
    },
    {
      "cell_type": "markdown",
      "metadata": {
        "id": "MNqT_QvFikbv"
      },
      "source": [
        "## EXtract"
      ]
    },
    {
      "cell_type": "code",
      "execution_count": null,
      "metadata": {
        "colab": {
          "base_uri": "https://localhost:8080/"
        },
        "id": "z9PYAWcsio1h",
        "outputId": "fe9c0abe-b96f-4be1-e1cc-bd5f40d3b87e"
      },
      "outputs": [
        {
          "output_type": "stream",
          "name": "stdout",
          "text": [
            "10\n"
          ]
        }
      ],
      "source": [
        "t8=(10,20,30,40,50,60)\n",
        "print(t8[0])"
      ]
    },
    {
      "cell_type": "code",
      "source": [
        "print(t8[2])"
      ],
      "metadata": {
        "colab": {
          "base_uri": "https://localhost:8080/"
        },
        "id": "njLI5hVlb7_C",
        "outputId": "d72770e4-bb1e-4b32-f0d7-08cb5478ba65"
      },
      "execution_count": null,
      "outputs": [
        {
          "output_type": "stream",
          "name": "stdout",
          "text": [
            "30\n"
          ]
        }
      ]
    },
    {
      "cell_type": "code",
      "source": [
        "print(t8[-1])"
      ],
      "metadata": {
        "colab": {
          "base_uri": "https://localhost:8080/"
        },
        "id": "D_GaKocab_W_",
        "outputId": "52eed647-dfa5-444f-a9b2-0083252a8dbc"
      },
      "execution_count": null,
      "outputs": [
        {
          "output_type": "stream",
          "name": "stdout",
          "text": [
            "60\n"
          ]
        }
      ]
    },
    {
      "cell_type": "code",
      "source": [
        "print(t8[1:4])"
      ],
      "metadata": {
        "colab": {
          "base_uri": "https://localhost:8080/"
        },
        "id": "sbA2VOkXcElE",
        "outputId": "938da49a-7d91-406e-813e-4c2a71de79c9"
      },
      "execution_count": null,
      "outputs": [
        {
          "output_type": "stream",
          "name": "stdout",
          "text": [
            "(20, 30, 40)\n"
          ]
        }
      ]
    },
    {
      "cell_type": "code",
      "source": [
        "print(t8[:4])"
      ],
      "metadata": {
        "colab": {
          "base_uri": "https://localhost:8080/"
        },
        "id": "jTpq2v7CcIWt",
        "outputId": "3715f2eb-ea7a-4a6b-ff61-c7648d37280a"
      },
      "execution_count": null,
      "outputs": [
        {
          "output_type": "stream",
          "name": "stdout",
          "text": [
            "(10, 20, 30, 40)\n"
          ]
        }
      ]
    },
    {
      "cell_type": "code",
      "source": [
        "print(t8[4:])"
      ],
      "metadata": {
        "colab": {
          "base_uri": "https://localhost:8080/"
        },
        "id": "JPtUaDopcMEv",
        "outputId": "579a5315-32ae-4174-b6f1-48d2ef872537"
      },
      "execution_count": null,
      "outputs": [
        {
          "output_type": "stream",
          "name": "stdout",
          "text": [
            "(50, 60)\n"
          ]
        }
      ]
    },
    {
      "cell_type": "markdown",
      "source": [
        "## Immutable"
      ],
      "metadata": {
        "id": "ttjvYs-9cacE"
      }
    },
    {
      "cell_type": "code",
      "source": [
        "t9=(10,20,30)\n",
        "t9[1]=200\n"
      ],
      "metadata": {
        "colab": {
          "base_uri": "https://localhost:8080/",
          "height": 164
        },
        "id": "fFFIBM-wcQhy",
        "outputId": "0b300230-1a70-449b-ea26-f1b070ac0055"
      },
      "execution_count": null,
      "outputs": [
        {
          "output_type": "error",
          "ename": "TypeError",
          "evalue": "'tuple' object does not support item assignment",
          "traceback": [
            "\u001b[0;31m---------------------------------------------------------------------------\u001b[0m",
            "\u001b[0;31mTypeError\u001b[0m                                 Traceback (most recent call last)",
            "\u001b[0;32m<ipython-input-10-583f18308c9b>\u001b[0m in \u001b[0;36m<cell line: 2>\u001b[0;34m()\u001b[0m\n\u001b[1;32m      1\u001b[0m \u001b[0mt9\u001b[0m\u001b[0;34m=\u001b[0m\u001b[0;34m(\u001b[0m\u001b[0;36m10\u001b[0m\u001b[0;34m,\u001b[0m\u001b[0;36m20\u001b[0m\u001b[0;34m,\u001b[0m\u001b[0;36m30\u001b[0m\u001b[0;34m)\u001b[0m\u001b[0;34m\u001b[0m\u001b[0;34m\u001b[0m\u001b[0m\n\u001b[0;32m----> 2\u001b[0;31m \u001b[0mt9\u001b[0m\u001b[0;34m[\u001b[0m\u001b[0;36m1\u001b[0m\u001b[0;34m]\u001b[0m\u001b[0;34m=\u001b[0m\u001b[0;36m200\u001b[0m\u001b[0;34m\u001b[0m\u001b[0;34m\u001b[0m\u001b[0m\n\u001b[0m",
            "\u001b[0;31mTypeError\u001b[0m: 'tuple' object does not support item assignment"
          ]
        }
      ]
    },
    {
      "cell_type": "code",
      "source": [
        "l=[10,20,30]\n",
        "l[1]=200\n",
        "print(l)"
      ],
      "metadata": {
        "colab": {
          "base_uri": "https://localhost:8080/"
        },
        "id": "Eok1Tf3bckqv",
        "outputId": "933dcead-964f-4c25-ef8c-691de6bcf7ce"
      },
      "execution_count": null,
      "outputs": [
        {
          "output_type": "stream",
          "name": "stdout",
          "text": [
            "[10, 200, 30]\n"
          ]
        }
      ]
    },
    {
      "cell_type": "code",
      "source": [
        "# In a tuple we can assign one tuple to other tuple\n",
        "t1=(10,20,30)\n",
        "t2=(100,200,300)\n",
        "print(t1)\n",
        "print(t2)\n",
        "t1=t2\n",
        "print(t1)\n",
        "print(t2)"
      ],
      "metadata": {
        "colab": {
          "base_uri": "https://localhost:8080/"
        },
        "id": "HyCK8wG_cti_",
        "outputId": "cbb7d8f1-ffbf-4876-fe6a-b89462c3a5dd"
      },
      "execution_count": null,
      "outputs": [
        {
          "output_type": "stream",
          "name": "stdout",
          "text": [
            "(10, 20, 30)\n",
            "(100, 200, 300)\n",
            "(100, 200, 300)\n",
            "(100, 200, 300)\n"
          ]
        }
      ]
    },
    {
      "cell_type": "code",
      "source": [
        "# Compare- Element by element tuple comparision takes place.\n",
        "t1=(1,2,3)\n",
        "t2=(0,100,400)\n",
        "t1<t2"
      ],
      "metadata": {
        "colab": {
          "base_uri": "https://localhost:8080/"
        },
        "id": "oD1L0euQmliG",
        "outputId": "7bb93300-2f51-4604-ef4b-71d32deeebaf"
      },
      "execution_count": null,
      "outputs": [
        {
          "output_type": "execute_result",
          "data": {
            "text/plain": [
              "False"
            ]
          },
          "metadata": {},
          "execution_count": 3
        }
      ]
    },
    {
      "cell_type": "code",
      "source": [
        "t1>t2"
      ],
      "metadata": {
        "colab": {
          "base_uri": "https://localhost:8080/"
        },
        "id": "zqsleXAvm7-1",
        "outputId": "91f5f5a2-56e0-4259-e802-793baddea4e7"
      },
      "execution_count": null,
      "outputs": [
        {
          "output_type": "execute_result",
          "data": {
            "text/plain": [
              "True"
            ]
          },
          "metadata": {},
          "execution_count": 5
        }
      ]
    },
    {
      "cell_type": "code",
      "source": [
        "t1=(1,2,3)\n",
        "t2=(1,100,400)\n",
        "t1<t2\n"
      ],
      "metadata": {
        "colab": {
          "base_uri": "https://localhost:8080/"
        },
        "id": "bEjmHchhm_I-",
        "outputId": "bcd260e3-0f56-4d79-fcd4-36eb9a129c38"
      },
      "execution_count": null,
      "outputs": [
        {
          "output_type": "execute_result",
          "data": {
            "text/plain": [
              "True"
            ]
          },
          "metadata": {},
          "execution_count": 7
        }
      ]
    },
    {
      "cell_type": "code",
      "source": [
        "t1=('Welcome','to', 'python','programming')  # how can you assign a variable in Tuple\n",
        "w,x,y,z=t1\n",
        "print(w)\n",
        "print(x)\n",
        "print(y)\n",
        "print(z)"
      ],
      "metadata": {
        "colab": {
          "base_uri": "https://localhost:8080/"
        },
        "id": "7PaCCw6HnKKK",
        "outputId": "0e4b0573-9e1e-4263-e87b-e53f61231b97"
      },
      "execution_count": null,
      "outputs": [
        {
          "output_type": "stream",
          "name": "stdout",
          "text": [
            "Welcome\n",
            "to\n",
            "python\n",
            "programming\n"
          ]
        }
      ]
    },
    {
      "cell_type": "code",
      "source": [
        "w,x,y=t1"
      ],
      "metadata": {
        "colab": {
          "base_uri": "https://localhost:8080/",
          "height": 146
        },
        "id": "EEB2vvWen4Zf",
        "outputId": "41d30a8b-1acc-472e-e81d-8a9874d35322"
      },
      "execution_count": null,
      "outputs": [
        {
          "output_type": "error",
          "ename": "ValueError",
          "evalue": "too many values to unpack (expected 3)",
          "traceback": [
            "\u001b[0;31m---------------------------------------------------------------------------\u001b[0m",
            "\u001b[0;31mValueError\u001b[0m                                Traceback (most recent call last)",
            "\u001b[0;32m<ipython-input-10-429a4aec1b6c>\u001b[0m in \u001b[0;36m<cell line: 1>\u001b[0;34m()\u001b[0m\n\u001b[0;32m----> 1\u001b[0;31m \u001b[0mw\u001b[0m\u001b[0;34m,\u001b[0m\u001b[0mx\u001b[0m\u001b[0;34m,\u001b[0m\u001b[0my\u001b[0m\u001b[0;34m=\u001b[0m\u001b[0mt1\u001b[0m\u001b[0;34m\u001b[0m\u001b[0;34m\u001b[0m\u001b[0m\n\u001b[0m",
            "\u001b[0;31mValueError\u001b[0m: too many values to unpack (expected 3)"
          ]
        }
      ]
    },
    {
      "cell_type": "code",
      "source": [
        "d={'a':1,'b':2,\"c\":3} # how can you get key and values with loop\n",
        "t=list(d.items())\n",
        "print(t)"
      ],
      "metadata": {
        "colab": {
          "base_uri": "https://localhost:8080/"
        },
        "id": "2uZj97YSoDtN",
        "outputId": "e44a6cf3-fe11-4b57-ba8d-3ea2ce713118"
      },
      "execution_count": null,
      "outputs": [
        {
          "output_type": "stream",
          "name": "stdout",
          "text": [
            "[('a', 1), ('b', 2), ('c', 3)]\n"
          ]
        }
      ]
    },
    {
      "cell_type": "code",
      "source": [
        "d={'a':1,'b':2,\"c\":3}\n",
        "for key in d:\n",
        "  print(key,'-->',d[key])"
      ],
      "metadata": {
        "colab": {
          "base_uri": "https://localhost:8080/"
        },
        "id": "YHGkGBnpoY-Q",
        "outputId": "243482a6-8a48-4d5d-e92d-042d198e4ca8"
      },
      "execution_count": null,
      "outputs": [
        {
          "output_type": "stream",
          "name": "stdout",
          "text": [
            "a --> 1\n",
            "b --> 2\n",
            "c --> 3\n"
          ]
        }
      ]
    },
    {
      "cell_type": "code",
      "source": [
        "d={'a':1,'b':2,\"c\":3}\n",
        "for key, value in (d.items()):\n",
        "  print(key,'-->',value)"
      ],
      "metadata": {
        "colab": {
          "base_uri": "https://localhost:8080/"
        },
        "id": "cJR91NoVonsX",
        "outputId": "bf53009a-6f34-4cb1-8fdb-fe9f2767a9ff"
      },
      "execution_count": null,
      "outputs": [
        {
          "output_type": "stream",
          "name": "stdout",
          "text": [
            "a --> 1\n",
            "b --> 2\n",
            "c --> 3\n"
          ]
        }
      ]
    },
    {
      "cell_type": "markdown",
      "source": [
        "#Practice problem\n",
        "\n",
        "\n"
      ],
      "metadata": {
        "id": "hlecy82HpSnz"
      }
    },
    {
      "cell_type": "code",
      "source": [
        "#Some examples in Tuple\n",
        "tea_types=('Black','Green','Oolong')\n",
        "\n",
        "(black,green,Oolong)=tea_types\n",
        "print(green)"
      ],
      "metadata": {
        "colab": {
          "base_uri": "https://localhost:8080/"
        },
        "id": "VXeP7xoOq1tp",
        "outputId": "7189065e-9c41-4acd-d988-c3684886f7ce"
      },
      "execution_count": null,
      "outputs": [
        {
          "output_type": "stream",
          "name": "stdout",
          "text": [
            "Green\n"
          ]
        }
      ]
    },
    {
      "cell_type": "code",
      "source": [
        "# count positive number in list\n",
        "num=[1,-2,3,-4,5,6,-7,-8,9,10]\n",
        "positive=0\n",
        "for i in num:\n",
        "  if i>0:\n",
        "    positive+=1\n",
        "print(positive)"
      ],
      "metadata": {
        "colab": {
          "base_uri": "https://localhost:8080/"
        },
        "id": "Q50H1dxHbXND",
        "outputId": "4e376108-a3af-4adc-c9a5-a9d597a7ee3e"
      },
      "execution_count": null,
      "outputs": [
        {
          "output_type": "stream",
          "name": "stdout",
          "text": [
            "6\n"
          ]
        }
      ]
    },
    {
      "cell_type": "code",
      "source": [
        "n=10  # sum count\n",
        "sum=0\n",
        "for i in range(1,n+1):\n",
        "  if i%2==0:\n",
        "    sum+=1\n",
        "print(sum)"
      ],
      "metadata": {
        "colab": {
          "base_uri": "https://localhost:8080/"
        },
        "id": "0atYqZhxMRd9",
        "outputId": "61bdc103-9af4-4b69-8cbd-4ab5413f2d98"
      },
      "execution_count": null,
      "outputs": [
        {
          "output_type": "stream",
          "name": "stdout",
          "text": [
            "5\n"
          ]
        }
      ]
    },
    {
      "cell_type": "code",
      "source": [
        "n=3  # table printer\n",
        "for i in range(1,11):\n",
        "  if i==5:\n",
        "    continue\n",
        "  print(n*i)"
      ],
      "metadata": {
        "colab": {
          "base_uri": "https://localhost:8080/"
        },
        "id": "7imR3wE_c-7q",
        "outputId": "9e8ebf38-d6f2-46d0-bfe8-3b1564d69b51"
      },
      "execution_count": null,
      "outputs": [
        {
          "output_type": "stream",
          "name": "stdout",
          "text": [
            "3\n",
            "6\n",
            "9\n",
            "12\n",
            "18\n",
            "21\n",
            "24\n",
            "27\n",
            "30\n"
          ]
        }
      ]
    },
    {
      "cell_type": "code",
      "source": [
        "input=\"Python\" # reverse string\n",
        "rev=\"\"\n",
        "for i in input:\n",
        "  rev=i+rev\n",
        "  print(rev)\n",
        "print(rev)\n"
      ],
      "metadata": {
        "colab": {
          "base_uri": "https://localhost:8080/"
        },
        "id": "kE6zik9cexUb",
        "outputId": "e9efc3d7-e5bd-4f84-d66e-2c4ad1554395"
      },
      "execution_count": null,
      "outputs": [
        {
          "output_type": "stream",
          "name": "stdout",
          "text": [
            "P\n",
            "yP\n",
            "tyP\n",
            "htyP\n",
            "ohtyP\n",
            "nohtyP\n",
            "nohtyP\n"
          ]
        }
      ]
    },
    {
      "cell_type": "code",
      "source": [
        "# find the first non-repeated characters\n",
        "a=\"teeter\"\n",
        "for i in a:\n",
        "  if a.count(i)==1:\n",
        "    print(i)\n",
        "    break"
      ],
      "metadata": {
        "colab": {
          "base_uri": "https://localhost:8080/"
        },
        "id": "SNNxpm3kN2jc",
        "outputId": "50f73de8-e931-48e2-b03b-e5b83ecc3b5c"
      },
      "execution_count": null,
      "outputs": [
        {
          "output_type": "stream",
          "name": "stdout",
          "text": [
            "r\n"
          ]
        }
      ]
    },
    {
      "cell_type": "code",
      "source": [
        "# factorial\n",
        "n=5\n",
        "fact=1\n",
        "while n>0:\n",
        "  fact=fact*n\n",
        "  n=n-1\n",
        "print(fact)"
      ],
      "metadata": {
        "colab": {
          "base_uri": "https://localhost:8080/"
        },
        "id": "FQQeFH3PPixn",
        "outputId": "7a02daaa-3a64-4c90-962b-382ade9ce3f0"
      },
      "execution_count": null,
      "outputs": [
        {
          "output_type": "stream",
          "name": "stdout",
          "text": [
            "120\n"
          ]
        }
      ]
    },
    {
      "cell_type": "code",
      "source": [
        "#enter the number b/w 1 to 10\n",
        "while True:\n",
        "  n=int(input(\"Enter number b/w 1 to 10 \"))\n",
        "  if n>=1 or n<=10:\n",
        "    print(\"Thanks\")\n",
        "    break\n",
        "  else:\n",
        "    print(\"Invaild number\")\n"
      ],
      "metadata": {
        "colab": {
          "base_uri": "https://localhost:8080/",
          "height": 219
        },
        "id": "tJ6-OH7lQcon",
        "outputId": "55a40616-10f4-4a1e-d14f-5be26e1da49b"
      },
      "execution_count": null,
      "outputs": [
        {
          "output_type": "error",
          "ename": "TypeError",
          "evalue": "'str' object is not callable",
          "traceback": [
            "\u001b[0;31m---------------------------------------------------------------------------\u001b[0m",
            "\u001b[0;31mTypeError\u001b[0m                                 Traceback (most recent call last)",
            "\u001b[0;32m<ipython-input-57-72f59bd4c911>\u001b[0m in \u001b[0;36m<cell line: 2>\u001b[0;34m()\u001b[0m\n\u001b[1;32m      1\u001b[0m \u001b[0;31m#enter the number b/w 1 to 10\u001b[0m\u001b[0;34m\u001b[0m\u001b[0;34m\u001b[0m\u001b[0m\n\u001b[0;32m----> 2\u001b[0;31m \u001b[0mn\u001b[0m\u001b[0;34m=\u001b[0m\u001b[0mint\u001b[0m\u001b[0;34m(\u001b[0m\u001b[0minput\u001b[0m\u001b[0;34m(\u001b[0m\u001b[0;34m\"Enter number b/w 1 to 10 \"\u001b[0m\u001b[0;34m)\u001b[0m\u001b[0;34m)\u001b[0m\u001b[0;34m\u001b[0m\u001b[0;34m\u001b[0m\u001b[0m\n\u001b[0m\u001b[1;32m      3\u001b[0m \u001b[0;32mif\u001b[0m \u001b[0mn\u001b[0m\u001b[0;34m>=\u001b[0m\u001b[0;36m1\u001b[0m \u001b[0;32mor\u001b[0m \u001b[0mn\u001b[0m\u001b[0;34m<=\u001b[0m\u001b[0;36m10\u001b[0m\u001b[0;34m:\u001b[0m\u001b[0;34m\u001b[0m\u001b[0;34m\u001b[0m\u001b[0m\n\u001b[1;32m      4\u001b[0m   \u001b[0mprint\u001b[0m\u001b[0;34m(\u001b[0m\u001b[0;34m\"Thanks\"\u001b[0m\u001b[0;34m)\u001b[0m\u001b[0;34m\u001b[0m\u001b[0;34m\u001b[0m\u001b[0m\n\u001b[1;32m      5\u001b[0m   \u001b[0;32mbreak\u001b[0m\u001b[0;34m\u001b[0m\u001b[0;34m\u001b[0m\u001b[0m\n",
            "\u001b[0;31mTypeError\u001b[0m: 'str' object is not callable"
          ]
        }
      ]
    },
    {
      "cell_type": "code",
      "source": [
        "#prime number\n",
        "n=29\n",
        "is_prime=True\n",
        "if n>1:\n",
        "  for i in range(2,n):\n",
        "    if n%i==0:\n",
        "      is_prime=False\n",
        "      break\n",
        "  #if is_prime:\n",
        "    #print(\"Prime\")\n",
        "  #else:\n",
        "    #print(\"Not Prime\")\n",
        "print(is_prime)"
      ],
      "metadata": {
        "colab": {
          "base_uri": "https://localhost:8080/"
        },
        "id": "oyfb64pOUA-2",
        "outputId": "b50bdbb1-1f92-4a94-a7a8-544551d5321a"
      },
      "execution_count": null,
      "outputs": [
        {
          "output_type": "stream",
          "name": "stdout",
          "text": [
            "True\n"
          ]
        }
      ]
    },
    {
      "cell_type": "code",
      "source": [
        "#check if all elements in a list are unique.if a duplicate value is found, exit the loop and print the duplicate.\n",
        "items=['apple','banana','orange','apple']\n",
        "unique_item=set()\n",
        "for item in items:\n",
        "  if item in unique_item:\n",
        "    print(\"Duplicate\",item)\n",
        "    break\n",
        "  unique_item.add(item)"
      ],
      "metadata": {
        "id": "xD5-NICibFMV",
        "colab": {
          "base_uri": "https://localhost:8080/"
        },
        "outputId": "f0b4c46b-feb4-4426-9139-02736b17a874"
      },
      "execution_count": null,
      "outputs": [
        {
          "output_type": "stream",
          "name": "stdout",
          "text": [
            "Duplicate apple\n"
          ]
        }
      ]
    },
    {
      "cell_type": "markdown",
      "source": [
        "# Functions\n",
        "1.Definition\n",
        "\n",
        "2.Use\n",
        "![image.png](data:image/png;base64,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)\n",
        "\n"
      ],
      "metadata": {
        "id": "hofMUtpUWOx7"
      }
    },
    {
      "cell_type": "code",
      "source": [
        "# Basic Function Syntax\n",
        "## WAF to calculate and return the square of a number.\n",
        "\n",
        "def square(number):\n",
        "  print(number **2)\n",
        "\n",
        "result=square(4)\n",
        "print(result)\n"
      ],
      "metadata": {
        "colab": {
          "base_uri": "https://localhost:8080/"
        },
        "id": "U6BFcuDUWyMX",
        "outputId": "f9e9c68d-ce93-4dfc-f967-87ab1af8e9df"
      },
      "execution_count": null,
      "outputs": [
        {
          "output_type": "stream",
          "name": "stdout",
          "text": [
            "16\n",
            "None\n"
          ]
        }
      ]
    },
    {
      "cell_type": "code",
      "source": [
        "def square(number):\n",
        "  return number **2\n",
        "\n",
        "#result=square(4)\n",
        "print(square(4))"
      ],
      "metadata": {
        "colab": {
          "base_uri": "https://localhost:8080/"
        },
        "id": "VxL0PDLUYfL6",
        "outputId": "2263fc83-1135-409b-d392-732ff923e6e7"
      },
      "execution_count": null,
      "outputs": [
        {
          "output_type": "stream",
          "name": "stdout",
          "text": [
            "16\n"
          ]
        }
      ]
    },
    {
      "cell_type": "code",
      "source": [
        "# function with multiple parameters\n",
        "## Create a function that takes two number as parameter and return their sum\n",
        "def sum(a,b):\n",
        "  return a+b\n",
        "\n",
        "\n",
        "print(sum(4,3))"
      ],
      "metadata": {
        "colab": {
          "base_uri": "https://localhost:8080/"
        },
        "id": "PwcA6Zv6YJWl",
        "outputId": "4b93b789-4101-4c91-b671-c7f09c5c60cc"
      },
      "execution_count": null,
      "outputs": [
        {
          "output_type": "stream",
          "name": "stdout",
          "text": [
            "7\n"
          ]
        }
      ]
    },
    {
      "cell_type": "code",
      "source": [
        "#Polymorphism in function\n",
        "## WAF multiply that multiple two numbers,but can also accept and multiply strings.\n",
        "\n",
        "def multiply(p1,p2):\n",
        "  return p1*p2\n",
        "\n",
        "print(multiply(8,5))\n",
        "print(multiply('a',5))\n",
        "print(multiply(5,'a'))\n"
      ],
      "metadata": {
        "colab": {
          "base_uri": "https://localhost:8080/"
        },
        "id": "1uosnS7UZl8d",
        "outputId": "79301126-1411-48e6-a2ac-5df0530efbb2"
      },
      "execution_count": null,
      "outputs": [
        {
          "output_type": "stream",
          "name": "stdout",
          "text": [
            "40\n",
            "aaaaa\n",
            "aaaaa\n"
          ]
        }
      ]
    },
    {
      "cell_type": "code",
      "source": [
        "# Function returning multiple values\n",
        "## Create a function that returns both the area and circumference of a circle given its radius\n",
        "import math\n",
        "def circle(radius):\n",
        "  area=3.14*radius**2   ## math.pi * radius\n",
        "  circum= 2 * math.pi * radius\n",
        "  return area, circum\n",
        "\n",
        "\n",
        "a,c=circle(3)\n",
        "\n",
        "print(\"area: \", a, \"circum: \", c)\n",
        "print(\"area\",round(a))\n",
        "print(\"circum\",round(c))"
      ],
      "metadata": {
        "colab": {
          "base_uri": "https://localhost:8080/"
        },
        "id": "GL2E_XjybENK",
        "outputId": "595510e8-7c7c-4262-ebe4-e6d7a1873ccc"
      },
      "execution_count": null,
      "outputs": [
        {
          "output_type": "stream",
          "name": "stdout",
          "text": [
            "area:  28.26 circum:  18.84955592153876\n",
            "area 28\n",
            "circum 19\n"
          ]
        }
      ]
    },
    {
      "cell_type": "code",
      "source": [
        "# Default parameter value\n",
        "## WAF that greets a user.if no name is provided,it should greet with a default name\n",
        "\n",
        "def greets(name= \"User\"):\n",
        "  return \"hello, \" + name +\"!\"\n",
        "\n",
        "print(greets(\"chai\"))\n",
        "print(greets())\n"
      ],
      "metadata": {
        "colab": {
          "base_uri": "https://localhost:8080/"
        },
        "id": "xPt6VXOpbJ_S",
        "outputId": "685e56f8-7355-498c-adca-3dbb95181f6b"
      },
      "execution_count": null,
      "outputs": [
        {
          "output_type": "stream",
          "name": "stdout",
          "text": [
            "hello, chai!\n",
            "hello, User!\n"
          ]
        }
      ]
    },
    {
      "cell_type": "code",
      "source": [
        " # Lambda Function\n",
        "\n",
        "#fun definition\n",
        "def add(a,b):\n",
        "  return a+b\n",
        "\n",
        "# fun call\n",
        "result=add(1,4)\n",
        "print(result)\n"
      ],
      "metadata": {
        "id": "goIpGVzVf0zM",
        "colab": {
          "base_uri": "https://localhost:8080/"
        },
        "outputId": "22696e13-e096-4191-fe2c-c43c5dc04682"
      },
      "execution_count": null,
      "outputs": [
        {
          "output_type": "stream",
          "name": "stdout",
          "text": [
            "5\n"
          ]
        }
      ]
    },
    {
      "cell_type": "code",
      "source": [
        "## Create a lambda function to compute the cube of a number using lambda function\n",
        "cube= lambda x: x**3\n",
        "print(cube(4))\n"
      ],
      "metadata": {
        "colab": {
          "base_uri": "https://localhost:8080/"
        },
        "id": "IFUuBQCRJDXE",
        "outputId": "a1788029-309e-4866-a706-a0053882883d"
      },
      "execution_count": null,
      "outputs": [
        {
          "output_type": "stream",
          "name": "stdout",
          "text": [
            "64\n"
          ]
        }
      ]
    },
    {
      "cell_type": "code",
      "source": [
        "sum=lambda x,y: x+y\n",
        "print(sum(4,5))"
      ],
      "metadata": {
        "colab": {
          "base_uri": "https://localhost:8080/"
        },
        "id": "XByEXpmIJ7QQ",
        "outputId": "173a0708-6a0c-46c3-c86d-67e2f06edde0"
      },
      "execution_count": null,
      "outputs": [
        {
          "output_type": "stream",
          "name": "stdout",
          "text": [
            "9\n"
          ]
        }
      ]
    },
    {
      "cell_type": "code",
      "source": [
        "# Function with *args: multiple argument possiblity comes\n",
        "## WAF that takes variable number of arguments and return their sum\n",
        "\n",
        "def sum_all(*args):\n",
        "  return sum(args)   # because sum is python in built function in this code sum is two times used means overbidden\n",
        "\n",
        "print(sum_all(1,2,3))\n",
        "print(sum_all(1,2,3,4,5))\n",
        "print(sum_all(1,2,3,9,0,3,4))\n"
      ],
      "metadata": {
        "id": "XzYnTWvrKZA9"
      },
      "execution_count": null,
      "outputs": []
    },
    {
      "cell_type": "markdown",
      "source": [
        "![image.png](data:image/png;base64,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)"
      ],
      "metadata": {
        "id": "kFLl_zfwNhgr"
      }
    },
    {
      "cell_type": "code",
      "source": [
        "import builtins\n",
        "sum = builtins.sum\n",
        "def sum_all(*args):\n",
        "  return sum(args)\n",
        "\n",
        "print(sum_all(1,2,3))\n",
        "print(sum_all(1,2,3,4,5))\n",
        "print(sum_all(1,2,3,9,0,3,4))"
      ],
      "metadata": {
        "colab": {
          "base_uri": "https://localhost:8080/"
        },
        "id": "QhQ97gFyNle8",
        "outputId": "682d1266-cc8c-431b-8d93-3e16c16410e5"
      },
      "execution_count": null,
      "outputs": [
        {
          "output_type": "stream",
          "name": "stdout",
          "text": [
            "6\n",
            "15\n",
            "22\n"
          ]
        }
      ]
    },
    {
      "cell_type": "code",
      "source": [
        "def add_all(*args):\n",
        "  return sum(args)\n",
        "\n",
        "print(add_all(1,2,3))\n",
        "print(add_all(1,2,3,4,5))\n",
        "print(add_all(1,2,3,9,0,3,4))"
      ],
      "metadata": {
        "colab": {
          "base_uri": "https://localhost:8080/"
        },
        "id": "ua8KK5TPOboW",
        "outputId": "526967b1-d0bc-43a2-f894-190558673f4d"
      },
      "execution_count": null,
      "outputs": [
        {
          "output_type": "stream",
          "name": "stdout",
          "text": [
            "6\n",
            "15\n",
            "22\n"
          ]
        }
      ]
    },
    {
      "cell_type": "code",
      "source": [
        "def add_all(*chai):\n",
        "  return sum(chai)\n",
        "\n",
        "print(add_all(1,2,3))\n",
        "print(add_all(1,2,3,4,5))\n",
        "print(add_all(1,2,3,9,0,3,4))"
      ],
      "metadata": {
        "colab": {
          "base_uri": "https://localhost:8080/"
        },
        "id": "QYs9Rr6gPV9c",
        "outputId": "495090a7-6198-40fe-f26e-d56210c8d64f"
      },
      "execution_count": null,
      "outputs": [
        {
          "output_type": "stream",
          "name": "stdout",
          "text": [
            "6\n",
            "15\n",
            "22\n"
          ]
        }
      ]
    },
    {
      "cell_type": "code",
      "source": [
        "def add_all(*args):\n",
        "  #print(*args)\n",
        "  print(args)  # Tuple\n",
        "  for i in args:\n",
        "    print(i*2)\n",
        "  return sum(args)\n",
        "\n",
        "print(add_all(1,2,3))\n",
        "#print(add_all(1,2,3,4,5))\n",
        "#print(add_all(1,2,3,9,0,3,4))"
      ],
      "metadata": {
        "colab": {
          "base_uri": "https://localhost:8080/"
        },
        "id": "959nDYswPcKs",
        "outputId": "616538b2-0289-44da-9126-5e57495114a7"
      },
      "execution_count": null,
      "outputs": [
        {
          "output_type": "stream",
          "name": "stdout",
          "text": [
            "(1, 2, 3)\n",
            "2\n",
            "4\n",
            "6\n",
            "6\n"
          ]
        }
      ]
    },
    {
      "cell_type": "code",
      "source": [
        "# Function with **kwargs: keywords arguments\n",
        "\n",
        "## CAF that accepts any number of keyword arguments and points them in the format key:value.\n",
        "def print_kwargs(name,power):\n",
        "  print(\"Name\",name,\"power\",power)\n",
        "\n",
        "print_kwargs(name=\"shaktiman\",power=\"lazer\")\n",
        "print_kwargs(name=\"shaktiman\")\n",
        "print_kwargs(power=\"lazer\")\n",
        "print_kwargs(power=\"lazer\",name=\"shaktiman\",enemy=\"Dr.jacklal\")\n"
      ],
      "metadata": {
        "id": "a2fCraGrQSCY",
        "colab": {
          "base_uri": "https://localhost:8080/",
          "height": 237
        },
        "outputId": "7487bc95-c828-47e5-ab12-5d05080196c5"
      },
      "execution_count": null,
      "outputs": [
        {
          "output_type": "stream",
          "name": "stdout",
          "text": [
            "Name shaktiman power lazer\n"
          ]
        },
        {
          "output_type": "error",
          "ename": "TypeError",
          "evalue": "print_kwargs() missing 1 required positional argument: 'power'",
          "traceback": [
            "\u001b[0;31m---------------------------------------------------------------------------\u001b[0m",
            "\u001b[0;31mTypeError\u001b[0m                                 Traceback (most recent call last)",
            "\u001b[0;32m<ipython-input-6-c3d94069a62e>\u001b[0m in \u001b[0;36m<cell line: 8>\u001b[0;34m()\u001b[0m\n\u001b[1;32m      6\u001b[0m \u001b[0;34m\u001b[0m\u001b[0m\n\u001b[1;32m      7\u001b[0m \u001b[0mprint_kwargs\u001b[0m\u001b[0;34m(\u001b[0m\u001b[0mname\u001b[0m\u001b[0;34m=\u001b[0m\u001b[0;34m\"shaktiman\"\u001b[0m\u001b[0;34m,\u001b[0m\u001b[0mpower\u001b[0m\u001b[0;34m=\u001b[0m\u001b[0;34m\"lazer\"\u001b[0m\u001b[0;34m)\u001b[0m\u001b[0;34m\u001b[0m\u001b[0;34m\u001b[0m\u001b[0m\n\u001b[0;32m----> 8\u001b[0;31m \u001b[0mprint_kwargs\u001b[0m\u001b[0;34m(\u001b[0m\u001b[0mname\u001b[0m\u001b[0;34m=\u001b[0m\u001b[0;34m\"shaktiman\"\u001b[0m\u001b[0;34m)\u001b[0m\u001b[0;34m\u001b[0m\u001b[0;34m\u001b[0m\u001b[0m\n\u001b[0m\u001b[1;32m      9\u001b[0m \u001b[0mprint_kwargs\u001b[0m\u001b[0;34m(\u001b[0m\u001b[0mpower\u001b[0m\u001b[0;34m=\u001b[0m\u001b[0;34m\"lazer\"\u001b[0m\u001b[0;34m)\u001b[0m\u001b[0;34m\u001b[0m\u001b[0;34m\u001b[0m\u001b[0m\n\u001b[1;32m     10\u001b[0m \u001b[0mprint_kwargs\u001b[0m\u001b[0;34m(\u001b[0m\u001b[0mpower\u001b[0m\u001b[0;34m=\u001b[0m\u001b[0;34m\"lazer\"\u001b[0m\u001b[0;34m,\u001b[0m\u001b[0mname\u001b[0m\u001b[0;34m=\u001b[0m\u001b[0;34m\"shaktiman\"\u001b[0m\u001b[0;34m,\u001b[0m\u001b[0menemy\u001b[0m\u001b[0;34m=\u001b[0m\u001b[0;34m\"Dr.jacklal\"\u001b[0m\u001b[0;34m)\u001b[0m\u001b[0;34m\u001b[0m\u001b[0;34m\u001b[0m\u001b[0m\n",
            "\u001b[0;31mTypeError\u001b[0m: print_kwargs() missing 1 required positional argument: 'power'"
          ]
        }
      ]
    },
    {
      "cell_type": "code",
      "source": [
        "def print_kwargs(**kwargs):\n",
        "  for key, value in kwargs.items():\n",
        "    print(f\"{key}:{value}\")\n",
        "\n",
        "print_kwargs(name=\"shaktiman\",power=\"lazer\")\n",
        "print_kwargs(name=\"shaktiman\")\n",
        "print_kwargs(power=\"lazer\")\n",
        "print_kwargs(power=\"lazer\",name=\"shaktiman\",enemy=\"Dr.jacklal\")"
      ],
      "metadata": {
        "id": "10um_o0sQcEi",
        "colab": {
          "base_uri": "https://localhost:8080/"
        },
        "outputId": "b7bab923-5a1e-4a1e-a10b-cd4beb5633de"
      },
      "execution_count": null,
      "outputs": [
        {
          "output_type": "stream",
          "name": "stdout",
          "text": [
            "name:shaktiman\n",
            "power:lazer\n",
            "name:shaktiman\n",
            "power:lazer\n",
            "power:lazer\n",
            "name:shaktiman\n",
            "enemy:Dr.jacklal\n"
          ]
        }
      ]
    },
    {
      "cell_type": "code",
      "source": [
        "\n",
        "# Generator function with yield\n",
        "## Write a generator function that yields even number up to specified limit\n",
        "\n",
        "def even_num(limit):\n",
        "  for i in range(2,limit+1,2):\n",
        "    return i\n",
        "\n",
        "print(even_num(10))\n",
        "\n",
        "\n"
      ],
      "metadata": {
        "colab": {
          "base_uri": "https://localhost:8080/"
        },
        "id": "nOhtM1qsEHtn",
        "outputId": "fbe04999-eae5-487f-bcee-6daa5cbd0e60"
      },
      "execution_count": null,
      "outputs": [
        {
          "output_type": "stream",
          "name": "stdout",
          "text": [
            "2\n"
          ]
        }
      ]
    },
    {
      "cell_type": "code",
      "source": [
        "def even_num(limit):\n",
        "  for i in range(2,limit+1,2):\n",
        "    yield i\n",
        "\n",
        "for num in even_num(10):\n",
        "  print(num)\n"
      ],
      "metadata": {
        "colab": {
          "base_uri": "https://localhost:8080/"
        },
        "id": "gf-Pb9LgEi5_",
        "outputId": "cd1cd902-c350-4719-ef75-a04a9e6b4861"
      },
      "execution_count": null,
      "outputs": [
        {
          "output_type": "stream",
          "name": "stdout",
          "text": [
            "2\n",
            "4\n",
            "6\n",
            "8\n",
            "10\n"
          ]
        }
      ]
    },
    {
      "cell_type": "code",
      "source": [
        "# Recursive function\n",
        "## Create a recursive function to calculate the factorial of a number\n",
        "def factorial(n):\n",
        "  if n==0:\n",
        "    return 1\n",
        "  else:\n",
        "    return n* factorial(n-1)\n",
        "\n",
        "print(factorial(5))"
      ],
      "metadata": {
        "colab": {
          "base_uri": "https://localhost:8080/"
        },
        "id": "zsr-Q8S5GxdN",
        "outputId": "8e8026dc-7f19-4c78-e6d2-d8d45ab272f5"
      },
      "execution_count": null,
      "outputs": [
        {
          "output_type": "stream",
          "name": "stdout",
          "text": [
            "120\n"
          ]
        }
      ]
    },
    {
      "cell_type": "markdown",
      "source": [
        "##Practice Function"
      ],
      "metadata": {
        "id": "F_qK9YdTJYhg"
      }
    },
    {
      "cell_type": "code",
      "source": [
        "#Print numbers from 1 to 10 using a function\n",
        "def num(n):\n",
        "  for i in range(1,n+1):\n",
        "    print(i)\n",
        "\n",
        "n=10\n",
        "result=num(n)\n",
        "print(result)"
      ],
      "metadata": {
        "id": "sP-y94AzJcQi",
        "colab": {
          "base_uri": "https://localhost:8080/"
        },
        "outputId": "c3eb88a3-d1b6-44c1-9c01-2d244b0c8c67"
      },
      "execution_count": null,
      "outputs": [
        {
          "output_type": "stream",
          "name": "stdout",
          "text": [
            "1\n",
            "2\n",
            "3\n",
            "4\n",
            "5\n",
            "6\n",
            "7\n",
            "8\n",
            "9\n",
            "10\n",
            "None\n"
          ]
        }
      ]
    },
    {
      "cell_type": "code",
      "source": [
        "def num(n):\n",
        "  for i in range(1,n+1):\n",
        "    print(i)\n",
        "\n",
        "n=10\n",
        "num(n)"
      ],
      "metadata": {
        "colab": {
          "base_uri": "https://localhost:8080/"
        },
        "id": "aS6idgmgX5X2",
        "outputId": "9f3058ea-2081-4a3c-8823-3b10c94f5585"
      },
      "execution_count": null,
      "outputs": [
        {
          "output_type": "stream",
          "name": "stdout",
          "text": [
            "1\n",
            "2\n",
            "3\n",
            "4\n",
            "5\n",
            "6\n",
            "7\n",
            "8\n",
            "9\n",
            "10\n"
          ]
        }
      ]
    },
    {
      "cell_type": "code",
      "source": [
        "def num(n):\n",
        "    for i in range(1, n+1):\n",
        "        print(i)\n",
        "    return \"\"\n",
        "      # Return an empty string instead of None\n",
        "\n",
        "n = 10\n",
        "print(num(n))\n"
      ],
      "metadata": {
        "colab": {
          "base_uri": "https://localhost:8080/"
        },
        "id": "tzkny5BJYEpw",
        "outputId": "f0b50fa4-ed01-4a31-8c11-b90a9fca0d57"
      },
      "execution_count": null,
      "outputs": [
        {
          "output_type": "stream",
          "name": "stdout",
          "text": [
            "1\n",
            "2\n",
            "3\n",
            "4\n",
            "5\n",
            "6\n",
            "7\n",
            "8\n",
            "9\n",
            "10\n",
            "\n"
          ]
        }
      ]
    },
    {
      "cell_type": "code",
      "source": [
        "def num(n):\n",
        "    result = \"\"\n",
        "    for i in range(1, n+1):\n",
        "        result += str(i) + \"\\n\"  # Create a string with numbers\n",
        "    return result\n",
        "\n",
        "n = 10\n",
        "print(num(n))  # Now print the returned string\n"
      ],
      "metadata": {
        "colab": {
          "base_uri": "https://localhost:8080/"
        },
        "id": "WZsGg3yfFSeF",
        "outputId": "66a89e1b-e7f9-479b-de17-4a1c4c77658a"
      },
      "execution_count": null,
      "outputs": [
        {
          "output_type": "stream",
          "name": "stdout",
          "text": [
            "1\n",
            "2\n",
            "3\n",
            "4\n",
            "5\n",
            "6\n",
            "7\n",
            "8\n",
            "9\n",
            "10\n",
            "\n"
          ]
        }
      ]
    },
    {
      "cell_type": "code",
      "source": [
        "#Print sum of the elements of a list using a function\n",
        "\n",
        "def li(my_list):\n",
        "  add=0\n",
        "  for i in my_list:\n",
        "    add=add+i\n",
        "  print(add)\n",
        "\n",
        "\n",
        "\n",
        "my_list = [1, 8, 2, 3, 4, 5]\n",
        "li(my_list)\n"
      ],
      "metadata": {
        "colab": {
          "base_uri": "https://localhost:8080/"
        },
        "id": "luo2icrLY4Hp",
        "outputId": "ddf144e6-e99c-4e1f-c350-a1119cbfef15"
      },
      "execution_count": null,
      "outputs": [
        {
          "output_type": "stream",
          "name": "stdout",
          "text": [
            "23\n"
          ]
        }
      ]
    },
    {
      "cell_type": "code",
      "source": [
        "# Calculate the product of elements in a list using a for loop\n",
        "def mul_num(my_list):\n",
        "  fact=1\n",
        "  for i in my_list:\n",
        "    fact=fact*i\n",
        "  print(fact)\n",
        "\n",
        "my_list = [ 2, 3, 4, 5]\n",
        "mul_num(my_list)"
      ],
      "metadata": {
        "colab": {
          "base_uri": "https://localhost:8080/"
        },
        "id": "mI3zyGuZbA4p",
        "outputId": "bfb432a7-93d2-42e6-ec90-58b47b9f850d"
      },
      "execution_count": null,
      "outputs": [
        {
          "output_type": "stream",
          "name": "stdout",
          "text": [
            "120\n"
          ]
        }
      ]
    },
    {
      "cell_type": "code",
      "source": [
        "# Print even numbers from 1 to 20 using a for loop\n",
        "def even_num(n):\n",
        "    for i in range(1,21):\n",
        "        if i%2==0:\n",
        "            yield i\n",
        "\n",
        "\n",
        "n=21\n",
        "for num in even_num(n):\n",
        "    print(num)\n"
      ],
      "metadata": {
        "colab": {
          "base_uri": "https://localhost:8080/"
        },
        "id": "KeSxuGGAbqgU",
        "outputId": "799f219b-e616-4d97-839d-55adfc14c61f"
      },
      "execution_count": null,
      "outputs": [
        {
          "output_type": "stream",
          "name": "stdout",
          "text": [
            "2\n",
            "4\n",
            "6\n",
            "8\n",
            "10\n",
            "12\n",
            "14\n",
            "16\n",
            "18\n",
            "20\n"
          ]
        }
      ]
    },
    {
      "cell_type": "code",
      "source": [
        "def even_num(n):\n",
        "  for i in range(1,21):\n",
        "    if i%2==0:\n",
        "      print(i)\n",
        "\n",
        "n=21\n",
        "even_num(n)"
      ],
      "metadata": {
        "colab": {
          "base_uri": "https://localhost:8080/"
        },
        "id": "tQmuKTrtgT5s",
        "outputId": "6ee435d6-a313-4fd8-9016-748dc4564168"
      },
      "execution_count": null,
      "outputs": [
        {
          "output_type": "stream",
          "name": "stdout",
          "text": [
            "2\n",
            "4\n",
            "6\n",
            "8\n",
            "10\n",
            "12\n",
            "14\n",
            "16\n",
            "18\n",
            "20\n"
          ]
        }
      ]
    },
    {
      "cell_type": "code",
      "source": [
        "def even_num(n):\n",
        "    num=[]\n",
        "    for i in range(1,21):\n",
        "        if i%2==0:\n",
        "            num.append(i)\n",
        "    return num\n",
        "\n",
        "n=21\n",
        "for num in even_num(n):\n",
        "  print(num)\n"
      ],
      "metadata": {
        "colab": {
          "base_uri": "https://localhost:8080/"
        },
        "id": "15K4IHUafs6R",
        "outputId": "0c82bb78-eef6-4802-8f60-51c63baf1be6"
      },
      "execution_count": null,
      "outputs": [
        {
          "output_type": "stream",
          "name": "stdout",
          "text": [
            "2\n",
            "4\n",
            "6\n",
            "8\n",
            "10\n",
            "12\n",
            "14\n",
            "16\n",
            "18\n",
            "20\n"
          ]
        }
      ]
    },
    {
      "cell_type": "code",
      "source": [
        "# Print numbers in reverse from 10 to 1 using a function\n",
        "def rev_num(n):\n",
        "  for i in range(10,0,-1):\n",
        "    print(i)\n",
        "\n",
        "\n",
        "n=10\n",
        "rev_num(n)"
      ],
      "metadata": {
        "id": "Pmg8qGhRgnVH",
        "colab": {
          "base_uri": "https://localhost:8080/"
        },
        "outputId": "b081da3f-0322-4ec0-ee56-f6574a61ac92"
      },
      "execution_count": null,
      "outputs": [
        {
          "output_type": "stream",
          "name": "stdout",
          "text": [
            "10\n",
            "9\n",
            "8\n",
            "7\n",
            "6\n",
            "5\n",
            "4\n",
            "3\n",
            "2\n",
            "1\n"
          ]
        }
      ]
    },
    {
      "cell_type": "code",
      "source": [
        "def rev_num(n):\n",
        "  while n>0:\n",
        "    print(n)\n",
        "    n-=1\n",
        "\n",
        "\n",
        "n=10\n",
        "rev_num(n)"
      ],
      "metadata": {
        "colab": {
          "base_uri": "https://localhost:8080/"
        },
        "id": "NuvUD0sKI9ug",
        "outputId": "bfce53fe-c3fd-4497-c9a4-0d46dbf6a183"
      },
      "execution_count": null,
      "outputs": [
        {
          "output_type": "stream",
          "name": "stdout",
          "text": [
            "10\n",
            "9\n",
            "8\n",
            "7\n",
            "6\n",
            "5\n",
            "4\n",
            "3\n",
            "2\n",
            "1\n"
          ]
        }
      ]
    },
    {
      "cell_type": "code",
      "source": [
        "# Print characters of a string using a for loop function used\n",
        "def charac(S):\n",
        "  for i in S:\n",
        "    print(i,end=\" \")\n",
        "\n",
        "\n",
        "\n",
        "S='HELLO'\n",
        "charac(S)"
      ],
      "metadata": {
        "colab": {
          "base_uri": "https://localhost:8080/"
        },
        "id": "uctalLwYHG9M",
        "outputId": "fb2615fb-431e-4c04-b37b-5079b48fd7fa"
      },
      "execution_count": null,
      "outputs": [
        {
          "output_type": "stream",
          "name": "stdout",
          "text": [
            "H E L L O "
          ]
        }
      ]
    },
    {
      "cell_type": "code",
      "source": [
        "# Find the largest number in a list using a for loop\n",
        "def li(my_list):\n",
        "  a=my_list[0]\n",
        "  for i in my_list:\n",
        "    if i>a:\n",
        "      a=i\n",
        "  print(a)\n",
        "\n",
        "\n",
        "my_list = [1, 8, 2, 3, 4, 5]\n",
        "li(my_list)"
      ],
      "metadata": {
        "colab": {
          "base_uri": "https://localhost:8080/"
        },
        "id": "2hTll3AyJao3",
        "outputId": "185d3a5d-6d43-4424-a366-2b9a52a8ac56"
      },
      "execution_count": null,
      "outputs": [
        {
          "output_type": "stream",
          "name": "stdout",
          "text": [
            "8\n"
          ]
        }
      ]
    },
    {
      "cell_type": "code",
      "source": [
        "# Find the average of numbers in a list using a for loop\n",
        "def add(my_list):\n",
        "  sum=0\n",
        "  for i in my_list:\n",
        "    sum+=i\n",
        "  print(sum)\n",
        "\n",
        "my_list = [4, 7, 9, 2, 5]\n",
        "add(my_list)"
      ],
      "metadata": {
        "colab": {
          "base_uri": "https://localhost:8080/"
        },
        "id": "DtEDD2ScLCbm",
        "outputId": "a642390c-5ea6-4302-9e23-1f8907bb346b"
      },
      "execution_count": null,
      "outputs": [
        {
          "output_type": "stream",
          "name": "stdout",
          "text": [
            "27\n"
          ]
        }
      ]
    },
    {
      "cell_type": "code",
      "source": [
        "#Count the number of vowels in a string using a for loop\n",
        "def vowel(my_string):\n",
        "  a=['a','e','i','o','u','A','E','I','O','U']\n",
        "  count=0\n",
        "  for i in my_string:\n",
        "    if i in a:\n",
        "      count+=1\n",
        "  print(f\"count of vowel: {count}\")\n",
        "\n",
        "my_string = \"Hello World\"\n",
        "vowel(my_string)"
      ],
      "metadata": {
        "colab": {
          "base_uri": "https://localhost:8080/"
        },
        "id": "azbDMw2vLoMa",
        "outputId": "015dc0a5-bda4-43a6-f182-eada1f211e5f"
      },
      "execution_count": null,
      "outputs": [
        {
          "output_type": "stream",
          "name": "stdout",
          "text": [
            "count of vowel: 3\n"
          ]
        }
      ]
    },
    {
      "cell_type": "code",
      "source": [
        "def vowel(my_string):\n",
        "  count=0\n",
        "\n",
        "  for i in my_string:\n",
        "    if i in 'aeiouAEIOU':\n",
        "      count+=1\n",
        "  print(f\"number of vowel: {count}\")\n",
        "\n",
        "\n",
        "my_string = \"Hello World\"\n",
        "vowel(my_string)"
      ],
      "metadata": {
        "colab": {
          "base_uri": "https://localhost:8080/"
        },
        "id": "z1TNIc57O6xQ",
        "outputId": "e4bc53eb-8bae-43e6-fdc4-1e377a71d369"
      },
      "execution_count": null,
      "outputs": [
        {
          "output_type": "stream",
          "name": "stdout",
          "text": [
            "number of vowel: 3\n"
          ]
        }
      ]
    },
    {
      "cell_type": "code",
      "source": [
        "# Find the first occurrence of a number in a list\n",
        "# target = 7\n",
        "# output - 4\n",
        "\n",
        "def occur_num(my_list,target):\n",
        "  count=0\n",
        "  for i in my_list:\n",
        "    if i==target:\n",
        "      print(f\"first target occur: {count+1}\")\n",
        "      break\n",
        "    count+=1\n",
        "\n",
        "my_list = [3, 8, 2, 7, 4,9,7,5]\n",
        "target=int(input(\"enter number\"))\n",
        "occur_num(my_list,target)"
      ],
      "metadata": {
        "colab": {
          "base_uri": "https://localhost:8080/"
        },
        "id": "gLkWYs26PlP6",
        "outputId": "02f004f3-ff03-44e0-b577-1c0eebdd123c"
      },
      "execution_count": null,
      "outputs": [
        {
          "output_type": "stream",
          "name": "stdout",
          "text": [
            "enter number7\n",
            "first target occur: 4\n"
          ]
        }
      ]
    },
    {
      "cell_type": "code",
      "source": [
        "def occur_num(my_list, target):\n",
        "    count = 0  # Initialize a count variable to track the index\n",
        "    for i in my_list:\n",
        "        if i == target:  # Check if the current element matches the target\n",
        "            print(f\"First occurrence of {target} is at index: {count}\")  # Print the index\n",
        "            break  # Exit the loop after finding the first occurrence\n",
        "        count += 1  # Increment count to keep track of the index\n",
        "    else:\n",
        "        print(f\"{target} not found in the list\")  # Handle case if target is not found\n",
        "\n",
        "my_list = [3, 8, 2, 7, 4, 9, 7, 5]\n",
        "target = int(input(\"Enter number: \"))\n",
        "occur_num(my_list, target)  # Pass target as an argument\n"
      ],
      "metadata": {
        "id": "wSBGAY20VP8k"
      },
      "execution_count": null,
      "outputs": []
    },
    {
      "cell_type": "code",
      "source": [
        "def occur_num(my_list, target):\n",
        "    # Start iterating from index 1\n",
        "    for index in range(1, len(my_list)):\n",
        "        if my_list[index] == target:\n",
        "            print(f\"First occurrence of {target} is at position: {index + 1}\")  # +1 for 1-based indexing\n",
        "            break\n",
        "    else:\n",
        "        print(f\"{target} not found in the list\")  # If the target is not found\n",
        "\n",
        "my_list = [3, 8, 2, 7, 4, 9, 7, 5]\n",
        "target = int(input(\"Enter number: \"))\n",
        "occur_num(my_list, target)\n"
      ],
      "metadata": {
        "colab": {
          "base_uri": "https://localhost:8080/"
        },
        "id": "rueoLASgSS5D",
        "outputId": "8d2402b8-03d5-4c47-b706-bd0e67a9ccfe"
      },
      "execution_count": null,
      "outputs": [
        {
          "output_type": "stream",
          "name": "stdout",
          "text": [
            "Enter number: 7\n",
            "First occurrence of 7 is at position: 4\n"
          ]
        }
      ]
    },
    {
      "cell_type": "code",
      "source": [
        "# Define the function to check if each number is prime\n",
        "def prime(n):\n",
        "    for num in range(2, n + 1):  # Check each number from 2 to n\n",
        "        is_prime = True\n",
        "        for i in range(2, int(num ** 0.5) + 1):\n",
        "            if num % i == 0:\n",
        "                is_prime = False\n",
        "                break\n",
        "        if is_prime:\n",
        "            print(num)\n",
        "\n",
        "n = 50\n",
        "prime(n)\n",
        "\n",
        "\"\"\"Why int(num ** 0.5) + 1\n",
        "num ** 0.5 calculates the square root of num.\n",
        "int(num ** 0.5) truncates the square root to an integer.\n",
        "Adding + 1 ensures that you include the square root itself in the range, in case it’s an exact integer.\n",
        "Example\n",
        "For example, if num = 49, the square root is 7. The code will check divisors from 2 to 7. If 49 is divisible by any of these, then it’s not prime; otherwise, it is prime.\"\"\"\n"
      ],
      "metadata": {
        "colab": {
          "base_uri": "https://localhost:8080/",
          "height": 344
        },
        "id": "k_8HQbdif71v",
        "outputId": "d3d65441-c2e3-43ab-cf5d-909f64eda615"
      },
      "execution_count": null,
      "outputs": [
        {
          "output_type": "stream",
          "name": "stdout",
          "text": [
            "2\n",
            "3\n",
            "5\n",
            "7\n",
            "11\n",
            "13\n",
            "17\n",
            "19\n",
            "23\n",
            "29\n",
            "31\n",
            "37\n",
            "41\n",
            "43\n",
            "47\n"
          ]
        },
        {
          "output_type": "execute_result",
          "data": {
            "text/plain": [
              "'Why int(num ** 0.5) + 1\\nnum ** 0.5 calculates the square root of num.\\nint(num ** 0.5) truncates the square root to an integer.\\nAdding + 1 ensures that you include the square root itself in the range, in case it’s an exact integer.\\nExample\\nFor example, if num = 49, the square root is 7. The code will check divisors from 2 to 7. If 49 is divisible by any of these, then it’s not prime; otherwise, it is prime.'"
            ],
            "application/vnd.google.colaboratory.intrinsic+json": {
              "type": "string"
            }
          },
          "metadata": {},
          "execution_count": 11
        }
      ]
    },
    {
      "cell_type": "code",
      "source": [
        "def fab(n):\n",
        "    # Check for a non-positive value of n\n",
        "    if n <= 0:\n",
        "        print(\"Please enter a positive integer\")\n",
        "        return\n",
        "\n",
        "    # First term\n",
        "    a = 0\n",
        "    print(a, end=\" \")\n",
        "\n",
        "    # Second term\n",
        "    if n > 1:\n",
        "        b = 1\n",
        "        print(b, end=\" \")\n",
        "\n",
        "    # Compute the remaining terms, if n > 2\n",
        "    for i in range(2, n):\n",
        "        s = a + b\n",
        "        a = b\n",
        "        b = s\n",
        "        print(s, end=\" \")\n",
        "\n",
        "    print()  # Add a newline after printing the sequence\n",
        "\n",
        "# Get user input for number of terms\n",
        "n = int(input(\"Enter the number of terms: \"))\n",
        "fab(n)\n"
      ],
      "metadata": {
        "colab": {
          "base_uri": "https://localhost:8080/"
        },
        "id": "kc_QRgzullzg",
        "outputId": "5e0ad52a-a468-43f0-8b81-5b0bf86bf0d1"
      },
      "execution_count": null,
      "outputs": [
        {
          "output_type": "stream",
          "name": "stdout",
          "text": [
            "Enter the number of terms: 10\n",
            "0 1 1 2 3 5 8 13 21 34 \n"
          ]
        }
      ]
    },
    {
      "cell_type": "code",
      "source": [
        "from re import L\n",
        "#Find the common elements in two lists using a for loop:\n",
        "def com_ele(list1,list2):\n",
        "  #print(list1)\n",
        "  #print(list2)\n",
        "  for ele1 in list1:\n",
        "    for ele2 in list2:\n",
        "      if ele1==ele2:\n",
        "        print(ele1)\n",
        "\n",
        "list1 = [1, 2, 3, 4, 5]\n",
        "list2 = [3, 4, 5, 6, 7]\n",
        "com_ele(list1,list2)"
      ],
      "metadata": {
        "colab": {
          "base_uri": "https://localhost:8080/"
        },
        "id": "oUuMRS1llr_Y",
        "outputId": "8753ac00-3a80-4664-83f7-b5b39bd6fbaa"
      },
      "execution_count": null,
      "outputs": [
        {
          "output_type": "stream",
          "name": "stdout",
          "text": [
            "[1, 2, 3, 4, 5]\n",
            "[3, 4, 5, 6, 7]\n",
            "3\n",
            "4\n",
            "5\n"
          ]
        }
      ]
    },
    {
      "cell_type": "code",
      "source": [
        "def common_elements_set(list1, list2):\n",
        "    common = list(set(list1) & set(list2))  # Use set intersection\n",
        "    return common\n",
        "\n",
        "# Example lists\n",
        "list1 = [1, 2, 3, 4, 5]\n",
        "list2 = [3, 4, 5, 6, 7]\n",
        "common_elements_set(list1, list2)\n",
        "#print(\"Common elements (set intersection):\", common)\n"
      ],
      "metadata": {
        "colab": {
          "base_uri": "https://localhost:8080/"
        },
        "id": "KWD_x217n834",
        "outputId": "e32e21d0-a473-4bf4-adcd-444733fa8474"
      },
      "execution_count": null,
      "outputs": [
        {
          "output_type": "execute_result",
          "data": {
            "text/plain": [
              "[3, 4, 5]"
            ]
          },
          "metadata": {},
          "execution_count": 34
        }
      ]
    },
    {
      "cell_type": "code",
      "source": [
        "def common_elements_nested_loops(list1, list2):\n",
        "    common = []  # To store common elements\n",
        "    for ele1 in list1:          # Iterate through the first list\n",
        "        for ele2 in list2:      # Iterate through the second list\n",
        "            if ele1 == ele2:    # Check if elements are equal\n",
        "                common.append(ele1)  # Add common element to the list\n",
        "    return common\n",
        "\n",
        "# Example lists\n",
        "list1 = [1, 2, 3, 4, 5]\n",
        "list2 = [3, 4, 5, 6, 7]\n",
        "common = common_elements_nested_loops(list1, list2)\n",
        "print(\"Common elements (nested loops):\", common)\n"
      ],
      "metadata": {
        "colab": {
          "base_uri": "https://localhost:8080/"
        },
        "id": "KVF-vpExoSTq",
        "outputId": "5ffbcee7-27db-4117-a4f4-4eda0de0340d"
      },
      "execution_count": null,
      "outputs": [
        {
          "output_type": "stream",
          "name": "stdout",
          "text": [
            "Common elements (nested loops): [3, 4, 5]\n"
          ]
        }
      ]
    },
    {
      "cell_type": "code",
      "source": [
        "\n",
        "#Find the factorial of a number.\n",
        "def fact_num(n):\n",
        "  fact=1\n",
        "  for i in range(1,n+1):\n",
        "    fact=fact*i\n",
        "  print(fact)\n",
        "\n",
        "n=5\n",
        "fact_num(n)\n"
      ],
      "metadata": {
        "colab": {
          "base_uri": "https://localhost:8080/"
        },
        "id": "1NO57_GIog4q",
        "outputId": "3f1c7c4f-912a-4049-ffeb-e03334f031fd"
      },
      "execution_count": null,
      "outputs": [
        {
          "output_type": "stream",
          "name": "stdout",
          "text": [
            "120\n"
          ]
        }
      ]
    },
    {
      "cell_type": "code",
      "source": [],
      "metadata": {
        "id": "fLvBEWHdo5jC"
      },
      "execution_count": null,
      "outputs": []
    },
    {
      "cell_type": "markdown",
      "source": [
        "# Scopes and Closure\n",
        "\n",
        "* Scopes: A variable is only available from inside the region it is created. This is called scope.\n",
        "\n",
        "{ - scope start\n",
        "\n",
        "} - scope end"
      ],
      "metadata": {
        "id": "s4cl33VwPohM"
      }
    },
    {
      "cell_type": "code",
      "source": [
        "# Scopes\n",
        "username=\"chaiaurcode\"\n",
        "def test():\n",
        "  pass\n",
        "\n",
        "if True:\n",
        "  pass"
      ],
      "metadata": {
        "id": "-pH7Qw9KP1KQ"
      },
      "execution_count": null,
      "outputs": []
    },
    {
      "cell_type": "code",
      "source": [
        "username=\"chaiaurcode\"\n",
        "\n",
        "def func():\n",
        "  username=\"chai\"\n",
        "\n",
        "\n",
        "print(username)"
      ],
      "metadata": {
        "colab": {
          "base_uri": "https://localhost:8080/"
        },
        "id": "h28QHr91Uc92",
        "outputId": "8cf6f60d-c0a2-49f4-aca9-bb220c7ccc84"
      },
      "execution_count": null,
      "outputs": [
        {
          "output_type": "stream",
          "name": "stdout",
          "text": [
            "chaiaurcode\n"
          ]
        }
      ]
    },
    {
      "cell_type": "code",
      "source": [
        "username=\"chaiaurcode\"\n",
        "\n",
        "def func():\n",
        "  username=\"chai\"\n",
        "  print(username)\n",
        "\n",
        "print(username)"
      ],
      "metadata": {
        "colab": {
          "base_uri": "https://localhost:8080/"
        },
        "id": "uzfhS2gcVdtm",
        "outputId": "89f9716a-aa79-479a-b7ee-b8ec26df2992"
      },
      "execution_count": null,
      "outputs": [
        {
          "output_type": "stream",
          "name": "stdout",
          "text": [
            "chaiaurcode\n"
          ]
        }
      ]
    },
    {
      "cell_type": "code",
      "source": [
        "username=\"chaiaurcode\"\n",
        "\n",
        "def func():\n",
        "  username=\"chai\"\n",
        "  print(username)\n",
        "\n",
        "print(username)\n",
        "func()"
      ],
      "metadata": {
        "colab": {
          "base_uri": "https://localhost:8080/"
        },
        "id": "M4IqkXe1VhIl",
        "outputId": "f1e5fc6a-2e05-46c4-95f5-a1c2d1f659a4"
      },
      "execution_count": null,
      "outputs": [
        {
          "output_type": "stream",
          "name": "stdout",
          "text": [
            "chaiaurcode\n",
            "chai\n"
          ]
        }
      ]
    },
    {
      "cell_type": "code",
      "source": [
        "username=\"chaiaurcode\"\n",
        "\n",
        "def func():\n",
        "  #username=\"chai\"\n",
        "  print(username)\n",
        "\n",
        "print(username)\n",
        "func()"
      ],
      "metadata": {
        "colab": {
          "base_uri": "https://localhost:8080/"
        },
        "id": "enNZiF6CVm7k",
        "outputId": "861c5003-b3d5-4fa9-c833-b0a9a57269c4"
      },
      "execution_count": null,
      "outputs": [
        {
          "output_type": "stream",
          "name": "stdout",
          "text": [
            "chaiaurcode\n",
            "chaiaurcode\n"
          ]
        }
      ]
    },
    {
      "cell_type": "code",
      "source": [
        "username=\"chaiaurcode\"\n",
        "\n",
        "def func():\n",
        "  username=\"chai\"\n",
        "  print(username)\n",
        "\n",
        "print(username)\n",
        "func()"
      ],
      "metadata": {
        "id": "lz5WyT54VuMA"
      },
      "execution_count": null,
      "outputs": []
    },
    {
      "cell_type": "code",
      "source": [
        "x=99\n",
        "def func2(y):\n",
        "  z=x+y\n",
        "  return z\n",
        "\n",
        "result=func2(1)\n",
        "print(result)"
      ],
      "metadata": {
        "colab": {
          "base_uri": "https://localhost:8080/"
        },
        "id": "JzgwszTuV-Jd",
        "outputId": "381af252-efe2-414a-d636-dfbe8a67742b"
      },
      "execution_count": null,
      "outputs": [
        {
          "output_type": "stream",
          "name": "stdout",
          "text": [
            "100\n"
          ]
        }
      ]
    },
    {
      "cell_type": "code",
      "source": [
        "x=99\n",
        "\n",
        "def func3():\n",
        "\n",
        "  x=88\n",
        "print(x)\n"
      ],
      "metadata": {
        "colab": {
          "base_uri": "https://localhost:8080/"
        },
        "id": "0pTX2jzOWcQt",
        "outputId": "5d272845-35e8-46f6-af93-cb3c3d4d51d1"
      },
      "execution_count": null,
      "outputs": [
        {
          "output_type": "stream",
          "name": "stdout",
          "text": [
            "99\n"
          ]
        }
      ]
    },
    {
      "cell_type": "code",
      "source": [
        "x=99\n",
        "\n",
        "def func3():\n",
        "  global x\n",
        "  x=12\n",
        "\n",
        "func3()\n",
        "print(x)\n"
      ],
      "metadata": {
        "colab": {
          "base_uri": "https://localhost:8080/"
        },
        "id": "YM2NoExWWxh6",
        "outputId": "8e275e71-ef30-4a3e-801f-7c67b65436d2"
      },
      "execution_count": null,
      "outputs": [
        {
          "output_type": "stream",
          "name": "stdout",
          "text": [
            "12\n"
          ]
        }
      ]
    },
    {
      "cell_type": "code",
      "source": [
        "x=99\n",
        "\n",
        "def f1():\n",
        "  x=88\n",
        "  def f2():\n",
        "    print(x)\n",
        "  f2()\n",
        "\n",
        "f1()"
      ],
      "metadata": {
        "colab": {
          "base_uri": "https://localhost:8080/"
        },
        "id": "pGKnBMlrXXFC",
        "outputId": "57c35d60-1794-4064-e6f0-6498c5344a84"
      },
      "execution_count": null,
      "outputs": [
        {
          "output_type": "stream",
          "name": "stdout",
          "text": [
            "88\n"
          ]
        }
      ]
    },
    {
      "cell_type": "code",
      "source": [
        "x=99\n",
        "\n",
        "def f1():\n",
        "  #x=88\n",
        "  def f2():\n",
        "    print(x)\n",
        "  f2()\n",
        "\n",
        "f1()"
      ],
      "metadata": {
        "colab": {
          "base_uri": "https://localhost:8080/"
        },
        "id": "_Shilx-fX2Xm",
        "outputId": "392501c3-f2b7-4066-b938-3f75671992d2"
      },
      "execution_count": null,
      "outputs": [
        {
          "output_type": "stream",
          "name": "stdout",
          "text": [
            "99\n"
          ]
        }
      ]
    },
    {
      "cell_type": "code",
      "source": [
        "x=99\n",
        "\n",
        "def f1():\n",
        "  x=88\n",
        "  def f2():\n",
        "    print(x)\n",
        "  return f2\n",
        "\n",
        "myResult= f1()\n",
        "myResult()"
      ],
      "metadata": {
        "colab": {
          "base_uri": "https://localhost:8080/"
        },
        "id": "O_vh6smeYAX6",
        "outputId": "a234848d-2cf8-4405-e0f4-6973cb39cfe8"
      },
      "execution_count": null,
      "outputs": [
        {
          "output_type": "stream",
          "name": "stdout",
          "text": [
            "88\n"
          ]
        }
      ]
    },
    {
      "cell_type": "code",
      "source": [
        "# Closure\n",
        "def chaicoder(num):\n",
        "  def actual(x):\n",
        "    return x**num\n",
        "  return actual\n",
        "\n",
        "f=chaicoder(2)\n",
        "g= chaicoder(3)\n",
        "\n",
        "print(f(3))\n",
        "print(g(3))"
      ],
      "metadata": {
        "colab": {
          "base_uri": "https://localhost:8080/"
        },
        "id": "4j8X9NEcYsa0",
        "outputId": "a7f936a4-93b9-4f29-f4db-67bcd77b45f3"
      },
      "execution_count": null,
      "outputs": [
        {
          "output_type": "stream",
          "name": "stdout",
          "text": [
            "9\n",
            "27\n"
          ]
        }
      ]
    }
  ],
  "metadata": {
    "colab": {
      "collapsed_sections": [
        "MTaPKXxPIkeF",
        "TBCPT1ajPD7-",
        "3NuX2aduXV62",
        "EuNwYZAoYQ8B",
        "Z3bbQpCfKtjc",
        "yEiQg-UbeZXX",
        "EO7D6nN2PIZ5",
        "QD_LErDg4fmN",
        "YqVduO72Y8CI",
        "us5Tonxzbksl",
        "rqHNMqX9hWWH",
        "ufYQnNNka8El",
        "NQkCMgeOmgva",
        "13O_bWDNKQYp",
        "jOkeZNihIaCl",
        "zbMwkmGtfFoK",
        "oBX9Fi8Xg02y",
        "MNqT_QvFikbv",
        "ttjvYs-9cacE",
        "hlecy82HpSnz",
        "hofMUtpUWOx7",
        "s4cl33VwPohM"
      ],
      "provenance": []
    },
    "kernelspec": {
      "display_name": "Python 3",
      "name": "python3"
    },
    "language_info": {
      "name": "python"
    }
  },
  "nbformat": 4,
  "nbformat_minor": 0
}